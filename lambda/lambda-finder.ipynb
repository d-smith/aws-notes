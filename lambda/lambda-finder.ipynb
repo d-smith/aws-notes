{
 "cells": [
  {
   "cell_type": "code",
   "execution_count": null,
   "metadata": {
    "collapsed": false
   },
   "outputs": [],
   "source": [
    "#TODO - list regions via ec2 client\n",
    "import boto3\n",
    "ec2client = boto3.client('ec2')\n",
    "response = ec2client.describe_regions()\n",
    "regions = response['Regions']\n",
    "print regions"
   ]
  },
  {
   "cell_type": "code",
   "execution_count": null,
   "metadata": {
    "collapsed": false
   },
   "outputs": [],
   "source": [
    "import os\n",
    "\n",
    "client = boto3.client('lambda')\n",
    "for region in regions:\n",
    "    regionName = region['RegionName']\n",
    "    print regionName\n",
    "    os.environ['AWS_DEFAULT_REGION'] = regionName\n",
    "    resp = client.list_functions()\n",
    "    functions = resp['Functions']\n",
    "    for f in functions:\n",
    "        print '\\t',f['FunctionName'], f['Runtime']"
   ]
  },
  {
   "cell_type": "code",
   "execution_count": null,
   "metadata": {
    "collapsed": true
   },
   "outputs": [],
   "source": []
  }
 ],
 "metadata": {
  "kernelspec": {
   "display_name": "Python 2",
   "language": "python",
   "name": "python2"
  },
  "language_info": {
   "codemirror_mode": {
    "name": "ipython",
    "version": 2
   },
   "file_extension": ".py",
   "mimetype": "text/x-python",
   "name": "python",
   "nbconvert_exporter": "python",
   "pygments_lexer": "ipython2",
   "version": "2.7.12"
  }
 },
 "nbformat": 4,
 "nbformat_minor": 0
}
