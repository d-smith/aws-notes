{
 "cells": [
  {
   "cell_type": "markdown",
   "metadata": {},
   "source": [
    "# Simple System Manager - Parameter Store\n",
    "\n",
    "The simple system manager has a parameter store to allow parameters to be stored and accessed. It can be secured using standard AWS security, can encrypt credentials, and so on."
   ]
  },
  {
   "cell_type": "code",
   "execution_count": null,
   "metadata": {
    "collapsed": true
   },
   "outputs": [],
   "source": [
    "import boto3\n",
    "\n",
    "ssm_client = boto3.client('ssm')"
   ]
  },
  {
   "cell_type": "code",
   "execution_count": null,
   "metadata": {
    "collapsed": false
   },
   "outputs": [],
   "source": [
    "for i in range(1,26):\n",
    "    key = 'sample.' + str(i)\n",
    "    val = 'Value' + str(i)\n",
    "    ssm_client.put_parameter(\n",
    "        Name=key,\n",
    "        Value=val,\n",
    "        Type='String',\n",
    "        Overwrite=True\n",
    "    )\n",
    "    \n",
    "    "
   ]
  },
  {
   "cell_type": "code",
   "execution_count": null,
   "metadata": {
    "collapsed": false
   },
   "outputs": [],
   "source": [
    "# Store other some values\n",
    "ssm_client.put_parameter(\n",
    "    Name='prod.p1',\n",
    "    Description='Parameter p1 in sample namespace',\n",
    "    Value='p1 value prod',\n",
    "    Type='String',\n",
    "    Overwrite=True\n",
    ")\n",
    "\n",
    "ssm_client.put_parameter(\n",
    "    Name='dev.p1',\n",
    "    Description='Parameter p1 in sample namespace',\n",
    "    Value='p1 value dev',\n",
    "    Type='String',\n",
    "    Overwrite=True\n",
    ")"
   ]
  },
  {
   "cell_type": "code",
   "execution_count": null,
   "metadata": {
    "collapsed": false
   },
   "outputs": [],
   "source": [
    "all_done = 'that rug really tied the room together'\n",
    "response = ssm_client.describe_parameters()\n",
    "print response\n",
    "\n",
    "for i in range (1,100):\n",
    "    nextToken = response.get('NextToken',all_done)\n",
    "    if nextToken == all_done:\n",
    "        break\n",
    "        \n",
    "    print '=====> Call again'\n",
    "    response = ssm_client.describe_parameters(\n",
    "        NextToken=nextToken\n",
    "    )\n",
    "    print response"
   ]
  },
  {
   "cell_type": "code",
   "execution_count": null,
   "metadata": {
    "collapsed": false
   },
   "outputs": [],
   "source": [
    "# Retrieve a value\n",
    "\n",
    "response = ssm_client.get_parameters(\n",
    "    Names=[\n",
    "        'sample.p1',\n",
    "    ]\n",
    ")\n",
    "\n",
    "params = response['Parameters']\n",
    "print 'Value of sample.p1: \\'{}\\''.format(next((x['Value'] for x in params if x['Name'] == 'sample.p1'), None))\n",
    "print 'Value of foo: {}'.format(next((x['Value'] for x in params if x['Name'] == 'foo'), None))"
   ]
  },
  {
   "cell_type": "markdown",
   "metadata": {
    "collapsed": true
   },
   "source": [
    "## Encrypted Values"
   ]
  },
  {
   "cell_type": "markdown",
   "metadata": {},
   "source": [
    "### Create a Key"
   ]
  },
  {
   "cell_type": "code",
   "execution_count": null,
   "metadata": {
    "collapsed": false
   },
   "outputs": [],
   "source": [
    "client = boto3.client('kms')\n",
    "response = client.create_key(\n",
    "    Description='sample-key',\n",
    ")\n",
    "\n",
    "print response"
   ]
  },
  {
   "cell_type": "code",
   "execution_count": null,
   "metadata": {
    "collapsed": false
   },
   "outputs": [],
   "source": [
    "key_id = response['KeyMetadata']['KeyId']\n",
    "print key_id"
   ]
  },
  {
   "cell_type": "code",
   "execution_count": null,
   "metadata": {
    "collapsed": true
   },
   "outputs": [],
   "source": [
    "response = ssm_client.put_parameter(\n",
    "    Name='sample.my_secret',\n",
    "    Value='seriously do not tell',\n",
    "    Type='SecureString',\n",
    "    KeyId=key_id\n",
    ")"
   ]
  },
  {
   "cell_type": "code",
   "execution_count": null,
   "metadata": {
    "collapsed": false
   },
   "outputs": [],
   "source": [
    "response = ssm_client.get_parameters(\n",
    "    Names=[\n",
    "        'sample.my_secret',\n",
    "    ]\n",
    ")\n",
    "\n",
    "params = response['Parameters']\n",
    "print params"
   ]
  },
  {
   "cell_type": "code",
   "execution_count": null,
   "metadata": {
    "collapsed": false
   },
   "outputs": [],
   "source": [
    "response = ssm_client.get_parameters(\n",
    "    Names=[\n",
    "        'sample.my_secret',\n",
    "    ],\n",
    "    WithDecryption=True\n",
    ")\n",
    "print response['Parameters']"
   ]
  },
  {
   "cell_type": "code",
   "execution_count": null,
   "metadata": {
    "collapsed": true
   },
   "outputs": [],
   "source": []
  }
 ],
 "metadata": {
  "kernelspec": {
   "display_name": "Python 2",
   "language": "python",
   "name": "python2"
  },
  "language_info": {
   "codemirror_mode": {
    "name": "ipython",
    "version": 2
   },
   "file_extension": ".py",
   "mimetype": "text/x-python",
   "name": "python",
   "nbconvert_exporter": "python",
   "pygments_lexer": "ipython2",
   "version": "2.7.12"
  }
 },
 "nbformat": 4,
 "nbformat_minor": 0
}
