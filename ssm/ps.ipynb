{
 "cells": [
  {
   "cell_type": "markdown",
   "metadata": {},
   "source": [
    "# Simple System Manager - Parameter Store\n",
    "\n",
    "The simple system manager has a parameter store to allow parameters to be stored and accessed. It can be secured using standard AWS security, can encrypt credentials, and so on."
   ]
  },
  {
   "cell_type": "code",
   "execution_count": null,
   "metadata": {
    "collapsed": true
   },
   "outputs": [],
   "source": [
    "import boto3\n",
    "\n",
    "ssm_client = boto3.client('ssm')"
   ]
  },
  {
   "cell_type": "code",
   "execution_count": null,
   "metadata": {
    "collapsed": false
   },
   "outputs": [],
   "source": [
    "# Store a value\n",
    "response = ssm_client.put_parameter(\n",
    "    Name='sample.p1',\n",
    "    Description='Parameter p1 in sample namespace',\n",
    "    Value='p1 value',\n",
    "    Type='String',\n",
    "    Overwrite=True\n",
    ")\n",
    "\n",
    "print response"
   ]
  },
  {
   "cell_type": "code",
   "execution_count": null,
   "metadata": {
    "collapsed": false
   },
   "outputs": [],
   "source": [
    "response = ssm_client.describe_parameters()\n",
    "print response"
   ]
  },
  {
   "cell_type": "code",
   "execution_count": null,
   "metadata": {
    "collapsed": false
   },
   "outputs": [],
   "source": [
    "# Retrieve a value\n",
    "\n",
    "response = ssm_client.get_parameters(\n",
    "    Names=[\n",
    "        'sample.p1',\n",
    "    ]\n",
    ")\n",
    "\n",
    "params = response['Parameters']\n",
    "print 'Value of sample.p1: \\'{}\\''.format(next((x['Value'] for x in params if x['Name'] == 'sample.p1'), None))\n",
    "print 'Value of foo: {}'.format(next((x['Value'] for x in params if x['Name'] == 'foo'), None))"
   ]
  },
  {
   "cell_type": "code",
   "execution_count": null,
   "metadata": {
    "collapsed": true
   },
   "outputs": [],
   "source": []
  }
 ],
 "metadata": {
  "kernelspec": {
   "display_name": "Python 2",
   "language": "python",
   "name": "python2"
  },
  "language_info": {
   "codemirror_mode": {
    "name": "ipython",
    "version": 2
   },
   "file_extension": ".py",
   "mimetype": "text/x-python",
   "name": "python",
   "nbconvert_exporter": "python",
   "pygments_lexer": "ipython2",
   "version": "2.7.12"
  }
 },
 "nbformat": 4,
 "nbformat_minor": 0
}
