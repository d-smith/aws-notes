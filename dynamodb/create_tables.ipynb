{
 "cells": [
  {
   "cell_type": "code",
   "execution_count": null,
   "metadata": {
    "collapsed": true
   },
   "outputs": [],
   "source": [
    "# Create some dynamodb table etc based on acloudguru dev cert lab"
   ]
  },
  {
   "cell_type": "code",
   "execution_count": null,
   "metadata": {
    "collapsed": true
   },
   "outputs": [],
   "source": [
    "import boto3\n",
    "\n",
    "ddb = boto3.client('dynamodb')"
   ]
  },
  {
   "cell_type": "code",
   "execution_count": null,
   "metadata": {
    "collapsed": false
   },
   "outputs": [],
   "source": [
    "# Product Catalog\n",
    "response = ddb.create_table(\n",
    "    TableName='ProductCatalog',\n",
    "    AttributeDefinitions=[\n",
    "        {\n",
    "            'AttributeName': 'Id',\n",
    "            'AttributeType': 'N'\n",
    "        },\n",
    "    ],\n",
    "    KeySchema=[\n",
    "        {\n",
    "            'AttributeName': 'Id',\n",
    "            'KeyType': 'HASH'\n",
    "        },\n",
    "    ],\n",
    "    ProvisionedThroughput={\n",
    "        'ReadCapacityUnits': 10,\n",
    "        'WriteCapacityUnits': 5\n",
    "    }\n",
    ")\n",
    "\n",
    "print response"
   ]
  },
  {
   "cell_type": "code",
   "execution_count": null,
   "metadata": {
    "collapsed": false
   },
   "outputs": [],
   "source": [
    "# Forum\n",
    "response = ddb.create_table(\n",
    "    TableName='Forum',\n",
    "     AttributeDefinitions=[\n",
    "        {\n",
    "            'AttributeName': 'Name',\n",
    "            'AttributeType': 'S'\n",
    "        },\n",
    "    ],\n",
    "    KeySchema=[\n",
    "        {\n",
    "            'AttributeName': 'Name',\n",
    "            'KeyType': 'HASH'\n",
    "        },\n",
    "    ],\n",
    "    ProvisionedThroughput={\n",
    "        'ReadCapacityUnits': 10,\n",
    "        'WriteCapacityUnits': 5\n",
    "    }\n",
    ")\n",
    "\n",
    "print response"
   ]
  },
  {
   "cell_type": "code",
   "execution_count": null,
   "metadata": {
    "collapsed": false
   },
   "outputs": [],
   "source": [
    "# Thread\n",
    "response = ddb.create_table(\n",
    "    TableName='Thread',\n",
    "     AttributeDefinitions=[\n",
    "        {\n",
    "            'AttributeName': 'ForumName',\n",
    "            'AttributeType': 'S'\n",
    "        },\n",
    "        {\n",
    "            'AttributeName': 'Subject',\n",
    "            'AttributeType': 'S'\n",
    "        }\n",
    "    ],\n",
    "    KeySchema=[\n",
    "        {\n",
    "            'AttributeName': 'ForumName',\n",
    "            'KeyType': 'HASH'\n",
    "        },\n",
    "        {\n",
    "            'AttributeName': 'Subject',\n",
    "            'KeyType': 'RANGE'\n",
    "        }\n",
    "    ],\n",
    "    ProvisionedThroughput={\n",
    "        'ReadCapacityUnits': 10,\n",
    "        'WriteCapacityUnits': 5\n",
    "    }\n",
    ")\n",
    "\n",
    "print response"
   ]
  },
  {
   "cell_type": "code",
   "execution_count": null,
   "metadata": {
    "collapsed": false
   },
   "outputs": [],
   "source": [
    "# Reply\n",
    "response = ddb.create_table(\n",
    "    TableName='Reply',\n",
    "     AttributeDefinitions=[\n",
    "        {\n",
    "            'AttributeName': 'Id',\n",
    "            'AttributeType': 'S'\n",
    "        },\n",
    "        {\n",
    "            'AttributeName': 'ReplyDateTime',\n",
    "            'AttributeType': 'S'\n",
    "        },\n",
    "        {\n",
    "            'AttributeName': 'PostedBy',\n",
    "            'AttributeType': 'S'\n",
    "        }\n",
    "    ],\n",
    "    LocalSecondaryIndexes=[\n",
    "        {\n",
    "            'IndexName': 'PostedBy-index',\n",
    "            'KeySchema': [\n",
    "                {\n",
    "                    'AttributeName': 'Id',\n",
    "                    'KeyType': 'HASH'\n",
    "                },\n",
    "                {\n",
    "                    'AttributeName': 'PostedBy',\n",
    "                    'KeyType': 'RANGE'\n",
    "                }\n",
    "            ],\n",
    "            'Projection': {\n",
    "                'ProjectionType': 'KEYS_ONLY'\n",
    "            }\n",
    "        },\n",
    "    ],\n",
    "    KeySchema=[\n",
    "        {\n",
    "            'AttributeName': 'Id',\n",
    "            'KeyType': 'HASH'\n",
    "        },\n",
    "        {\n",
    "            'AttributeName': 'ReplyDateTime',\n",
    "            'KeyType': 'RANGE'\n",
    "        }\n",
    "    ],\n",
    "    ProvisionedThroughput={\n",
    "        'ReadCapacityUnits': 10,\n",
    "        'WriteCapacityUnits': 5\n",
    "    }\n",
    ")\n",
    "\n",
    "print response"
   ]
  },
  {
   "cell_type": "code",
   "execution_count": null,
   "metadata": {
    "collapsed": false
   },
   "outputs": [],
   "source": [
    "print 'wait for ProductCatalog table creation'\n",
    "waiter = ddb.get_waiter('table_exists')\n",
    "waiter.wait(\n",
    "    TableName='ProductCatalog'\n",
    ")\n",
    "print 'ProductCatalog created'\n",
    "\n",
    "waiter.wait(\n",
    "    TableName='Forum'\n",
    ")\n",
    "print 'Forum created'\n",
    "\n",
    "waiter.wait(\n",
    "    TableName='Thread'\n",
    ")\n",
    "print 'Thread created'\n",
    "\n",
    "waiter.wait(\n",
    "    TableName='Reply'\n",
    ")\n",
    "print 'Reply created'\n",
    "\n"
   ]
  },
  {
   "cell_type": "code",
   "execution_count": null,
   "metadata": {
    "collapsed": false
   },
   "outputs": [],
   "source": [
    "# Delete table\n",
    "response = ddb.delete_table(\n",
    "    TableName='ProductCatalog'\n",
    ")\n",
    "print response\n",
    "\n",
    "response = ddb.delete_table(\n",
    "    TableName='Forum'\n",
    ")\n",
    "print response\n",
    "\n",
    "response = ddb.delete_table(\n",
    "    TableName='Thread'\n",
    ")\n",
    "print response\n",
    "\n",
    "response = ddb.delete_table(\n",
    "    TableName='Reply'\n",
    ")\n",
    "print response"
   ]
  },
  {
   "cell_type": "code",
   "execution_count": null,
   "metadata": {
    "collapsed": false
   },
   "outputs": [],
   "source": [
    "# Wait for table delete\n",
    "print 'wait for ProductCatalog table destruction'\n",
    "waiter = ddb.get_waiter('table_not_exists')\n",
    "waiter.wait(\n",
    "    TableName='ProductCatalog'\n",
    ")\n",
    "print 'table destroyed'"
   ]
  },
  {
   "cell_type": "code",
   "execution_count": null,
   "metadata": {
    "collapsed": false
   },
   "outputs": [],
   "source": [
    "print 'wait for Forum table destruction'\n",
    "waiter = ddb.get_waiter('table_not_exists')\n",
    "waiter.wait(\n",
    "    TableName='Forum'\n",
    ")\n",
    "print 'table destroyed'"
   ]
  },
  {
   "cell_type": "code",
   "execution_count": null,
   "metadata": {
    "collapsed": false
   },
   "outputs": [],
   "source": [
    "print 'wait for Thread table destruction'\n",
    "waiter = ddb.get_waiter('table_not_exists')\n",
    "waiter.wait(\n",
    "    TableName='Thread'\n",
    ")\n",
    "print 'table destroyed'"
   ]
  },
  {
   "cell_type": "code",
   "execution_count": null,
   "metadata": {
    "collapsed": false
   },
   "outputs": [],
   "source": [
    "print 'wait for Reply table destruction'\n",
    "waiter = ddb.get_waiter('table_not_exists')\n",
    "waiter.wait(\n",
    "    TableName='Reply'\n",
    ")\n",
    "print 'table destroyed'"
   ]
  },
  {
   "cell_type": "code",
   "execution_count": null,
   "metadata": {
    "collapsed": true
   },
   "outputs": [],
   "source": []
  }
 ],
 "metadata": {
  "kernelspec": {
   "display_name": "Python 2",
   "language": "python",
   "name": "python2"
  },
  "language_info": {
   "codemirror_mode": {
    "name": "ipython",
    "version": 2
   },
   "file_extension": ".py",
   "mimetype": "text/x-python",
   "name": "python",
   "nbconvert_exporter": "python",
   "pygments_lexer": "ipython2",
   "version": "2.7.12"
  }
 },
 "nbformat": 4,
 "nbformat_minor": 0
}
