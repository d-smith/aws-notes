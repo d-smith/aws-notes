{
 "cells": [
  {
   "cell_type": "code",
   "execution_count": null,
   "metadata": {
    "collapsed": true
   },
   "outputs": [],
   "source": [
    "import boto3\n",
    "import datetime\n",
    "import time\n",
    "\n",
    "ddb = boto3.client('dynamodb')"
   ]
  },
  {
   "cell_type": "code",
   "execution_count": null,
   "metadata": {
    "collapsed": true
   },
   "outputs": [],
   "source": [
    "table_name = 'serverless-rest-api-with-dynamodb-hc1'\n",
    "id_prefix = 'xx'"
   ]
  },
  {
   "cell_type": "code",
   "execution_count": null,
   "metadata": {
    "collapsed": false
   },
   "outputs": [],
   "source": [
    "for i in range(0,1):\n",
    "    id = '{}{}'.format(id_prefix, i)\n",
    "    ts = time.mktime(datetime.datetime.now().timetuple())\n",
    "    \n",
    "\n",
    "    response = ddb.put_item(\n",
    "        TableName=table_name,\n",
    "        Item={\n",
    "            \"id\": {\n",
    "                \"S\": id\n",
    "            },\n",
    "            \"ts\": {\n",
    "                \"N\": str(ts)\n",
    "            },\n",
    "            \"replicate\": {\n",
    "                \"BOOL\": True\n",
    "            },\n",
    "            \"wid\": {\n",
    "                \"S\": \"x-1\"\n",
    "            }\n",
    "        }\n",
    "    )\n",
    "\n",
    "    print response"
   ]
  },
  {
   "cell_type": "code",
   "execution_count": null,
   "metadata": {
    "collapsed": true
   },
   "outputs": [],
   "source": []
  }
 ],
 "metadata": {
  "kernelspec": {
   "display_name": "Python 2",
   "language": "python",
   "name": "python2"
  },
  "language_info": {
   "codemirror_mode": {
    "name": "ipython",
    "version": 2
   },
   "file_extension": ".py",
   "mimetype": "text/x-python",
   "name": "python",
   "nbconvert_exporter": "python",
   "pygments_lexer": "ipython2",
   "version": "2.7.12"
  }
 },
 "nbformat": 4,
 "nbformat_minor": 0
}
