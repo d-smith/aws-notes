{
 "cells": [
  {
   "cell_type": "code",
   "execution_count": null,
   "metadata": {
    "collapsed": true
   },
   "outputs": [],
   "source": [
    "import boto3\n",
    "\n",
    "ddb = boto3.client('dynamodb')"
   ]
  },
  {
   "cell_type": "code",
   "execution_count": null,
   "metadata": {
    "collapsed": false
   },
   "outputs": [],
   "source": [
    "response = ddb.create_table(\n",
    "    TableName='EventStore',\n",
    "     AttributeDefinitions=[\n",
    "        {\n",
    "            'AttributeName': 'AggregateId',\n",
    "            'AttributeType': 'S'\n",
    "        },\n",
    "        {\n",
    "            'AttributeName': 'Version',\n",
    "            'AttributeType': 'N'\n",
    "        }\n",
    "    ],\n",
    "    KeySchema=[\n",
    "        {\n",
    "            'AttributeName': 'AggregateId',\n",
    "            'KeyType': 'HASH'\n",
    "        },\n",
    "        {\n",
    "            'AttributeName': 'Version',\n",
    "            'KeyType': 'RANGE'\n",
    "        }\n",
    "    ],\n",
    "    ProvisionedThroughput={\n",
    "        'ReadCapacityUnits': 10,\n",
    "        'WriteCapacityUnits': 5\n",
    "    }\n",
    ")\n",
    "\n",
    "print response"
   ]
  },
  {
   "cell_type": "code",
   "execution_count": null,
   "metadata": {
    "collapsed": true
   },
   "outputs": [],
   "source": [
    "class Event:\n",
    "    kind = 'esevent'\n",
    "    \n",
    "    def __init__(self, id, version, typecode, payload):\n",
    "        self.id = id\n",
    "        self.version = version\n",
    "        self.typecode = typecode\n",
    "        self.payload = payload\n",
    "        \n",
    "    def __str__(self):\n",
    "        return 'Event {} - {}'.format(self.id. self.version)"
   ]
  },
  {
   "cell_type": "code",
   "execution_count": null,
   "metadata": {
    "collapsed": false
   },
   "outputs": [],
   "source": [
    "addUser = {}\n",
    "addUser['Name'] = 'doug'\n",
    "addUser['Email'] = 'doug@dev.null'\n",
    "type(addUser)\n"
   ]
  },
  {
   "cell_type": "code",
   "execution_count": null,
   "metadata": {
    "collapsed": false
   },
   "outputs": [],
   "source": [
    "class UserAdded(Event):\n",
    "    kind = 'useradded'\n",
    "\n",
    "class EmailUpdated(Event):\n",
    "    kind = 'emailupdated'\n",
    "    \n",
    "def print_event_kind(event):\n",
    "    print type(event)\n",
    "    print event.kind\n"
   ]
  },
  {
   "cell_type": "code",
   "execution_count": null,
   "metadata": {
    "collapsed": false
   },
   "outputs": [],
   "source": [
    "e1 = UserAdded('ag1',1, 'adduser', addUser)\n",
    "print_event_kind(e1)"
   ]
  },
  {
   "cell_type": "code",
   "execution_count": null,
   "metadata": {
    "collapsed": false
   },
   "outputs": [],
   "source": [
    "print e1.id\n",
    "print type(e1)"
   ]
  },
  {
   "cell_type": "code",
   "execution_count": null,
   "metadata": {
    "collapsed": true
   },
   "outputs": [],
   "source": [
    "updateEmail = {}\n",
    "updateEmail['Email'] = \"reallydoug@somewhere.com\"\n",
    "e2 = EmailUpdated('ag1',2, 'updateemail', updateEmail)"
   ]
  },
  {
   "cell_type": "code",
   "execution_count": null,
   "metadata": {
    "collapsed": false
   },
   "outputs": [],
   "source": [
    "from boto3.dynamodb.types import TypeSerializer\n",
    "\n",
    "\n",
    "ts = TypeSerializer()\n",
    "addUserMap = ts.serialize(addUser)\n",
    "print addUserMap"
   ]
  },
  {
   "cell_type": "code",
   "execution_count": null,
   "metadata": {
    "collapsed": false
   },
   "outputs": [],
   "source": [
    "response = ddb.batch_write_item(\n",
    "    RequestItems={\n",
    "        'EventStore':[\n",
    "            {\n",
    "                'PutRequest':{\n",
    "                    'Item':{\n",
    "                        'AggregateId':{'S': e1.id},\n",
    "                        'Version':{'N':str(e1.version)},\n",
    "                        'Payload':ts.serialize(e1.payload),\n",
    "                        'Typecode':{'S':e1.typecode}\n",
    "                    }\n",
    "                }\n",
    "            }\n",
    "        ]\n",
    "    }\n",
    ")\n",
    "\n",
    "print response"
   ]
  },
  {
   "cell_type": "code",
   "execution_count": null,
   "metadata": {
    "collapsed": false
   },
   "outputs": [],
   "source": [
    "\n",
    "response = ddb.batch_write_item(\n",
    "    RequestItems={\n",
    "        'EventStore':[\n",
    "            {\n",
    "                'PutRequest':{\n",
    "                    'Item':{\n",
    "                        'AggregateId':{'S': e2.id},\n",
    "                        'Version':{'N':str(e2.version)},\n",
    "                        'Payload':ts.serialize(e2.payload),\n",
    "                        'Typecode':{'S':e2.typecode}\n",
    "                    }\n",
    "                }\n",
    "            }\n",
    "        ]\n",
    "    }\n",
    ")\n",
    "\n",
    "print response"
   ]
  },
  {
   "cell_type": "code",
   "execution_count": null,
   "metadata": {
    "collapsed": false
   },
   "outputs": [],
   "source": [
    "from boto3.dynamodb.conditions import Key\n",
    "\n",
    "dynamodb = boto3.resource('dynamodb')\n",
    "table = dynamodb.Table('EventStore')\n",
    "response = table.query(\n",
    "    KeyConditionExpression=Key('AggregateId').eq(e1.id)\n",
    ")\n",
    "\n",
    "print response['Items']\n",
    "\n",
    "payload1 = response['Items'][0]['Payload']\n",
    "print payload1\n",
    "print type(payload1)"
   ]
  },
  {
   "cell_type": "code",
   "execution_count": null,
   "metadata": {
    "collapsed": false
   },
   "outputs": [],
   "source": [
    "response = table.query(\n",
    "    KeyConditionExpression=Key('AggregateId').eq(e1.id),\n",
    "    ScanIndexForward=False\n",
    ")\n",
    "\n",
    "print response"
   ]
  },
  {
   "cell_type": "code",
   "execution_count": null,
   "metadata": {
    "collapsed": true
   },
   "outputs": [],
   "source": [
    "import uuid\n",
    "\n",
    "class Aggregate(object):\n",
    "    def __init__(self):\n",
    "        self.AggregateID = uuid.uuid4()\n",
    "        self.Events = []\n",
    "        self.Version = 0\n",
    "        \n",
    "    def apply_event(self,event):\n",
    "        print 'implement this'\n",
    "\n",
    "    def route_event(event):\n",
    "        print 'implement this'\n",
    "\n",
    "    def store(self):\n",
    "        print 'implement this'"
   ]
  },
  {
   "cell_type": "code",
   "execution_count": null,
   "metadata": {
    "collapsed": false
   },
   "outputs": [],
   "source": [
    "# The class representing the event source entity\n",
    "class TestAgg(Aggregate):\n",
    "    def __init__(self, foo = '', bar='', baz='',event_history=None):\n",
    "        Aggregate.__init__(self)\n",
    "        self.Foo = ''\n",
    "        self.Bar = ''\n",
    "        self.Baz = ''\n",
    "                \n",
    "        if event_history != None: \n",
    "            self.apply_history(event_history)\n",
    "        else:\n",
    "            self.Version = 1\n",
    "            self.__init_via_args(foo, bar, baz)\n",
    "    \n",
    "    def __init_via_args(self, foo, bar, baz):\n",
    "        aggCreated = TestAggCreated()\n",
    "        aggCreated.AggregateID = self.AggregateID\n",
    "        aggCreated.Foo = foo\n",
    "        aggCreated.Bar = bar\n",
    "        aggCreated.Baz = bar\n",
    "\n",
    "        self.apply_event(aggCreated)\n",
    "        \n",
    "    def apply_history(self,event_history):\n",
    "        print 'apply_history called with {}'.format(event_history)\n",
    "        for e in event_history:\n",
    "            self.Version += 1\n",
    "            self.route_event(e)\n",
    "            \n",
    "    def route_event(self, event):\n",
    "        event.version = self.Version\n",
    "        print type(event)\n",
    "        if '.TestAggCreated' in str(type(event)):\n",
    "            self.handle_create(event)\n",
    "        else:\n",
    "            print 'unknown event'\n",
    "            \n",
    "    def apply_event(self, event):\n",
    "        self.route_event(event)\n",
    "        self.Events.append(event)\n",
    "        \n",
    "    def handle_create(self, event):\n",
    "        print 'handle_create'\n",
    "        self.AggregateID = event.AggregateID\n",
    "        self.Foo = event.Foo\n",
    "        self.Bar = event.Bar\n",
    "        self.Baz = event.Baz\n",
    "            \n",
    "        \n",
    "    def Dump(self):\n",
    "        print 'agg id: {}'.format(self.AggregateID)\n",
    "        print 'events: {}'.format(self.Events)\n",
    "        print 'version: {}'.format(self.Version)\n",
    "        print 'foo: {}'.format(self.Foo)\n",
    "        print 'bar: {}'.format(self.Bar)\n",
    "        print 'baz: {}'.format(self.Baz)"
   ]
  },
  {
   "cell_type": "code",
   "execution_count": null,
   "metadata": {
    "collapsed": true
   },
   "outputs": [],
   "source": [
    "# Event classes - forgoing the use of protobufs for now to keep things simple\n",
    "class TestAggCreated(object):\n",
    "    def __init__(self):\n",
    "        self.AggregateID = ''\n",
    "        self.Foo = ''\n",
    "        self.Bar = ''\n",
    "        self.Baz = ''"
   ]
  },
  {
   "cell_type": "code",
   "execution_count": null,
   "metadata": {
    "collapsed": true
   },
   "outputs": [],
   "source": [
    "class BarUpdated(object):\n",
    "    def __init__(self,bar):\n",
    "        self.NewBar = bar"
   ]
  },
  {
   "cell_type": "code",
   "execution_count": null,
   "metadata": {
    "collapsed": false
   },
   "outputs": [],
   "source": [
    "tag = TestAggCreated()\n",
    "print tag.AggregateID\n",
    "tag.AggregateID = '123'\n",
    "tag.Foo = 'This is a foo'\n",
    "tag.Baz = 'This is some baz'\n",
    "print tag.AggregateID\n",
    "print tag.Foo"
   ]
  },
  {
   "cell_type": "code",
   "execution_count": null,
   "metadata": {
    "collapsed": false
   },
   "outputs": [],
   "source": [
    "myTestAgg = TestAgg('my foo', 'my bar', 'your baz')"
   ]
  },
  {
   "cell_type": "code",
   "execution_count": null,
   "metadata": {
    "collapsed": false
   },
   "outputs": [],
   "source": [
    "myTestAgg.Dump()"
   ]
  },
  {
   "cell_type": "code",
   "execution_count": null,
   "metadata": {
    "collapsed": false
   },
   "outputs": [],
   "source": [
    "print type(myTestAgg)"
   ]
  },
  {
   "cell_type": "code",
   "execution_count": null,
   "metadata": {
    "collapsed": false
   },
   "outputs": [],
   "source": [
    "ag = Aggregate()\n",
    "dir(ag)\n",
    "dir(myTestAgg)"
   ]
  },
  {
   "cell_type": "code",
   "execution_count": null,
   "metadata": {
    "collapsed": false
   },
   "outputs": [],
   "source": [
    "events = [tag]\n",
    "ta2 = TestAgg(event_history=events)\n",
    "ta2.Dump()"
   ]
  },
  {
   "cell_type": "code",
   "execution_count": null,
   "metadata": {
    "collapsed": false
   },
   "outputs": [],
   "source": [
    "print isinstance(ta2,TestAgg)\n",
    "print isinstance(ta2, Aggregate)\n",
    "print ta2.store()"
   ]
  },
  {
   "cell_type": "code",
   "execution_count": null,
   "metadata": {
    "collapsed": true
   },
   "outputs": [],
   "source": [
    "class ConcurrencyException(Exception):\n",
    "    def __init__(self, value):\n",
    "        self.value = value\n",
    "        \n",
    "    def __str__(self):\n",
    "        return repr(self.value)"
   ]
  },
  {
   "cell_type": "code",
   "execution_count": null,
   "metadata": {
    "collapsed": false
   },
   "outputs": [],
   "source": [
    "try:\n",
    "    raise ConcurrencyException('Last version was 9')\n",
    "except ConcurrencyException as foo:\n",
    "    print foo"
   ]
  },
  {
   "cell_type": "code",
   "execution_count": null,
   "metadata": {
    "collapsed": false
   },
   "outputs": [],
   "source": [
    "# Storing stuff in a map\n",
    "eventsPerAggregate = {}\n",
    "eventsPerAggregate[myTestAgg.AggregateID] = myTestAgg.Events\n"
   ]
  },
  {
   "cell_type": "code",
   "execution_count": null,
   "metadata": {
    "collapsed": false
   },
   "outputs": [],
   "source": [
    "ta3 = TestAgg(event_history=eventsPerAggregate[myTestAgg.AggregateID])\n",
    "ta3.Dump()"
   ]
  },
  {
   "cell_type": "code",
   "execution_count": null,
   "metadata": {
    "collapsed": true
   },
   "outputs": [],
   "source": [
    "# Next: structure for event storage - current version and events so we can detect concurrency issues"
   ]
  },
  {
   "cell_type": "code",
   "execution_count": null,
   "metadata": {
    "collapsed": true
   },
   "outputs": [],
   "source": []
  }
 ],
 "metadata": {
  "kernelspec": {
   "display_name": "Python 2",
   "language": "python",
   "name": "python2"
  },
  "language_info": {
   "codemirror_mode": {
    "name": "ipython",
    "version": 2
   },
   "file_extension": ".py",
   "mimetype": "text/x-python",
   "name": "python",
   "nbconvert_exporter": "python",
   "pygments_lexer": "ipython2",
   "version": "2.7.12"
  }
 },
 "nbformat": 4,
 "nbformat_minor": 0
}
