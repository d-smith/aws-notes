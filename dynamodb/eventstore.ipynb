{
 "cells": [
  {
   "cell_type": "code",
   "execution_count": null,
   "metadata": {
    "collapsed": true
   },
   "outputs": [],
   "source": [
    "import boto3\n",
    "\n",
    "ddb = boto3.client('dynamodb')"
   ]
  },
  {
   "cell_type": "code",
   "execution_count": null,
   "metadata": {
    "collapsed": false
   },
   "outputs": [],
   "source": [
    "response = ddb.create_table(\n",
    "    TableName='EventStore',\n",
    "     AttributeDefinitions=[\n",
    "        {\n",
    "            'AttributeName': 'AggregateId',\n",
    "            'AttributeType': 'S'\n",
    "        },\n",
    "        {\n",
    "            'AttributeName': 'Version',\n",
    "            'AttributeType': 'N'\n",
    "        }\n",
    "    ],\n",
    "    KeySchema=[\n",
    "        {\n",
    "            'AttributeName': 'AggregateId',\n",
    "            'KeyType': 'HASH'\n",
    "        },\n",
    "        {\n",
    "            'AttributeName': 'Version',\n",
    "            'KeyType': 'RANGE'\n",
    "        }\n",
    "    ],\n",
    "    ProvisionedThroughput={\n",
    "        'ReadCapacityUnits': 10,\n",
    "        'WriteCapacityUnits': 5\n",
    "    }\n",
    ")\n",
    "\n",
    "print response"
   ]
  },
  {
   "cell_type": "code",
   "execution_count": null,
   "metadata": {
    "collapsed": true
   },
   "outputs": [],
   "source": [
    "class Event:\n",
    "    kind = 'esevent'\n",
    "    \n",
    "    def __init__(self, id, version, typecode, payload):\n",
    "        self.id = id\n",
    "        self.version = version\n",
    "        self.typecode = typecode\n",
    "        self.payload = payload\n",
    "        \n",
    "    def __str__(self):\n",
    "        return 'Event {} - {}'.format(self.id. self.version)"
   ]
  },
  {
   "cell_type": "code",
   "execution_count": null,
   "metadata": {
    "collapsed": false
   },
   "outputs": [],
   "source": [
    "addUser = {}\n",
    "addUser['Name'] = 'doug'\n",
    "addUser['Email'] = 'doug@dev.null'\n",
    "type(addUser)\n"
   ]
  },
  {
   "cell_type": "code",
   "execution_count": null,
   "metadata": {
    "collapsed": false
   },
   "outputs": [],
   "source": [
    "class UserAdded(Event):\n",
    "    kind = 'useradded'\n",
    "\n",
    "class EmailUpdated(Event):\n",
    "    kind = 'emailupdated'\n",
    "    \n",
    "def print_event_kind(event):\n",
    "    print type(event)\n",
    "    print event.kind\n"
   ]
  },
  {
   "cell_type": "code",
   "execution_count": null,
   "metadata": {
    "collapsed": false
   },
   "outputs": [],
   "source": [
    "e1 = UserAdded('ag1',1, 'adduser', addUser)\n",
    "print_event_kind(e1)"
   ]
  },
  {
   "cell_type": "code",
   "execution_count": null,
   "metadata": {
    "collapsed": false
   },
   "outputs": [],
   "source": [
    "print e1.id\n",
    "print type(e1)"
   ]
  },
  {
   "cell_type": "code",
   "execution_count": null,
   "metadata": {
    "collapsed": true
   },
   "outputs": [],
   "source": [
    "updateEmail = {}\n",
    "updateEmail['Email'] = \"reallydoug@somewhere.com\"\n",
    "e2 = EmailUpdated('ag1',2, 'updateemail', updateEmail)"
   ]
  },
  {
   "cell_type": "code",
   "execution_count": null,
   "metadata": {
    "collapsed": false
   },
   "outputs": [],
   "source": [
    "from boto3.dynamodb.types import TypeSerializer\n",
    "\n",
    "\n",
    "ts = TypeSerializer()\n",
    "addUserMap = ts.serialize(addUser)\n",
    "print addUserMap"
   ]
  },
  {
   "cell_type": "code",
   "execution_count": null,
   "metadata": {
    "collapsed": false
   },
   "outputs": [],
   "source": [
    "response = ddb.batch_write_item(\n",
    "    RequestItems={\n",
    "        'EventStore':[\n",
    "            {\n",
    "                'PutRequest':{\n",
    "                    'Item':{\n",
    "                        'AggregateId':{'S': e1.id},\n",
    "                        'Version':{'N':str(e1.version)},\n",
    "                        'Payload':ts.serialize(e1.payload),\n",
    "                        'Typecode':{'S':e1.typecode}\n",
    "                    }\n",
    "                }\n",
    "            }\n",
    "        ]\n",
    "    }\n",
    ")\n",
    "\n",
    "print response"
   ]
  },
  {
   "cell_type": "code",
   "execution_count": null,
   "metadata": {
    "collapsed": false
   },
   "outputs": [],
   "source": [
    "\n",
    "response = ddb.batch_write_item(\n",
    "    RequestItems={\n",
    "        'EventStore':[\n",
    "            {\n",
    "                'PutRequest':{\n",
    "                    'Item':{\n",
    "                        'AggregateId':{'S': e2.id},\n",
    "                        'Version':{'N':str(e2.version)},\n",
    "                        'Payload':ts.serialize(e2.payload),\n",
    "                        'Typecode':{'S':e2.typecode}\n",
    "                    }\n",
    "                }\n",
    "            }\n",
    "        ]\n",
    "    }\n",
    ")\n",
    "\n",
    "print response"
   ]
  },
  {
   "cell_type": "code",
   "execution_count": null,
   "metadata": {
    "collapsed": false
   },
   "outputs": [],
   "source": [
    "from boto3.dynamodb.conditions import Key\n",
    "\n",
    "dynamodb = boto3.resource('dynamodb')\n",
    "table = dynamodb.Table('EventStore')\n",
    "response = table.query(\n",
    "    KeyConditionExpression=Key('AggregateId').eq(e1.id)\n",
    ")\n",
    "\n",
    "print response['Items']\n",
    "\n",
    "payload1 = response['Items'][0]['Payload']\n",
    "print payload1\n",
    "print type(payload1)"
   ]
  },
  {
   "cell_type": "code",
   "execution_count": null,
   "metadata": {
    "collapsed": false
   },
   "outputs": [],
   "source": [
    "response = table.query(\n",
    "    KeyConditionExpression=Key('AggregateId').eq(e1.id),\n",
    "    ScanIndexForward=False\n",
    ")\n",
    "\n",
    "print response"
   ]
  },
  {
   "cell_type": "code",
   "execution_count": null,
   "metadata": {
    "collapsed": true
   },
   "outputs": [],
   "source": []
  }
 ],
 "metadata": {
  "kernelspec": {
   "display_name": "Python 2",
   "language": "python",
   "name": "python2"
  },
  "language_info": {
   "codemirror_mode": {
    "name": "ipython",
    "version": 2
   },
   "file_extension": ".py",
   "mimetype": "text/x-python",
   "name": "python",
   "nbconvert_exporter": "python",
   "pygments_lexer": "ipython2",
   "version": "2.7.12"
  }
 },
 "nbformat": 4,
 "nbformat_minor": 0
}
