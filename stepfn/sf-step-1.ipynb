{
 "cells": [
  {
   "cell_type": "code",
   "execution_count": null,
   "metadata": {
    "collapsed": true
   },
   "outputs": [],
   "source": [
    "import boto3\n",
    "\n",
    "client = boto3.client('stepfunctions')"
   ]
  },
  {
   "cell_type": "code",
   "execution_count": null,
   "metadata": {
    "collapsed": false
   },
   "outputs": [],
   "source": [
    "# Note - I set up a role first from the console using the procedure described\n",
    "# here: http://docs.aws.amazon.com/step-functions/latest/dg/procedure-create-iam-role.html.\n",
    "# Role ARN is referenced from the envionment\n",
    "import os\n",
    "roleARN = os.environ['SFN_ROLE_ARN']\n",
    "print roleARN"
   ]
  },
  {
   "cell_type": "code",
   "execution_count": null,
   "metadata": {
    "collapsed": true
   },
   "outputs": [],
   "source": [
    "stateMachine=\"\"\"\n",
    "{\n",
    "  \"Comment\": \"A Hello World example of the Amazon States Language using a Pass state\",\n",
    "  \"StartAt\": \"HelloWorld\",\n",
    "  \"States\": {\n",
    "    \"HelloWorld\": {\n",
    "      \"Type\": \"Pass\",\n",
    "      \"Result\": \"Hello World!\",\n",
    "      \"End\": true\n",
    "    }\n",
    "  }\n",
    "}\n",
    "\"\"\""
   ]
  },
  {
   "cell_type": "code",
   "execution_count": null,
   "metadata": {
    "collapsed": false
   },
   "outputs": [],
   "source": [
    "response = client.create_state_machine(\n",
    "    name='machine1',\n",
    "    definition=stateMachine,\n",
    "    roleArn=roleARN\n",
    ")\n",
    "\n",
    "print response"
   ]
  },
  {
   "cell_type": "code",
   "execution_count": null,
   "metadata": {
    "collapsed": false
   },
   "outputs": [],
   "source": [
    "stateMachineArn = response['stateMachineArn']\n",
    "print stateMachineArn"
   ]
  },
  {
   "cell_type": "code",
   "execution_count": null,
   "metadata": {
    "collapsed": false
   },
   "outputs": [],
   "source": [
    "import uuid\n",
    "\n",
    "execution_id = 'sm1' + str(uuid.uuid4())"
   ]
  },
  {
   "cell_type": "code",
   "execution_count": null,
   "metadata": {
    "collapsed": false
   },
   "outputs": [],
   "source": [
    "start_response = client.start_execution(\n",
    "    stateMachineArn=stateMachineArn,\n",
    "    name=execution_id\n",
    ")\n",
    "\n",
    "print start_response"
   ]
  },
  {
   "cell_type": "code",
   "execution_count": null,
   "metadata": {
    "collapsed": false
   },
   "outputs": [],
   "source": [
    "executionArn = start_response['executionArn']\n",
    "print executionArn"
   ]
  },
  {
   "cell_type": "code",
   "execution_count": null,
   "metadata": {
    "collapsed": false
   },
   "outputs": [],
   "source": [
    "desc_response = client.describe_execution(\n",
    "    executionArn=executionArn\n",
    ")\n",
    "\n",
    "print desc_response"
   ]
  },
  {
   "cell_type": "code",
   "execution_count": null,
   "metadata": {
    "collapsed": false
   },
   "outputs": [],
   "source": [
    "# Clean up\n",
    "response = client.delete_state_machine(\n",
    "    stateMachineArn=stateMachineArn\n",
    ")\n",
    "\n",
    "print response"
   ]
  },
  {
   "cell_type": "code",
   "execution_count": null,
   "metadata": {
    "collapsed": true
   },
   "outputs": [],
   "source": []
  }
 ],
 "metadata": {
  "kernelspec": {
   "display_name": "Python 2",
   "language": "python",
   "name": "python2"
  },
  "language_info": {
   "codemirror_mode": {
    "name": "ipython",
    "version": 2
   },
   "file_extension": ".py",
   "mimetype": "text/x-python",
   "name": "python",
   "nbconvert_exporter": "python",
   "pygments_lexer": "ipython2",
   "version": "2.7.12"
  }
 },
 "nbformat": 4,
 "nbformat_minor": 0
}
