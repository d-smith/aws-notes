{
 "cells": [
  {
   "cell_type": "code",
   "execution_count": null,
   "metadata": {
    "collapsed": true
   },
   "outputs": [],
   "source": [
    "import boto3\n",
    "\n",
    "client = boto3.client('stepfunctions')"
   ]
  },
  {
   "cell_type": "code",
   "execution_count": null,
   "metadata": {
    "collapsed": false
   },
   "outputs": [],
   "source": [
    "# Note - I set up a role first from the console using the procedure described\n",
    "# here: http://docs.aws.amazon.com/step-functions/latest/dg/procedure-create-iam-role.html.\n",
    "# Role ARN is referenced from the envionment\n",
    "import os\n",
    "roleARN = os.environ['SFN_ROLE_ARN']\n",
    "print roleARN"
   ]
  },
  {
   "cell_type": "code",
   "execution_count": null,
   "metadata": {
    "collapsed": false
   },
   "outputs": [],
   "source": [
    "assemble_response = client.create_activity(\n",
    "    name='AssemblePizza'\n",
    ")\n",
    "\n",
    "assemble_resource = assemble_response['activityArn']\n",
    "\n",
    "\n",
    "cook_response = client.create_activity(\n",
    "    name='CookPizza'\n",
    ")\n",
    "\n",
    "cook_resource = cook_response['activityArn']"
   ]
  },
  {
   "cell_type": "code",
   "execution_count": null,
   "metadata": {
    "collapsed": false
   },
   "outputs": [],
   "source": [
    "print assemble_resource\n",
    "print cook_resource"
   ]
  },
  {
   "cell_type": "code",
   "execution_count": null,
   "metadata": {
    "collapsed": false
   },
   "outputs": [],
   "source": [
    "response = client.list_activities()\n",
    "print response"
   ]
  },
  {
   "cell_type": "code",
   "execution_count": null,
   "metadata": {
    "collapsed": false
   },
   "outputs": [],
   "source": [
    "stateMachine=\"\"\"\n",
    "{\n",
    "  \"Comment\": \"A Hello World example of the Amazon States Language using a Pass state\",\n",
    "  \"StartAt\": \"HelloPizza\",\n",
    "  \"States\": {\n",
    "    \"HelloPizza\": {\n",
    "      \"Type\": \"Pass\",\n",
    "      \"Result\": \"Order receieved\",\n",
    "      \"Next\": \"AssemblingPizza\"\n",
    "    },\n",
    "    \"AssemblingPizza\": {\n",
    "      \"Type\": \"Task\",\n",
    "      \"Resource\" : \\\"\"\"\" + assemble_resource + \"\"\"\\\",\n",
    "      \"Next\": \"Cooking\"    \n",
    "    },\n",
    "    \"Cooking\": {\n",
    "      \"Type\": \"Task\",\n",
    "      \"Resource\" : \\\"\"\"\" + cook_resource + \"\"\"\\\",\n",
    "      \"Next\": \"Ready\"    \n",
    "    },\n",
    "    \"Ready\": {\n",
    "      \"Type\": \"Pass\",\n",
    "      \"Result\": \"Your pizza is ready\",\n",
    "      \"End\": true    \n",
    "    }\n",
    "  }\n",
    "}\n",
    "\"\"\""
   ]
  },
  {
   "cell_type": "code",
   "execution_count": null,
   "metadata": {
    "collapsed": false
   },
   "outputs": [],
   "source": [
    "print stateMachine"
   ]
  },
  {
   "cell_type": "code",
   "execution_count": null,
   "metadata": {
    "collapsed": false
   },
   "outputs": [],
   "source": [
    "response = client.create_state_machine(\n",
    "    name='machine1',\n",
    "    definition=stateMachine,\n",
    "    roleArn=roleARN\n",
    ")\n",
    "\n",
    "print response"
   ]
  },
  {
   "cell_type": "code",
   "execution_count": null,
   "metadata": {
    "collapsed": false
   },
   "outputs": [],
   "source": [
    "# Can I query for the state machine arn?\n",
    "def arn_for_machine(name):\n",
    "    # Are there state machines?\n",
    "    response = client.list_state_machines()\n",
    "    if not 'stateMachines' in response:\n",
    "        return ''\n",
    "    \n",
    "    while True:\n",
    "          \n",
    "        # Is the machine we are looking for in the list?\n",
    "        state_machines = response['stateMachines']\n",
    "        for m in state_machines:\n",
    "            if m['name'] == name:\n",
    "                # Found it\n",
    "                return m['stateMachineArn']\n",
    "            \n",
    "        # Are there more to look through?\n",
    "        if not 'nextToken' in response:\n",
    "            return ''\n",
    "        \n",
    "        next_token = response['nextToken']\n",
    "        \n",
    "        response = client.list_state_machines(\n",
    "            nextToken=next_token\n",
    "        )"
   ]
  },
  {
   "cell_type": "code",
   "execution_count": null,
   "metadata": {
    "collapsed": false
   },
   "outputs": [],
   "source": [
    "stateMachineArn = arn_for_machine('machine1')\n",
    "print stateMachineArn"
   ]
  },
  {
   "cell_type": "code",
   "execution_count": null,
   "metadata": {
    "collapsed": false
   },
   "outputs": [],
   "source": [
    "import uuid\n",
    "\n",
    "execution_id = 'sm1' + str(uuid.uuid4())"
   ]
  },
  {
   "cell_type": "code",
   "execution_count": null,
   "metadata": {
    "collapsed": false
   },
   "outputs": [],
   "source": [
    "start_response = client.start_execution(\n",
    "    stateMachineArn=stateMachineArn,\n",
    "    name=execution_id\n",
    ")\n",
    "\n",
    "print start_response"
   ]
  },
  {
   "cell_type": "code",
   "execution_count": null,
   "metadata": {
    "collapsed": false
   },
   "outputs": [],
   "source": [
    "executionArn = start_response['executionArn']\n",
    "print executionArn"
   ]
  },
  {
   "cell_type": "code",
   "execution_count": null,
   "metadata": {
    "collapsed": false
   },
   "outputs": [],
   "source": [
    "desc_response = client.describe_execution(\n",
    "    executionArn=executionArn\n",
    ")\n",
    "\n",
    "print desc_response"
   ]
  },
  {
   "cell_type": "code",
   "execution_count": null,
   "metadata": {
    "collapsed": false
   },
   "outputs": [],
   "source": [
    "get_activity_response = client.get_activity_task(\n",
    "    activityArn=assemble_resource,\n",
    "    workerName='worker1'\n",
    ")\n",
    "\n",
    "print get_activity_response"
   ]
  },
  {
   "cell_type": "code",
   "execution_count": null,
   "metadata": {
    "collapsed": false
   },
   "outputs": [],
   "source": [
    "task_token = get_activity_response['taskToken']\n",
    "print task_token"
   ]
  },
  {
   "cell_type": "code",
   "execution_count": null,
   "metadata": {
    "collapsed": false
   },
   "outputs": [],
   "source": [
    "ts_response = client.send_task_success(\n",
    "    taskToken=task_token,\n",
    "    output='{\"status\":\"pizza assembled, ready to cook\"}'\n",
    ")\n",
    "\n",
    "print ts_response"
   ]
  },
  {
   "cell_type": "code",
   "execution_count": null,
   "metadata": {
    "collapsed": false
   },
   "outputs": [],
   "source": [
    "# Now for the cooking\n",
    "get_activity_response = client.get_activity_task(\n",
    "    activityArn=cook_resource,\n",
    "    workerName='worker1'\n",
    ")\n",
    "\n",
    "print get_activity_response"
   ]
  },
  {
   "cell_type": "code",
   "execution_count": null,
   "metadata": {
    "collapsed": false
   },
   "outputs": [],
   "source": [
    "task_token = get_activity_response['taskToken']\n",
    "print task_token\n",
    "\n",
    "ts_response = client.send_task_success(\n",
    "    taskToken=task_token,\n",
    "    output='{\"status\":\"pizza has been cooked to perfection\"}'\n",
    ")\n",
    "\n",
    "print ts_response"
   ]
  },
  {
   "cell_type": "code",
   "execution_count": null,
   "metadata": {
    "collapsed": false
   },
   "outputs": [],
   "source": [
    "desc_response = client.describe_execution(\n",
    "    executionArn=executionArn\n",
    ")\n",
    "\n",
    "print desc_response"
   ]
  },
  {
   "cell_type": "code",
   "execution_count": null,
   "metadata": {
    "collapsed": false
   },
   "outputs": [],
   "source": [
    "# Clean up\n",
    "response = client.delete_activity(\n",
    "    activityArn=assemble_resource\n",
    ")\n",
    "\n",
    "print response"
   ]
  },
  {
   "cell_type": "code",
   "execution_count": null,
   "metadata": {
    "collapsed": false
   },
   "outputs": [],
   "source": [
    "response = client.delete_state_machine(\n",
    "    stateMachineArn=stateMachineArn\n",
    ")\n",
    "\n",
    "print response"
   ]
  },
  {
   "cell_type": "code",
   "execution_count": null,
   "metadata": {
    "collapsed": true
   },
   "outputs": [],
   "source": []
  }
 ],
 "metadata": {
  "kernelspec": {
   "display_name": "Python 2",
   "language": "python",
   "name": "python2"
  },
  "language_info": {
   "codemirror_mode": {
    "name": "ipython",
    "version": 2
   },
   "file_extension": ".py",
   "mimetype": "text/x-python",
   "name": "python",
   "nbconvert_exporter": "python",
   "pygments_lexer": "ipython2",
   "version": "2.7.12"
  }
 },
 "nbformat": 4,
 "nbformat_minor": 0
}
