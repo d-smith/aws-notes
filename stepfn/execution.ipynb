{
 "cells": [
  {
   "cell_type": "code",
   "execution_count": null,
   "metadata": {},
   "outputs": [],
   "source": [
    "# This notebook assumes the state machine in this directory has been instantiated:\n",
    "# https://github.com/d-smith/workflow-patterns-aws/tree/master/error-handling/reoffer"
   ]
  },
  {
   "cell_type": "code",
   "execution_count": null,
   "metadata": {},
   "outputs": [],
   "source": [
    "import boto3\n",
    "\n",
    "client = boto3.client('stepfunctions')"
   ]
  },
  {
   "cell_type": "code",
   "execution_count": null,
   "metadata": {},
   "outputs": [],
   "source": [
    "result = client.list_state_machines()\n",
    "print(result)"
   ]
  },
  {
   "cell_type": "code",
   "execution_count": null,
   "metadata": {},
   "outputs": [],
   "source": [
    "sma = result['stateMachines'][0]['stateMachineArn']\n",
    "print(sma)"
   ]
  },
  {
   "cell_type": "code",
   "execution_count": null,
   "metadata": {},
   "outputs": [],
   "source": [
    "# Instantiate an instance\n",
    "result = client.start_execution(\n",
    "    stateMachineArn=sma,\n",
    "    input='{\"foo\": true}'\n",
    ")\n",
    "\n",
    "print(result);"
   ]
  },
  {
   "cell_type": "code",
   "execution_count": null,
   "metadata": {},
   "outputs": [],
   "source": [
    "response = client.list_executions(\n",
    "    stateMachineArn=sma,\n",
    "    statusFilter='RUNNING'\n",
    ")\n",
    "\n",
    "print(response)\n",
    "\n",
    "if len(response['executions']) > 0:\n",
    "    firstExecution = response['executions'][0]['executionArn']\n",
    "    print(firstExecution)\n",
    "else:\n",
    "    print('No executions!')"
   ]
  },
  {
   "cell_type": "code",
   "execution_count": null,
   "metadata": {},
   "outputs": [],
   "source": [
    "paginator = client.get_paginator('get_execution_history')\n",
    "for response in paginator.paginate(executionArn=firstExecution):\n",
    "    print(response)"
   ]
  },
  {
   "cell_type": "code",
   "execution_count": null,
   "metadata": {},
   "outputs": [],
   "source": [
    "# Look at the last event - is this the manual activity?\n",
    "response = client.get_execution_history(\n",
    "    executionArn=firstExecution,\n",
    "    maxResults=1,\n",
    "    reverseOrder=True\n",
    ")\n",
    "\n",
    "\n",
    "event = response['events'][0]\n",
    "eventType = event['type']\n",
    "activity = event['activityScheduledEventDetails']['resource']\n",
    "print(event)\n",
    "\n",
    "\n",
    "if eventType == 'ActivityScheduled' and activity.endswith('manual-reoffer-dev'):\n",
    "    print('Manual activity is ready to claim')\n"
   ]
  },
  {
   "cell_type": "code",
   "execution_count": null,
   "metadata": {},
   "outputs": [],
   "source": [
    "import random\n",
    "import string\n",
    "N=5\n",
    "worker = ''.join(random.choices(string.ascii_uppercase + string.digits, k=N))\n",
    "\n",
    "# Claim manual activity\n",
    "response = client.get_activity_task(\n",
    "    activityArn=activity,\n",
    "    workerName='worker'\n",
    ")\n",
    "\n",
    "print(response)"
   ]
  },
  {
   "cell_type": "code",
   "execution_count": null,
   "metadata": {},
   "outputs": [],
   "source": [
    "# Signal activity complete - note if you delay the execution will time out.\n",
    "response = client.send_task_success(\n",
    "    taskToken=response['taskToken'],\n",
    "    output='{\"m1\":\"all ok\"}',\n",
    ")\n",
    "\n",
    "print(response)"
   ]
  },
  {
   "cell_type": "code",
   "execution_count": null,
   "metadata": {},
   "outputs": [],
   "source": [
    "# Look at the last event - is this the manual activity?\n",
    "response = client.get_execution_history(\n",
    "    executionArn=firstExecution,\n",
    "    maxResults=1,\n",
    "    reverseOrder=True\n",
    ")\n",
    "\n",
    "print(response)\n",
    "\n",
    "if response['events'][0]['type'] == 'ExecutionSucceeded':\n",
    "    print('Execution succeeded')\n",
    "else:\n",
    "    print('Huh?')"
   ]
  },
  {
   "cell_type": "code",
   "execution_count": null,
   "metadata": {},
   "outputs": [],
   "source": []
  }
 ],
 "metadata": {
  "kernelspec": {
   "display_name": "Python 3",
   "language": "python",
   "name": "python3"
  },
  "language_info": {
   "codemirror_mode": {
    "name": "ipython",
    "version": 3
   },
   "file_extension": ".py",
   "mimetype": "text/x-python",
   "name": "python",
   "nbconvert_exporter": "python",
   "pygments_lexer": "ipython3",
   "version": "3.6.5"
  }
 },
 "nbformat": 4,
 "nbformat_minor": 2
}
