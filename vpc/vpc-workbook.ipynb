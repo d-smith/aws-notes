{
 "cells": [
  {
   "cell_type": "markdown",
   "metadata": {},
   "source": [
    "# AWS Virtual Private Cloud\n",
    "\n",
    "A VPC is a logically isolated networking environment for your AWS resources. In this notebook we'll create a VPC, and partition it into public and private subnets, showing how we can use subnets as security containers or boundaries.\n",
    "\n",
    "This notebook has been tested in the following regions:\n",
    "\n",
    "* us-east-1\n",
    "* us-east-2\n",
    "* us-west-1\n",
    "* us-west-2\n",
    "* ca-central-1\n",
    "* eu-west-1\n",
    "\n",
    "## Set Up\n",
    "\n",
    "We'll use the [AWS Python SDK](https://aws.amazon.com/sdk-for-python/) in this notebook. The first step to using this notebook (after installing it via `pip install boto3`) is to import the boto3 library and create a client. We'll also need the region context for later."
   ]
  },
  {
   "cell_type": "code",
   "execution_count": null,
   "metadata": {
    "collapsed": true
   },
   "outputs": [],
   "source": [
    "import boto3\n",
    "\n",
    "client = boto3.client('ec2')"
   ]
  },
  {
   "cell_type": "code",
   "execution_count": null,
   "metadata": {
    "collapsed": false
   },
   "outputs": [],
   "source": [
    "my_session = boto3.session.Session()\n",
    "my_region = my_session.region_name\n",
    "print my_region"
   ]
  },
  {
   "cell_type": "markdown",
   "metadata": {},
   "source": [
    "## Creating a VPC"
   ]
  },
  {
   "cell_type": "code",
   "execution_count": null,
   "metadata": {
    "collapsed": false
   },
   "outputs": [],
   "source": [
    "vpc_response = client.create_vpc(\n",
    "    CidrBlock='10.0.0.0/16',\n",
    ")\n",
    "\n",
    "vpcId = vpc_response['Vpc']['VpcId']\n",
    "\n",
    "print 'created vpc ', vpcId"
   ]
  },
  {
   "cell_type": "markdown",
   "metadata": {},
   "source": [
    "## Tagging\n",
    "\n",
    "As you work with AWS, especially under development accounts, you may find at some point you need\n",
    "clean up unused resources. Human memory being what it is, sometimes it may not be obvious which\n",
    "resouces are related to which, what can be deleted and what can't, etc.\n",
    "\n",
    "AWS provides the ability to tag resources with name/value pairs, which is a great way to help out\n",
    "you future self when it's time to clean up.\n",
    "\n",
    "The following code shows how to add some helpful tags to the VPC we just created."
   ]
  },
  {
   "cell_type": "code",
   "execution_count": null,
   "metadata": {
    "collapsed": false
   },
   "outputs": [],
   "source": [
    "tagged = client.create_tags(\n",
    "    Resources=[\n",
    "        vpcId,\n",
    "    ],\n",
    "    Tags=[\n",
    "        {\n",
    "            'Key': 'Name',\n",
    "            'Value': 'Sample VPC'\n",
    "        },\n",
    "        {\n",
    "            'Key': 'Contact',\n",
    "            'Value': '@d-smith'\n",
    "        }\n",
    "    ]\n",
    ")\n",
    "\n",
    "print tagged"
   ]
  },
  {
   "cell_type": "markdown",
   "metadata": {},
   "source": [
    "Note that many API calls that list resources allow filtering via tags."
   ]
  },
  {
   "cell_type": "code",
   "execution_count": null,
   "metadata": {
    "collapsed": false
   },
   "outputs": [],
   "source": [
    "vpcs = client.describe_vpcs(\n",
    "    Filters=[\n",
    "        {\n",
    "            'Name': 'tag:Name',\n",
    "            'Values': [\n",
    "                'Sample VPC',\n",
    "            ]\n",
    "        },\n",
    "    ]\n",
    ")\n",
    "\n",
    "print vpcs['Vpcs'][0]['VpcId']"
   ]
  },
  {
   "cell_type": "markdown",
   "metadata": {},
   "source": [
    "## Subnets\n",
    "\n",
    "Now that we have a VPC, we can create subnets. In contrast to a VPC, which spans all the availability zones in\n",
    "a region, a subnet is specific to an availability zone.\n",
    "\n",
    "So the first thing to figure out is what are the availability zones in the region."
   ]
  },
  {
   "cell_type": "code",
   "execution_count": null,
   "metadata": {
    "collapsed": false
   },
   "outputs": [],
   "source": [
    "response = client.describe_availability_zones()\n",
    "availability_zones = response['AvailabilityZones']\n",
    "\n",
    "for az in availability_zones:\n",
    "    print az"
   ]
  },
  {
   "cell_type": "code",
   "execution_count": null,
   "metadata": {
    "collapsed": false
   },
   "outputs": [],
   "source": [
    "# For the rest of this work book we'll create two subnets in two AZs. We'll treat \n",
    "# the odds as public, the evens as private.\n",
    "\n",
    "availability_zones = availability_zones[0:2]\n",
    "public_subnets = []\n",
    "private_subnets = []\n",
    "\n",
    "subnet_no = -1\n",
    "cidr_base = '10.0.'\n",
    "for i in range(2):\n",
    "    subnet_no += 1\n",
    "    zone_name = availability_zones[i]['ZoneName']\n",
    "    \n",
    "    print 'create subnet in zone ', zone_name, ' for subnet ', subnet_no\n",
    "    \n",
    "    response = client.create_subnet(\n",
    "        VpcId = vpcId,\n",
    "        CidrBlock = cidr_base + str(subnet_no) + '.0/24',\n",
    "        AvailabilityZone = zone_name\n",
    "    )\n",
    "    \n",
    "    public_subnets.append(response['Subnet']['SubnetId'])\n",
    "    \n",
    "\n",
    "    subnet_no += 1    \n",
    "    print 'create subnet in zone ', zone_name, ' for subnet ', subnet_no\n",
    "    \n",
    "    response = client.create_subnet(\n",
    "        VpcId = vpcId,\n",
    "        CidrBlock = cidr_base + str(subnet_no) + '.0/24',\n",
    "        AvailabilityZone = zone_name\n",
    "    )\n",
    "    \n",
    "    private_subnets.append(response['Subnet']['SubnetId'])\n",
    "   \n",
    "    \n",
    "print 'Public subnets: ', public_subnets\n",
    "print 'Private subnets: ', private_subnets"
   ]
  },
  {
   "cell_type": "code",
   "execution_count": null,
   "metadata": {
    "collapsed": false
   },
   "outputs": [],
   "source": [
    "# We want public addresses on instances launched in the public subnet\n",
    "# by default.\n",
    "\n",
    "print public_subnets\n",
    "\n",
    "for id in public_subnets:\n",
    "    response = client.modify_subnet_attribute(\n",
    "        SubnetId=id,\n",
    "        MapPublicIpOnLaunch={\n",
    "            'Value': True\n",
    "        }\n",
    "    )\n",
    "    \n",
    "    print response"
   ]
  },
  {
   "cell_type": "markdown",
   "metadata": {},
   "source": [
    "## Public Subnets\n",
    "\n",
    "What makes a subnet public? Having Internet routable IP addresses, and access to the Internet. We've made the\n",
    "default address option for instances in our public subnets public/routable. To allow Internet access, we create and attach an internet gateway to the VPC, the create a route table with routes from the public subnets to the Internet."
   ]
  },
  {
   "cell_type": "code",
   "execution_count": null,
   "metadata": {
    "collapsed": false
   },
   "outputs": [],
   "source": [
    "## Create an internet gateway\n",
    "igw_response = client.create_internet_gateway()\n",
    "igwId = igw_response['InternetGateway']['InternetGatewayId']\n",
    "print 'Created gateway ', igwId"
   ]
  },
  {
   "cell_type": "code",
   "execution_count": null,
   "metadata": {
    "collapsed": false
   },
   "outputs": [],
   "source": [
    "# Attach internet gateway to VPC\n",
    "response = client.attach_internet_gateway(\n",
    "    InternetGatewayId=igw_response['InternetGateway']['InternetGatewayId'],\n",
    "    VpcId=vpcId\n",
    ")\n",
    "\n",
    "print response"
   ]
  },
  {
   "cell_type": "markdown",
   "metadata": {},
   "source": [
    "Instead of adding an external route to the default route table associated with \n",
    "the VPC, we'll create a route table for explicitly controlling subnet access\n",
    "to the internet. Note that the default route table allows traffic within the \n",
    "VPC, and is implicitly associated with the subnets."
   ]
  },
  {
   "cell_type": "code",
   "execution_count": null,
   "metadata": {
    "collapsed": false
   },
   "outputs": [],
   "source": [
    "# Create route table for public subnets\n",
    "rt_response = client.create_route_table(\n",
    "    VpcId = vpcId\n",
    ")\n",
    "\n",
    "routeTableId = rt_response['RouteTable']['RouteTableId']\n",
    "print 'Create route table ', routeTableId"
   ]
  },
  {
   "cell_type": "code",
   "execution_count": null,
   "metadata": {
    "collapsed": false
   },
   "outputs": [],
   "source": [
    "# Add route to the interwebs from the gateway\n",
    "\n",
    "response = client.create_route(\n",
    "    RouteTableId=routeTableId,\n",
    "    DestinationCidrBlock='0.0.0.0/0',\n",
    "    GatewayId=igwId,\n",
    ")\n",
    "\n",
    "print response"
   ]
  },
  {
   "cell_type": "code",
   "execution_count": null,
   "metadata": {
    "collapsed": false
   },
   "outputs": [],
   "source": [
    "# Associate the subnets with the route table\n",
    "associationIds = []\n",
    "\n",
    "for subnet in public_subnets:\n",
    "    response = client.associate_route_table(\n",
    "        SubnetId=subnet,\n",
    "        RouteTableId=routeTableId\n",
    "    )\n",
    "        \n",
    "    associationIds.append(response['AssociationId'])"
   ]
  },
  {
   "cell_type": "markdown",
   "metadata": {},
   "source": [
    "## Private Subnets\n",
    "\n",
    "Private subnets are subnets that have no ingress from the Internet. There are times, however when access to the internet is needed - for instance when pulling updates from repositories, installing software, accessing AWS services, etc.\n",
    "\n",
    "In a VPC, a NAT gateway is used to do this. We'll create a NAT gateway for private subnet 1"
   ]
  },
  {
   "cell_type": "code",
   "execution_count": 30,
   "metadata": {
    "collapsed": false
   },
   "outputs": [
    {
     "name": "stdout",
     "output_type": "stream",
     "text": [
      "NAT IP: 52.60.108.97  NAT Allocation ID:  eipalloc-07fc016e\n"
     ]
    }
   ],
   "source": [
    "# First we need a public address for the NAT gateway\n",
    "response = client.allocate_address(\n",
    "    Domain='vpc'\n",
    ")\n",
    "\n",
    "nat_public_ip = response['PublicIp']\n",
    "nat_eip_allocation_id = response['AllocationId']\n",
    "print 'NAT IP:', nat_public_ip, ' NAT Allocation ID: ', nat_eip_allocation_id"
   ]
  },
  {
   "cell_type": "code",
   "execution_count": null,
   "metadata": {
    "collapsed": true
   },
   "outputs": [],
   "source": []
  },
  {
   "cell_type": "markdown",
   "metadata": {},
   "source": [
    "## Launch an Instance in a Public Subnet\n",
    "\n",
    "Now that we have a VPC with public subnets, we should be able to launch an instance into a public subnet and\n",
    "connect to it. To allow connectivity to be verified, we'll use user data to install a LAMP stack with a test\n",
    "page we can retrieve.\n",
    "\n",
    "First, we'll need a security group allowing ingres"
   ]
  },
  {
   "cell_type": "code",
   "execution_count": null,
   "metadata": {
    "collapsed": false
   },
   "outputs": [],
   "source": [
    "#Create security group\n",
    "response = client.create_security_group(\n",
    "    GroupName='web_sg',\n",
    "    Description='Use for launching public web service',\n",
    "    VpcId=vpcId\n",
    ")\n",
    "\n",
    "webSgID = response['GroupId']\n",
    "print 'created security group ', webSgID"
   ]
  },
  {
   "cell_type": "code",
   "execution_count": null,
   "metadata": {
    "collapsed": false
   },
   "outputs": [],
   "source": [
    "# Allow ingress on port 80\n",
    "response = client.authorize_security_group_ingress(\n",
    "    GroupId=webSgID,\n",
    "    IpProtocol='tcp',\n",
    "    FromPort=80,\n",
    "    ToPort=80,\n",
    "    CidrIp='0.0.0.0/0'\n",
    ")\n",
    "\n",
    "print response\n",
    "            "
   ]
  },
  {
   "cell_type": "code",
   "execution_count": null,
   "metadata": {
    "collapsed": false
   },
   "outputs": [],
   "source": [
    "# User data\n",
    "user_data = \\\n",
    "\"\"\"#!/bin/bash\n",
    "yum update -y\n",
    "yum install -y httpd24 php56 mysql55-server php56-mysqlnd\n",
    "service httpd start\n",
    "chkconfig httpd on\n",
    "groupadd www\n",
    "usermod -a -G www ec2-user\n",
    "chown -R root:www /var/www\n",
    "chmod 2775 /var/www\n",
    "find /var/www -type d -exec chmod 2775 {} +\n",
    "find /var/www -type f -exec chmod 0664 {} +\n",
    "echo \"<?php phpinfo(); ?>\" > /var/www/html/phpinfo.php\"\"\"\n",
    "\n"
   ]
  },
  {
   "cell_type": "code",
   "execution_count": null,
   "metadata": {
    "collapsed": false
   },
   "outputs": [],
   "source": [
    "# AMIs are unique per region. Here we will look up our AMI based on our region\n",
    "amis = {}\n",
    "amis['us-east-1'] = 'ami-0b33d91d'\n",
    "amis['us-east-2'] = 'ami-446f3521'\n",
    "amis['us-west-1'] = 'ami-9fadf8ff'\n",
    "amis['us-west-2'] = 'ami-7abc111a'\n",
    "amis['eu-west-1'] = 'ami-a1491ad2'\n",
    "amis['ca-central-1'] = 'ami-ebed508f'\n",
    "\n",
    "ami_id = amis[my_region]\n",
    "print ami_id"
   ]
  },
  {
   "cell_type": "code",
   "execution_count": null,
   "metadata": {
    "collapsed": false
   },
   "outputs": [],
   "source": [
    "# Launch instance\n",
    "\n",
    "response = client.run_instances(\n",
    "    DryRun=False,\n",
    "    ImageId=ami_id,\n",
    "    MinCount=1,\n",
    "    MaxCount=1,\n",
    "    SecurityGroupIds=[\n",
    "        webSgID,\n",
    "    ],\n",
    "    UserData=user_data,\n",
    "    InstanceType='t2.micro',\n",
    "    SubnetId=public_subnets[0],\n",
    "    \n",
    ")\n",
    "\n",
    "instanceId = response['Instances'][0]['InstanceId']"
   ]
  },
  {
   "cell_type": "code",
   "execution_count": null,
   "metadata": {
    "collapsed": false
   },
   "outputs": [],
   "source": [
    "# Wait for instance\n",
    "print 'Waiting for launch of ', instanceId\n",
    "waiter = client.get_waiter('instance_running')\n",
    "waiter.wait(\n",
    "    InstanceIds=[\n",
    "        instanceId,\n",
    "    ]\n",
    ")"
   ]
  },
  {
   "cell_type": "code",
   "execution_count": null,
   "metadata": {
    "collapsed": false
   },
   "outputs": [],
   "source": [
    "# Describe the instance - we're interested in the public IP address for the next step\n",
    "response = client.describe_instances(\n",
    "    InstanceIds=[\n",
    "        instanceId,\n",
    "    ]\n",
    ")\n",
    "\n",
    "ipAddress = response['Reservations'][0]['Instances'][0]['PublicIpAddress']\n",
    "print ipAddress"
   ]
  },
  {
   "cell_type": "code",
   "execution_count": null,
   "metadata": {
    "collapsed": false
   },
   "outputs": [],
   "source": [
    "# Grab the proxy config from the environment\n",
    "import os\n",
    "proxy = os.environ['https_proxy']\n",
    "\n",
    "proxyParts =  proxy.split(':')\n",
    "proxyPort = proxyParts[2]\n",
    "proxyHost = proxyParts[1].split('//')[1]\n",
    "print proxyHost, proxyPort\n"
   ]
  },
  {
   "cell_type": "code",
   "execution_count": null,
   "metadata": {
    "collapsed": false
   },
   "outputs": [],
   "source": [
    "# Do a get on the endpoint\n",
    "import httplib\n",
    "\n",
    "def printText(txt):\n",
    "    lines = txt.split('\\n')\n",
    "    for line in lines:\n",
    "        print line.strip()\n",
    "\n",
    "conn = httplib.HTTPConnection(proxyHost, proxyPort)\n",
    "\n",
    "conn.request('GET', 'http://' + ipAddress + '/')\n",
    "\n",
    "response = conn.getresponse()\n",
    "printText (response.read())\n"
   ]
  },
  {
   "cell_type": "markdown",
   "metadata": {},
   "source": [
    "## Elastic IPs"
   ]
  },
  {
   "cell_type": "code",
   "execution_count": null,
   "metadata": {
    "collapsed": false
   },
   "outputs": [],
   "source": [
    "# Create an elastic IP\n",
    "response = client.allocate_address(\n",
    "    Domain='vpc'\n",
    ")\n",
    "\n",
    "publicIP = response['PublicIp']\n",
    "allocationID = response['AllocationId']\n",
    "print 'Elastic IP:', publicIP, ' Allocation ID: ', allocationID"
   ]
  },
  {
   "cell_type": "code",
   "execution_count": null,
   "metadata": {
    "collapsed": false
   },
   "outputs": [],
   "source": [
    "# Attach this to the instance we created above.\n",
    "response = client.associate_address(\n",
    "    InstanceId=instanceId,\n",
    "    AllocationId=allocationID\n",
    ")\n",
    "\n",
    "associationID = response['AssociationId']\n",
    "print 'Association ID: ',associationID\n"
   ]
  },
  {
   "cell_type": "code",
   "execution_count": null,
   "metadata": {
    "collapsed": false
   },
   "outputs": [],
   "source": [
    "# Now do a get on the endpoint using the elastic IP\n",
    "conn = httplib.HTTPConnection(proxyHost, proxyPort)\n",
    "\n",
    "conn.request('GET', 'http://' + publicIP + '/')\n",
    "\n",
    "response = conn.getresponse()\n",
    "printText (response.read())"
   ]
  },
  {
   "cell_type": "code",
   "execution_count": null,
   "metadata": {
    "collapsed": true
   },
   "outputs": [],
   "source": [
    "# Clean up\n",
    "\n",
    "# Disassociate the elastic IP - we will use this later so we do not\n",
    "# remove it yet.\n",
    "response = client.disassociate_address(\n",
    "    AssociationId=associationID\n",
    ")\n",
    "print response"
   ]
  },
  {
   "cell_type": "code",
   "execution_count": null,
   "metadata": {
    "collapsed": false
   },
   "outputs": [],
   "source": [
    "\n",
    "# EC2 Instance\n",
    "response = client.terminate_instances(\n",
    "    InstanceIds=[\n",
    "        instanceId,\n",
    "    ]\n",
    ")\n",
    "\n",
    "print response\n",
    "\n",
    "print 'Waiting for termination to complete'\n",
    "waiter = client.get_waiter('instance_terminated')\n",
    "waiter.wait(\n",
    "   InstanceIds=[\n",
    "       instanceId,\n",
    "   ]\n",
    ")"
   ]
  },
  {
   "cell_type": "markdown",
   "metadata": {},
   "source": [
    "## Launch an Instance in a Private Subnet\n",
    "\n",
    "Let's repeat the above, except we'll launch an instance in a private subnet"
   ]
  },
  {
   "cell_type": "code",
   "execution_count": null,
   "metadata": {
    "collapsed": false
   },
   "outputs": [],
   "source": [
    "response = client.run_instances(\n",
    "    DryRun=False,\n",
    "    ImageId=ami_id,\n",
    "    MinCount=1,\n",
    "    MaxCount=1,\n",
    "    SecurityGroupIds=[\n",
    "        webSgID,\n",
    "    ],\n",
    "    UserData=user_data,\n",
    "    InstanceType='t2.micro',\n",
    "    SubnetId=private_subnets[0],\n",
    "    \n",
    ")\n",
    "\n",
    "instanceId = response['Instances'][0]['InstanceId']\n",
    "\n",
    "# Wait for instance\n",
    "print 'wait for instance to start'\n",
    "waiter = client.get_waiter('instance_running')\n",
    "waiter.wait(\n",
    "    InstanceIds=[\n",
    "        instanceId,\n",
    "    ]\n",
    ")\n",
    "\n",
    "# Describe the instance - we're interested in the public IP address for the next step\n",
    "private_launch_response = client.describe_instances(\n",
    "    InstanceIds=[\n",
    "        instanceId,\n",
    "    ]\n",
    ")"
   ]
  },
  {
   "cell_type": "markdown",
   "metadata": {},
   "source": [
    "### What Addresses Does the Instance In the Private Subnet Have?"
   ]
  },
  {
   "cell_type": "code",
   "execution_count": null,
   "metadata": {
    "collapsed": false
   },
   "outputs": [],
   "source": [
    "instance = private_launch_response['Reservations'][0]['Instances'][0]\n",
    "print 'public dns name: ', instance['PublicDnsName']\n",
    "if 'PublicIpAddress' in instance:\n",
    "    print 'public ip address: ', instance['PublicIpAddress']\n",
    "print 'private ip address: ', instance['PrivateIpAddress']\n",
    "print 'private dns name: ', instance['PrivateDnsName']\n"
   ]
  },
  {
   "cell_type": "markdown",
   "metadata": {},
   "source": [
    "### What Happens When We Associate a Public Address?"
   ]
  },
  {
   "cell_type": "code",
   "execution_count": null,
   "metadata": {
    "collapsed": false
   },
   "outputs": [],
   "source": [
    "# Attach this to the instance we created above.\n",
    "response = client.associate_address(\n",
    "    InstanceId=instanceId,\n",
    "    AllocationId=allocationID\n",
    ")\n",
    "\n",
    "associationID = response['AssociationId']\n",
    "print 'Association ID: ',associationID"
   ]
  },
  {
   "cell_type": "code",
   "execution_count": null,
   "metadata": {
    "collapsed": false
   },
   "outputs": [],
   "source": [
    "private_launch_response = client.describe_instances(\n",
    "    InstanceIds=[\n",
    "        instanceId,\n",
    "    ]\n",
    ")\n"
   ]
  },
  {
   "cell_type": "code",
   "execution_count": null,
   "metadata": {
    "collapsed": false
   },
   "outputs": [],
   "source": [
    "instance = private_launch_response['Reservations'][0]['Instances'][0]\n",
    "print 'public dns name: ', instance['PublicDnsName']\n",
    "if 'PublicIpAddress' in instance:\n",
    "    print 'public ip address: ', instance['PublicIpAddress']\n",
    "print 'private ip address: ', instance['PrivateIpAddress']\n",
    "print 'private dns name: ', instance['PrivateDnsName']\n"
   ]
  },
  {
   "cell_type": "markdown",
   "metadata": {},
   "source": [
    "### Can We Access the Instance in the Private Subnet Now?"
   ]
  },
  {
   "cell_type": "code",
   "execution_count": null,
   "metadata": {
    "collapsed": false
   },
   "outputs": [],
   "source": [
    "# Do a get on the endpoint using the elastic IP\n",
    "conn = httplib.HTTPConnection(proxyHost, proxyPort)\n",
    "\n",
    "conn.request('GET', 'http://' + publicIP + '/')\n",
    "\n",
    "response = conn.getresponse()\n",
    "printText (response.read())"
   ]
  },
  {
   "cell_type": "markdown",
   "metadata": {},
   "source": [
    "### Let's Add a Route to the Internet Gateway and Try It Again"
   ]
  },
  {
   "cell_type": "code",
   "execution_count": null,
   "metadata": {
    "collapsed": false
   },
   "outputs": [],
   "source": [
    "response = client.associate_route_table(\n",
    "        SubnetId=instance['SubnetId'],\n",
    "        RouteTableId=routeTableId\n",
    "    )\n",
    "\n",
    "print response\n",
    "        \n",
    "associationIds.append(response['AssociationId'])"
   ]
  },
  {
   "cell_type": "code",
   "execution_count": null,
   "metadata": {
    "collapsed": true
   },
   "outputs": [],
   "source": [
    "private_launch_response = client.describe_instances(\n",
    "    InstanceIds=[\n",
    "        instanceId,\n",
    "    ]\n",
    ")"
   ]
  },
  {
   "cell_type": "code",
   "execution_count": null,
   "metadata": {
    "collapsed": false
   },
   "outputs": [],
   "source": [
    "instance = private_launch_response['Reservations'][0]['Instances'][0]\n",
    "print instance\n",
    "\n",
    "print 'public dns name: ', instance['PublicDnsName']\n",
    "if 'PublicIpAddress' in instance:\n",
    "    print 'public ip address: ', instance['PublicIpAddress']\n",
    "print 'private ip address: ', instance['PrivateIpAddress']\n",
    "print 'private dns name: ', instance['PrivateDnsName']"
   ]
  },
  {
   "cell_type": "code",
   "execution_count": null,
   "metadata": {
    "collapsed": false
   },
   "outputs": [],
   "source": [
    "# Do a get on the endpoint using the elastic IP\n",
    "conn = httplib.HTTPConnection(proxyHost, proxyPort)\n",
    "\n",
    "conn.request('GET', 'http://' + publicIP + '/')\n",
    "\n",
    "response = conn.getresponse()\n",
    "printText (response.read())"
   ]
  },
  {
   "cell_type": "markdown",
   "metadata": {},
   "source": [
    "### Demo \n",
    "\n",
    "Using the console and the command line...\n",
    "\n",
    "* Assign a public address to the instance via an elastic IP address\n",
    "* Show that the endpoint cannot be reached via curl even when assigned a public IP\n",
    "* Add the subnet the instance was placed in to the route table allowing ingress\n",
    "from the internet\n",
    "* Show the host can now be reached via curl\n",
    "* Remove the elastic IP address from the instance, and curl again\n",
    "* Remote the subnet from the route table prior to clean up"
   ]
  },
  {
   "cell_type": "code",
   "execution_count": null,
   "metadata": {
    "collapsed": false
   },
   "outputs": [],
   "source": [
    "# Clean up\n",
    "client.terminate_instances(\n",
    "    InstanceIds=[\n",
    "        instanceId,\n",
    "    ]\n",
    ")\n",
    "\n",
    "waiter = client.get_waiter('instance_terminated')\n",
    "waiter.wait(\n",
    "    InstanceIds=[\n",
    "        instanceId,\n",
    "    ]\n",
    ")\n",
    "\n"
   ]
  },
  {
   "cell_type": "code",
   "execution_count": null,
   "metadata": {
    "collapsed": false
   },
   "outputs": [],
   "source": [
    "# Clean up security group\n",
    "response = client.delete_security_group(\n",
    "    GroupId=webSgID\n",
    ")\n",
    "\n",
    "print response"
   ]
  },
  {
   "cell_type": "markdown",
   "metadata": {},
   "source": [
    "## EIP Clean Up"
   ]
  },
  {
   "cell_type": "code",
   "execution_count": null,
   "metadata": {
    "collapsed": false
   },
   "outputs": [],
   "source": [
    "response = client.release_address(\n",
    "    AllocationId=allocationID\n",
    ")\n",
    "\n",
    "print response"
   ]
  },
  {
   "cell_type": "markdown",
   "metadata": {},
   "source": [
    "## VPC Clean Up"
   ]
  },
  {
   "cell_type": "code",
   "execution_count": 31,
   "metadata": {
    "collapsed": false
   },
   "outputs": [
    {
     "name": "stdout",
     "output_type": "stream",
     "text": [
      "{'ResponseMetadata': {'RetryAttempts': 0, 'HTTPStatusCode': 200, 'RequestId': '513dbc00-4a57-41e8-b018-a217bfa60b38', 'HTTPHeaders': {'transfer-encoding': 'chunked', 'vary': 'Accept-Encoding', 'server': 'AmazonEC2', 'content-type': 'text/xml;charset=UTF-8', 'date': 'Fri, 10 Mar 2017 22:19:12 GMT'}}}\n"
     ]
    }
   ],
   "source": [
    "# Release the NAT gateway EIP\n",
    "response = client.release_address(\n",
    "    AllocationId=nat_eip_allocation_id\n",
    ")\n",
    "print response"
   ]
  },
  {
   "cell_type": "code",
   "execution_count": null,
   "metadata": {
    "collapsed": false
   },
   "outputs": [],
   "source": [
    "# Disassociate the public subnets from the route table\n",
    "for association in associationIds:\n",
    "    response = client.disassociate_route_table(\n",
    "    AssociationId=association\n",
    ")"
   ]
  },
  {
   "cell_type": "code",
   "execution_count": null,
   "metadata": {
    "collapsed": false
   },
   "outputs": [],
   "source": [
    "# Delete the route table\n",
    "response = client.delete_route_table(\n",
    "    RouteTableId = routeTableId\n",
    ")"
   ]
  },
  {
   "cell_type": "code",
   "execution_count": null,
   "metadata": {
    "collapsed": false
   },
   "outputs": [],
   "source": [
    "# Clean up gateway\n",
    "response = client.detach_internet_gateway(\n",
    "    InternetGatewayId=igwId,\n",
    "    VpcId=vpcId\n",
    ")\n",
    "print response\n",
    "\n",
    "response = client.delete_internet_gateway(\n",
    "    InternetGatewayId=igwId\n",
    ")\n",
    "print response"
   ]
  },
  {
   "cell_type": "code",
   "execution_count": null,
   "metadata": {
    "collapsed": false
   },
   "outputs": [],
   "source": [
    "# Delete subnets\n",
    "response = client.describe_subnets(\n",
    "    Filters=[\n",
    "        {\n",
    "            'Name': 'vpc-id',\n",
    "            'Values': [\n",
    "                vpcId,\n",
    "            ]\n",
    "        },\n",
    "    ]\n",
    ")\n",
    "\n",
    "subnets = response['Subnets']\n",
    "\n",
    "for sn in subnets:\n",
    "    response = client.delete_subnet(\n",
    "        SubnetId=sn['SubnetId']\n",
    "    )\n",
    "    \n",
    "    print response\n",
    "\n"
   ]
  },
  {
   "cell_type": "code",
   "execution_count": null,
   "metadata": {
    "collapsed": false
   },
   "outputs": [],
   "source": [
    "# Delete the VPC\n",
    "response = client.delete_vpc(\n",
    "    VpcId = vpcId\n",
    ")\n",
    "\n",
    "print response"
   ]
  },
  {
   "cell_type": "code",
   "execution_count": null,
   "metadata": {
    "collapsed": true
   },
   "outputs": [],
   "source": []
  }
 ],
 "metadata": {
  "kernelspec": {
   "display_name": "Python 2",
   "language": "python",
   "name": "python2"
  },
  "language_info": {
   "codemirror_mode": {
    "name": "ipython",
    "version": 2
   },
   "file_extension": ".py",
   "mimetype": "text/x-python",
   "name": "python",
   "nbconvert_exporter": "python",
   "pygments_lexer": "ipython2",
   "version": "2.7.12"
  }
 },
 "nbformat": 4,
 "nbformat_minor": 0
}
