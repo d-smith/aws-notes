{
 "cells": [
  {
   "cell_type": "markdown",
   "metadata": {},
   "source": [
    "# AWS Virtual Private Cloud\n",
    "\n",
    "A VPC is a logically isolated networking environment for your AWS resources. In this notebook we'll create a VPC, and partition it into public and private subnets, showing how we can use subnets as security containers or boundaries.\n",
    "\n",
    "## Creating a VPC"
   ]
  },
  {
   "cell_type": "code",
   "execution_count": null,
   "metadata": {
    "collapsed": false
   },
   "outputs": [],
   "source": [
    "import boto3\n",
    "\n",
    "client = boto3.client('ec2')\n",
    "vpc_response = client.create_vpc(\n",
    "    CidrBlock='10.0.0.0/16'\n",
    ")\n",
    "\n",
    "vpcId = vpc_response['Vpc']['VpcId']\n",
    "\n",
    "print vpc_response"
   ]
  },
  {
   "cell_type": "markdown",
   "metadata": {},
   "source": [
    "## Subnets\n",
    "\n",
    "Now that we have a VPC, we can create subnets. In contrast to a VPC, which spans all the availability zones in\n",
    "a region, a subnet is specific to an availability zone.\n",
    "\n",
    "So the first thing to figure out is what are the availability zones in the region."
   ]
  },
  {
   "cell_type": "code",
   "execution_count": null,
   "metadata": {
    "collapsed": false
   },
   "outputs": [],
   "source": [
    "response = client.describe_availability_zones()\n",
    "availability_zones = response['AvailabilityZones']\n",
    "\n",
    "for az in availability_zones:\n",
    "    print az"
   ]
  },
  {
   "cell_type": "markdown",
   "metadata": {},
   "source": [
    "One we know the zones, we can figure out if we can create a subnet in the zone by doing a dry run.\n",
    "\n",
    "TO DO: try this code in us-west-1, which has 3 AZs with only two of those supporting VPC subnet creation. I can create subnets in all AZs in us-east-1, so I just flip DryRun to false in the code below."
   ]
  },
  {
   "cell_type": "code",
   "execution_count": null,
   "metadata": {
    "collapsed": false
   },
   "outputs": [],
   "source": [
    "# Example code to create a subnet in each AZ\n",
    "subnet_no = -1\n",
    "cidr_base = '10.0.'\n",
    "for az in availability_zones:\n",
    "    subnet_no += 1\n",
    "    zone_name = az['ZoneName']\n",
    "    \n",
    "    print 'create subnet in zone ', zone_name, ' for subnet ', subnet_no\n",
    "    \n",
    "    try:\n",
    "        response = client.create_subnet(\n",
    "            DryRun=True,\n",
    "            VpcId = vpcId,\n",
    "            CidrBlock = cidr_base + str(subnet_no) + '.0/24',\n",
    "            AvailabilityZone = zone_name\n",
    "        )\n",
    "\n",
    "        print response\n",
    "        \n",
    "        \n",
    "    except Exception, Argument:\n",
    "        print Exception\n",
    "        print Argument\n",
    "        \n",
    "        \n"
   ]
  },
  {
   "cell_type": "code",
   "execution_count": null,
   "metadata": {
    "collapsed": false
   },
   "outputs": [],
   "source": [
    "# For the rest of this work book we'll create two subnets in two AZs. We'll treat \n",
    "# the odds as public, the evens as private.\n",
    "\n",
    "availability_zones = availability_zones[0:2]\n",
    "public_subnets = []\n",
    "\n",
    "subnet_no = -1\n",
    "cidr_base = '10.0.'\n",
    "for i in range(2):\n",
    "    subnet_no += 1\n",
    "    zone_name = availability_zones[i]['ZoneName']\n",
    "    \n",
    "    print 'create subnet in zone ', zone_name, ' for subnet ', subnet_no\n",
    "    \n",
    "    response = client.create_subnet(\n",
    "        VpcId = vpcId,\n",
    "        CidrBlock = cidr_base + str(subnet_no) + '.0/24',\n",
    "        AvailabilityZone = zone_name\n",
    "    )\n",
    "    \n",
    "    public_subnets.append(response['Subnet']['SubnetId'])\n",
    "    \n",
    "\n",
    "    subnet_no += 1    \n",
    "    print 'create subnet in zone ', zone_name, ' for subnet ', subnet_no\n",
    "    \n",
    "    response = client.create_subnet(\n",
    "        VpcId = vpcId,\n",
    "        CidrBlock = cidr_base + str(subnet_no) + '.0/24',\n",
    "        AvailabilityZone = zone_name\n",
    "    )    \n",
    "   \n",
    "    \n"
   ]
  },
  {
   "cell_type": "code",
   "execution_count": null,
   "metadata": {
    "collapsed": false
   },
   "outputs": [],
   "source": [
    "# We want public addresses on instances launched in the public subnet\n",
    "# by default.\n",
    "\n",
    "print public_subnets\n",
    "\n",
    "for id in public_subnets:\n",
    "    response = client.modify_subnet_attribute(\n",
    "        SubnetId=id,\n",
    "        MapPublicIpOnLaunch={\n",
    "            'Value': True\n",
    "        }\n",
    "    )\n",
    "    \n",
    "    print response"
   ]
  },
  {
   "cell_type": "markdown",
   "metadata": {},
   "source": [
    "## Public Subnets\n",
    "\n",
    "What makes a subnet public? Having Internet routable IP addresses, and access to the Internet. We've made the\n",
    "default address option for instances in our public subnets public/routable. To allow Internet access, we create and attach an internet gateway to the VPC, the create a route table with routes from the public subnets to the Internet."
   ]
  },
  {
   "cell_type": "code",
   "execution_count": null,
   "metadata": {
    "collapsed": false
   },
   "outputs": [],
   "source": [
    "## Create an internet gateway\n",
    "igw_response = client.create_internet_gateway()\n",
    "igwId = igw_response['InternetGateway']['InternetGatewayId']\n",
    "print 'Created gateway ', igwId"
   ]
  },
  {
   "cell_type": "code",
   "execution_count": null,
   "metadata": {
    "collapsed": false
   },
   "outputs": [],
   "source": [
    "# Attach internet gateway to VPC\n",
    "response = client.attach_internet_gateway(\n",
    "    InternetGatewayId=igw_response['InternetGateway']['InternetGatewayId'],\n",
    "    VpcId=vpcId\n",
    ")\n",
    "\n",
    "print response"
   ]
  },
  {
   "cell_type": "markdown",
   "metadata": {},
   "source": [
    "Instead of adding an external route to the default route table associated with \n",
    "the VPC, we'll create a route table for explicitly controlling subnet access\n",
    "to the internet. Note that the default route table allows traffic within the \n",
    "VPC, and is implicitly associated with the subnets."
   ]
  },
  {
   "cell_type": "code",
   "execution_count": null,
   "metadata": {
    "collapsed": false
   },
   "outputs": [],
   "source": [
    "# Create route table for public subnets\n",
    "rt_response = client.create_route_table(\n",
    "    VpcId = vpcId\n",
    ")\n",
    "\n",
    "routeTableId = rt_response['RouteTable']['RouteTableId']\n",
    "print 'Create route table ', routeTableId"
   ]
  },
  {
   "cell_type": "code",
   "execution_count": null,
   "metadata": {
    "collapsed": false
   },
   "outputs": [],
   "source": [
    "# Add route to the interwebs from the gateway\n",
    "\n",
    "response = client.create_route(\n",
    "    RouteTableId=routeTableId,\n",
    "    DestinationCidrBlock='0.0.0.0/0',\n",
    "    GatewayId=igwId,\n",
    ")\n",
    "\n",
    "print response"
   ]
  },
  {
   "cell_type": "code",
   "execution_count": null,
   "metadata": {
    "collapsed": false
   },
   "outputs": [],
   "source": [
    "# Associate the subnets with the route table\n",
    "associationIds = []\n",
    "\n",
    "for subnet in public_subnets:\n",
    "    response = client.associate_route_table(\n",
    "        SubnetId=subnet,\n",
    "        RouteTableId=routeTableId\n",
    "    )\n",
    "        \n",
    "    associationIds.append(response['AssociationId'])"
   ]
  },
  {
   "cell_type": "markdown",
   "metadata": {},
   "source": [
    "## Interlude - Launch an Instance in a Public Subnet\n",
    "\n",
    "Now that we have a VPC with public subnets, we should be able to launch an instance into a public subnet and\n",
    "connect to it. To allow connectivity to be verified, we'll use user data to install a LAMP stack with a test\n",
    "page we can retrieve.\n",
    "\n",
    "First, we'll need a security group allowing ingres"
   ]
  },
  {
   "cell_type": "code",
   "execution_count": null,
   "metadata": {
    "collapsed": false
   },
   "outputs": [],
   "source": [
    "#Create security group\n",
    "response = client.create_security_group(\n",
    "    GroupName='web_sg',\n",
    "    Description='Use for launching public web service',\n",
    "    VpcId=vpcId\n",
    ")\n",
    "\n",
    "webSgID = response['GroupId']\n",
    "print 'created security group ', webSgID"
   ]
  },
  {
   "cell_type": "code",
   "execution_count": null,
   "metadata": {
    "collapsed": false
   },
   "outputs": [],
   "source": [
    "# Clean up\n",
    "response = client.delete_security_group(\n",
    "    GroupId=webSgID\n",
    ")\n",
    "\n",
    "print response"
   ]
  },
  {
   "cell_type": "markdown",
   "metadata": {},
   "source": [
    "## Clean Up"
   ]
  },
  {
   "cell_type": "code",
   "execution_count": null,
   "metadata": {
    "collapsed": false
   },
   "outputs": [],
   "source": [
    "# Disassociate the public subnets from the route table\n",
    "for association in associationIds:\n",
    "    response = client.disassociate_route_table(\n",
    "    AssociationId=association\n",
    ")"
   ]
  },
  {
   "cell_type": "code",
   "execution_count": null,
   "metadata": {
    "collapsed": false
   },
   "outputs": [],
   "source": [
    "# Delete the route table\n",
    "response = client.delete_route_table(\n",
    "    RouteTableId = routeTableId\n",
    ")"
   ]
  },
  {
   "cell_type": "code",
   "execution_count": null,
   "metadata": {
    "collapsed": false
   },
   "outputs": [],
   "source": [
    "# Clean up gateway\n",
    "response = client.detach_internet_gateway(\n",
    "    InternetGatewayId=igwId,\n",
    "    VpcId=vpcId\n",
    ")\n",
    "print response\n",
    "\n",
    "response = client.delete_internet_gateway(\n",
    "    InternetGatewayId=igwId\n",
    ")\n",
    "print response"
   ]
  },
  {
   "cell_type": "code",
   "execution_count": null,
   "metadata": {
    "collapsed": false
   },
   "outputs": [],
   "source": [
    "# Delete subnets\n",
    "response = client.describe_subnets(\n",
    "    Filters=[\n",
    "        {\n",
    "            'Name': 'vpc-id',\n",
    "            'Values': [\n",
    "                vpcId,\n",
    "            ]\n",
    "        },\n",
    "    ]\n",
    ")\n",
    "\n",
    "subnets = response['Subnets']\n",
    "\n",
    "for sn in subnets:\n",
    "    response = client.delete_subnet(\n",
    "        SubnetId=sn['SubnetId']\n",
    "    )\n",
    "    \n",
    "    print response\n",
    "\n",
    "# Delete the VPC\n",
    "response = client.delete_vpc(\n",
    "    VpcId = vpcId\n",
    ")\n",
    "\n",
    "print response"
   ]
  },
  {
   "cell_type": "code",
   "execution_count": null,
   "metadata": {
    "collapsed": true
   },
   "outputs": [],
   "source": []
  }
 ],
 "metadata": {
  "kernelspec": {
   "display_name": "Python 2",
   "language": "python",
   "name": "python2"
  },
  "language_info": {
   "codemirror_mode": {
    "name": "ipython",
    "version": 2
   },
   "file_extension": ".py",
   "mimetype": "text/x-python",
   "name": "python",
   "nbconvert_exporter": "python",
   "pygments_lexer": "ipython2",
   "version": "2.7.12"
  }
 },
 "nbformat": 4,
 "nbformat_minor": 0
}
