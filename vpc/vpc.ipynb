{
 "cells": [
  {
   "cell_type": "markdown",
   "metadata": {},
   "source": [
    "# AWS Virtual Private Cloud\n",
    "\n",
    "A VPC is a logically isolated networking environment for your AWS resources. In this notebook we'll create a VPC, and partition it into public and private subnets, showing how we can use subnets as security containers or boundaries.\n",
    "\n",
    "## Creating a VPC"
   ]
  },
  {
   "cell_type": "code",
   "execution_count": null,
   "metadata": {
    "collapsed": false
   },
   "outputs": [],
   "source": [
    "import boto3\n",
    "\n",
    "client = boto3.client('ec2')\n",
    "vpc_response = client.create_vpc(\n",
    "    CidrBlock='10.0.0.0/16'\n",
    ")\n",
    "\n",
    "vpcId = vpc_response['Vpc']['VpcId']\n",
    "\n",
    "print vpc_response"
   ]
  },
  {
   "cell_type": "markdown",
   "metadata": {},
   "source": [
    "## Subnets\n",
    "\n",
    "Now that we have a VPC, we can create subnets. In contrast to a VPC, which spans all the availability zones in\n",
    "a region, a subnet is specific to an availability zone.\n",
    "\n",
    "So the first thing to figure out is what are the availability zones in the region."
   ]
  },
  {
   "cell_type": "code",
   "execution_count": null,
   "metadata": {
    "collapsed": false
   },
   "outputs": [],
   "source": [
    "response = client.describe_availability_zones()\n",
    "availability_zones = response['AvailabilityZones']\n",
    "\n",
    "for az in availability_zones:\n",
    "    print az"
   ]
  },
  {
   "cell_type": "markdown",
   "metadata": {},
   "source": [
    "One we know the zones, we can figure out if we can create a subnet in the zone by doing a dry run.\n",
    "\n",
    "TO DO: try this code in us-west-1, which has 3 AZs with only two of those supporting VPC subnet creation. I can create subnets in all AZs in us-east-1, so I just flip DryRun to false in the code below."
   ]
  },
  {
   "cell_type": "code",
   "execution_count": null,
   "metadata": {
    "collapsed": false
   },
   "outputs": [],
   "source": [
    "# Example code to create a subnet in each AZ\n",
    "subnet_no = -1\n",
    "cidr_base = '10.0.'\n",
    "for az in availability_zones:\n",
    "    subnet_no += 1\n",
    "    zone_name = az['ZoneName']\n",
    "    \n",
    "    print 'create subnet in zone ', zone_name, ' for subnet ', subnet_no\n",
    "    \n",
    "    try:\n",
    "        response = client.create_subnet(\n",
    "            DryRun=True,\n",
    "            VpcId = vpcId,\n",
    "            CidrBlock = cidr_base + str(subnet_no) + '.0/24',\n",
    "            AvailabilityZone = zone_name\n",
    "        )\n",
    "\n",
    "        print response\n",
    "        \n",
    "        \n",
    "    except Exception, Argument:\n",
    "        print Exception\n",
    "        print Argument\n",
    "        \n",
    "        \n"
   ]
  },
  {
   "cell_type": "code",
   "execution_count": null,
   "metadata": {
    "collapsed": false
   },
   "outputs": [],
   "source": [
    "# For the rest of this work book we'll create two subnets in two AZs\n",
    "availability_zones = availability_zones[0:2]\n",
    "subnet_no = -1\n",
    "cidr_base = '10.0.'\n",
    "for i in range(2):\n",
    "    subnet_no += 1\n",
    "    zone_name = availability_zones[i]['ZoneName']\n",
    "    \n",
    "    print 'create subnet in zone ', zone_name, ' for subnet ', subnet_no\n",
    "    \n",
    "    response = client.create_subnet(\n",
    "        VpcId = vpcId,\n",
    "        CidrBlock = cidr_base + str(subnet_no) + '.0/24',\n",
    "        AvailabilityZone = zone_name\n",
    "    )\n",
    "    \n",
    "\n",
    "    subnet_no += 1    \n",
    "    print 'create subnet in zone ', zone_name, ' for subnet ', subnet_no\n",
    "    \n",
    "    response = client.create_subnet(\n",
    "        VpcId = vpcId,\n",
    "        CidrBlock = cidr_base + str(subnet_no) + '.0/24',\n",
    "        AvailabilityZone = zone_name\n",
    "    )    \n",
    "   \n",
    "    \n"
   ]
  },
  {
   "cell_type": "markdown",
   "metadata": {},
   "source": [
    "## Clean Up"
   ]
  },
  {
   "cell_type": "code",
   "execution_count": null,
   "metadata": {
    "collapsed": false
   },
   "outputs": [],
   "source": [
    "# TODO - delete all the subnets in the VPC before deleting the VPC\n",
    "response = client.describe_subnets(\n",
    "    Filters=[\n",
    "        {\n",
    "            'Name': 'vpc-id',\n",
    "            'Values': [\n",
    "                vpcId,\n",
    "            ]\n",
    "        },\n",
    "    ]\n",
    ")\n",
    "\n",
    "subnets = response['Subnets']\n",
    "\n",
    "for sn in subnets:\n",
    "    response = client.delete_subnet(\n",
    "        SubnetId=sn['SubnetId']\n",
    "    )\n",
    "    \n",
    "    print response\n",
    "\n",
    "# Delete the VPC\n",
    "response = client.delete_vpc(\n",
    "    VpcId = vpcId\n",
    ")\n",
    "\n",
    "print response"
   ]
  },
  {
   "cell_type": "code",
   "execution_count": null,
   "metadata": {
    "collapsed": true
   },
   "outputs": [],
   "source": []
  }
 ],
 "metadata": {
  "kernelspec": {
   "display_name": "Python 2",
   "language": "python",
   "name": "python2"
  },
  "language_info": {
   "codemirror_mode": {
    "name": "ipython",
    "version": 2
   },
   "file_extension": ".py",
   "mimetype": "text/x-python",
   "name": "python",
   "nbconvert_exporter": "python",
   "pygments_lexer": "ipython2",
   "version": "2.7.12"
  }
 },
 "nbformat": 4,
 "nbformat_minor": 0
}
