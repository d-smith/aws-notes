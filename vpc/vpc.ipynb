{
 "cells": [
  {
   "cell_type": "markdown",
   "metadata": {},
   "source": [
    "# AWS Virtual Private Cloud\n",
    "\n",
    "A VPC is a logically isolated networking environment for your AWS resources. In this notebook we'll create a VPC, and partition it into public and private subnets, showing how we can use subnets as security containers or boundaries.\n",
    "\n",
    "## Creating a VPC"
   ]
  },
  {
   "cell_type": "code",
   "execution_count": 7,
   "metadata": {
    "collapsed": false
   },
   "outputs": [
    {
     "name": "stdout",
     "output_type": "stream",
     "text": [
      "{'ResponseMetadata': {'RetryAttempts': 0, 'HTTPStatusCode': 200, 'RequestId': 'a327bd93-af67-4f49-a4f8-d90a034f5302', 'HTTPHeaders': {'transfer-encoding': 'chunked', 'vary': 'Accept-Encoding', 'server': 'AmazonEC2', 'content-type': 'text/xml;charset=UTF-8', 'date': 'Sun, 19 Feb 2017 15:28:23 GMT'}}, u'Vpc': {u'VpcId': 'vpc-ed9feb8b', u'InstanceTenancy': 'default', u'Tags': [], u'Ipv6CidrBlockAssociationSet': [], u'State': 'pending', u'DhcpOptionsId': 'dopt-363b2f54', u'CidrBlock': '10.0.0.0/16', u'IsDefault': False}}\n"
     ]
    }
   ],
   "source": [
    "import boto3\n",
    "\n",
    "client = boto3.client('ec2')\n",
    "vpc_response = client.create_vpc(\n",
    "    CidrBlock='10.0.0.0/16'\n",
    ")\n",
    "\n",
    "print vpc_response"
   ]
  },
  {
   "cell_type": "markdown",
   "metadata": {},
   "source": [
    "## Subnets\n",
    "\n",
    "Now that we have a VPC, we can create subnets. In contrast to a VPC, which spans all the availability zones in\n",
    "a region, a subnet is specific to an availability zone.\n",
    "\n",
    "So the first thing to figure out is what are the availability zones in the region."
   ]
  },
  {
   "cell_type": "code",
   "execution_count": 11,
   "metadata": {
    "collapsed": false
   },
   "outputs": [
    {
     "name": "stdout",
     "output_type": "stream",
     "text": [
      "{u'State': 'available', u'RegionName': 'us-east-1', u'Messages': [], u'ZoneName': 'us-east-1a'}\n",
      "{u'State': 'available', u'RegionName': 'us-east-1', u'Messages': [], u'ZoneName': 'us-east-1b'}\n",
      "{u'State': 'available', u'RegionName': 'us-east-1', u'Messages': [], u'ZoneName': 'us-east-1c'}\n",
      "{u'State': 'available', u'RegionName': 'us-east-1', u'Messages': [], u'ZoneName': 'us-east-1d'}\n",
      "{u'State': 'available', u'RegionName': 'us-east-1', u'Messages': [], u'ZoneName': 'us-east-1e'}\n"
     ]
    }
   ],
   "source": [
    "response = client.describe_availability_zones()\n",
    "availability_zones = response['AvailabilityZones']\n",
    "\n",
    "for az in availability_zones:\n",
    "    print az"
   ]
  },
  {
   "cell_type": "markdown",
   "metadata": {},
   "source": [
    "One we know the zones, we can figure out if we can create a subnet in the zone by doing a dry run"
   ]
  },
  {
   "cell_type": "code",
   "execution_count": null,
   "metadata": {
    "collapsed": true
   },
   "outputs": [],
   "source": []
  },
  {
   "cell_type": "markdown",
   "metadata": {},
   "source": [
    "## Clean Up"
   ]
  },
  {
   "cell_type": "code",
   "execution_count": 12,
   "metadata": {
    "collapsed": false
   },
   "outputs": [
    {
     "name": "stdout",
     "output_type": "stream",
     "text": [
      "{'ResponseMetadata': {'RetryAttempts': 0, 'HTTPStatusCode': 200, 'RequestId': '6a837279-b8fb-4e88-b51c-6862e5d4f3ce', 'HTTPHeaders': {'transfer-encoding': 'chunked', 'vary': 'Accept-Encoding', 'server': 'AmazonEC2', 'content-type': 'text/xml;charset=UTF-8', 'date': 'Sun, 19 Feb 2017 15:36:31 GMT'}}}\n"
     ]
    }
   ],
   "source": [
    "# Delete the VPC\n",
    "response = client.delete_vpc(\n",
    "    VpcId = vpc_response['Vpc']['VpcId']\n",
    ")\n",
    "\n",
    "print response"
   ]
  },
  {
   "cell_type": "code",
   "execution_count": null,
   "metadata": {
    "collapsed": true
   },
   "outputs": [],
   "source": []
  }
 ],
 "metadata": {
  "kernelspec": {
   "display_name": "Python 2",
   "language": "python",
   "name": "python2"
  },
  "language_info": {
   "codemirror_mode": {
    "name": "ipython",
    "version": 2
   },
   "file_extension": ".py",
   "mimetype": "text/x-python",
   "name": "python",
   "nbconvert_exporter": "python",
   "pygments_lexer": "ipython2",
   "version": "2.7.12"
  }
 },
 "nbformat": 4,
 "nbformat_minor": 0
}
