{
 "cells": [
  {
   "cell_type": "code",
   "execution_count": null,
   "metadata": {},
   "outputs": [],
   "source": [
    "import boto3\n",
    "\n",
    "eb = boto3.client('events')\n",
    "kinesis = boto3.client('kinesis')"
   ]
  },
  {
   "cell_type": "code",
   "execution_count": null,
   "metadata": {},
   "outputs": [],
   "source": [
    "import os\n",
    "account_no = os.environ['ACCOUNT_NO']"
   ]
  },
  {
   "cell_type": "code",
   "execution_count": null,
   "metadata": {},
   "outputs": [],
   "source": [
    "kinesis.create_stream(\n",
    "    StreamName='destination', \n",
    "    ShardCount = 1)"
   ]
  },
  {
   "cell_type": "code",
   "execution_count": null,
   "metadata": {},
   "outputs": [],
   "source": [
    "print(eb)\n",
    "cbr = eb.create_event_bus(\n",
    "    Name='greyhound'\n",
    ")\n",
    "print(cbr)"
   ]
  },
  {
   "cell_type": "code",
   "execution_count": null,
   "metadata": {},
   "outputs": [],
   "source": [
    "# Create a role that lets the event bridge write to the destination stream\n",
    "import json\n",
    "\n",
    "kinesis_write_policy = {\n",
    "    \"Version\": \"2012-10-17\",\n",
    "    \"Statement\": [\n",
    "        \n",
    "        {\n",
    "            \"Sid\": \"WriteOutputKinesis\",\n",
    "            \"Effect\": \"Allow\",\n",
    "            \"Action\": [\n",
    "                \"kinesis:DescribeStream\",\n",
    "                \"kinesis:PutRecord\",\n",
    "                \"kinesis:PutRecords\"\n",
    "            ],\n",
    "            \"Resource\": [\n",
    "                \"arn:aws:kinesis:us-east-1:\" + account_no + \":stream/destination\"\n",
    "            ]\n",
    "        }\n",
    "    ]\n",
    "}\n",
    "\n",
    "assume_role_policy = {\n",
    "    \"Statement\":[{\n",
    "        \"Effect\":\"Allow\",\n",
    "        \"Principal\": {\"Service\":[\"events.amazonaws.com\"]},\n",
    "        \"Action\": [\"sts:AssumeRole\"]\n",
    "    }]\n",
    "}\n",
    "\n",
    "iam = boto3.client('iam')\n",
    "\n",
    "crr = iam.create_role(\n",
    "    RoleName='sample-eb-role',\n",
    "    Path='/service-role/',\n",
    "    AssumeRolePolicyDocument=json.dumps(assume_role_policy)\n",
    ")\n",
    "\n",
    "print(crr)\n",
    "\n",
    "prp = iam.put_role_policy(\n",
    "    RoleName='sample-eb-role',\n",
    "    PolicyName='EBPolicy',\n",
    "    PolicyDocument=json.dumps(kinesis_write_policy)\n",
    ")\n",
    "\n",
    "print(prp)"
   ]
  },
  {
   "cell_type": "code",
   "execution_count": null,
   "metadata": {},
   "outputs": [],
   "source": [
    "pattern = {\n",
    "    \"detail\": {\n",
    "        \"type\":[\"foo\"]\n",
    "    }\n",
    "}"
   ]
  },
  {
   "cell_type": "code",
   "execution_count": null,
   "metadata": {},
   "outputs": [],
   "source": [
    "eb.put_rule(\n",
    "    Name='everything2stream',\n",
    "    State='ENABLED', \n",
    "    RoleArn= \"arn:aws:iam::\" + account_no + \":role/service-role/sample-eb-role\",\n",
    "    #EventPattern=json.dumps(pattern),\n",
    "    EventPattern='{\"source\":[\"yo.mamma\"]}',\n",
    "    EventBusName='greyhound'\n",
    ")"
   ]
  },
  {
   "cell_type": "code",
   "execution_count": null,
   "metadata": {},
   "outputs": [],
   "source": [
    "from datetime import datetime, timezone\n",
    "import uuid\n",
    "\n",
    "def timestamp():\n",
    "    the_time = datetime.now(timezone.utc)\n",
    "    return the_time.isoformat()\n",
    "\n",
    "event1 = {\n",
    "    \"specversion\":\"1.0\",\n",
    "    \"type\":\"newFoo\",\n",
    "    \"source\":\"yo.mamma\",\n",
    "    \"id\":str(uuid.uuid4()),\n",
    "    \"time\":timestamp(),\n",
    "    \"data\":{\"fooaddr\":\"foostuffval\",\n",
    "       \"foolist\": [1,2,3],\n",
    "       \"barobj\": {\n",
    "           \"baraatr1\":\"yes\",\n",
    "           \"barattr2\":False,\n",
    "           \"barattr3\":122.22\n",
    "       }}\n",
    "}\n",
    "\n",
    "event2 = {\n",
    "    \"specversion\":\"1.0\",\n",
    "    \"type\":\"foo\",\n",
    "    \"source\":\"foo\",\n",
    "    \"id\":str(uuid.uuid4()),\n",
    "    \"time\":timestamp(),\n",
    "    \"data\":{\"fooaddr\":\"foostuffval\",\n",
    "       \"foolist\": [1,2,3],\n",
    "       \"barobj\": {\n",
    "           \"baraatr1\":\"yes\",\n",
    "           \"barattr2\":False,\n",
    "           \"barattr3\":122.22\n",
    "       }}\n",
    "}"
   ]
  },
  {
   "cell_type": "code",
   "execution_count": null,
   "metadata": {},
   "outputs": [],
   "source": [
    "# Try match\n",
    "print(json.dumps(event2))\n",
    "\n",
    "wrapped = {\n",
    "  \"version\": \"0\",\n",
    "  \"id\": \"3e3c153a-8339-4e30-8c35-687ebef853fe\",\n",
    "  \"detail-type\": \"EC2 Instance Launch Successful\",\n",
    "  \"source\": \"aws.autoscaling\",\n",
    "  \"account\": \"123456789012\",\n",
    "  \"time\": \"2015-11-11T21:31:47Z\",\n",
    "  \"region\": \"us-east-1\",\n",
    "  \"resources\": [\n",
    "   ],\n",
    "  \"detail\":event2\n",
    "}\n",
    "print(wrapped)\n",
    "response = eb.test_event_pattern(\n",
    "    EventPattern=json.dumps(pattern),\n",
    "    Event=json.dumps(wrapped)\n",
    ")\n",
    "print(response)\n",
    "\n",
    "wrapped['detail'] = event1\n",
    "print(wrapped)\n",
    "\n",
    "response = eb.test_event_pattern(\n",
    "    EventPattern=json.dumps(pattern),\n",
    "    Event=json.dumps(wrapped)\n",
    ")\n",
    "\n",
    "print(response)"
   ]
  },
  {
   "cell_type": "code",
   "execution_count": null,
   "metadata": {},
   "outputs": [],
   "source": [
    "# Add a target for the rule\n",
    "ptr = eb.put_targets(\n",
    "    Rule='everything2stream',\n",
    "    EventBusName='greyhound',\n",
    "    Targets=[\n",
    "        {\n",
    "            'Id':'streamTarget',\n",
    "            'Arn':'arn:aws:kinesis:us-east-1:' + account_no + ':stream/destination'\n",
    "        }\n",
    "    ]\n",
    ")\n",
    "print(ptr)"
   ]
  },
  {
   "cell_type": "code",
   "execution_count": null,
   "metadata": {},
   "outputs": [],
   "source": [
    "# Put an event\n",
    "\n",
    "wrapped = {\n",
    "    \"Detail\":json.dumps(event2),\n",
    "    \"EventBusName\":\"grayhound\",\n",
    "    \"Source\":\"yo.momma\",\n",
    "    \"DetailType\":\"blah blah blah\"\n",
    "}\n",
    "\n",
    "print(wrapped)\n",
    "\n",
    "per = eb.put_events(\n",
    "    Entries=[\n",
    "        \n",
    "            wrapped\n",
    "        \n",
    "    ]\n",
    ")\n",
    "\n",
    "print(per)"
   ]
  },
  {
   "cell_type": "code",
   "execution_count": null,
   "metadata": {},
   "outputs": [],
   "source": [
    "# Did it show up in the stream?\n",
    "\n",
    "ls = kinesis.list_shards(\n",
    "    StreamName='destination'\n",
    ")\n",
    "print(ls)\n",
    "\n",
    "shardId= ls['Shards'][0]['ShardId']\n",
    "print(shardId)\n",
    "\n",
    "gsi = kinesis.get_shard_iterator(\n",
    "    StreamName='destination',\n",
    "    ShardId=shardId,\n",
    "    ShardIteratorType='TRIM_HORIZON'\n",
    ")\n",
    "\n",
    "print(gsi)\n",
    "\n",
    "shardItor = gsi['ShardIterator']\n",
    "print(shardItor)\n",
    "\n",
    "recs = kinesis.get_records(\n",
    "    ShardIterator=shardItor\n",
    ")\n",
    "print(recs)"
   ]
  },
  {
   "cell_type": "markdown",
   "metadata": {},
   "source": [
    "### Clean Up"
   ]
  },
  {
   "cell_type": "code",
   "execution_count": null,
   "metadata": {},
   "outputs": [],
   "source": [
    "eb.remove_targets(\n",
    "    Rule='everything2stream',\n",
    "    EventBusName='greyhound',\n",
    "    Ids=[\n",
    "        'streamTarget',\n",
    "    ]\n",
    ")"
   ]
  },
  {
   "cell_type": "code",
   "execution_count": null,
   "metadata": {},
   "outputs": [],
   "source": [
    "eb.delete_rule(\n",
    "    Name='everything2stream',\n",
    "    EventBusName='greyhound'\n",
    ")"
   ]
  },
  {
   "cell_type": "code",
   "execution_count": null,
   "metadata": {},
   "outputs": [],
   "source": [
    "eb.delete_event_bus(\n",
    "    Name='greyhound'\n",
    ")"
   ]
  },
  {
   "cell_type": "code",
   "execution_count": null,
   "metadata": {},
   "outputs": [],
   "source": [
    "\n",
    "kinesis.delete_stream(StreamName='destination')"
   ]
  },
  {
   "cell_type": "code",
   "execution_count": null,
   "metadata": {},
   "outputs": [],
   "source": [
    "iam.delete_role_policy(\n",
    "    RoleName='sample-eb-role',\n",
    "    PolicyName='EBPolicy'\n",
    ")"
   ]
  },
  {
   "cell_type": "code",
   "execution_count": null,
   "metadata": {},
   "outputs": [],
   "source": [
    "iam.delete_role(\n",
    "    RoleName='sample-eb-role'\n",
    ")"
   ]
  },
  {
   "cell_type": "code",
   "execution_count": null,
   "metadata": {},
   "outputs": [],
   "source": []
  }
 ],
 "metadata": {
  "kernelspec": {
   "display_name": "Python 3",
   "language": "python",
   "name": "python3"
  },
  "language_info": {
   "codemirror_mode": {
    "name": "ipython",
    "version": 3
   },
   "file_extension": ".py",
   "mimetype": "text/x-python",
   "name": "python",
   "nbconvert_exporter": "python",
   "pygments_lexer": "ipython3",
   "version": "3.6.5"
  }
 },
 "nbformat": 4,
 "nbformat_minor": 2
}
