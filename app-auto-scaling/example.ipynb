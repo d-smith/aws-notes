{
 "cells": [
  {
   "cell_type": "code",
   "execution_count": null,
   "metadata": {
    "collapsed": true
   },
   "outputs": [],
   "source": [
    "import boto3\n",
    "\n",
    "elb = boto3.client('elb')\n",
    "ec2 = boto3.client('ec2')"
   ]
  },
  {
   "cell_type": "code",
   "execution_count": null,
   "metadata": {
    "collapsed": false
   },
   "outputs": [],
   "source": [
    "my_session = boto3.session.Session()\n",
    "my_region = my_session.region_name\n",
    "print my_region"
   ]
  },
  {
   "cell_type": "code",
   "execution_count": null,
   "metadata": {
    "collapsed": false
   },
   "outputs": [],
   "source": [
    "# AMIs are unique per region. Here we will look up our AMI based on our region\n",
    "amis = {}\n",
    "amis['us-east-1'] = 'ami-0b33d91d'\n",
    "amis['us-east-2'] = 'ami-446f3521'\n",
    "amis['us-west-1'] = 'ami-9fadf8ff'\n",
    "amis['us-west-2'] = 'ami-7abc111a'\n",
    "amis['eu-west-1'] = 'ami-a1491ad2'\n",
    "amis['ca-central-1'] = 'ami-ebed508f'\n",
    "\n",
    "ami_id = amis[my_region]\n",
    "print ami_id"
   ]
  },
  {
   "cell_type": "code",
   "execution_count": null,
   "metadata": {
    "collapsed": true
   },
   "outputs": [],
   "source": [
    "user_data = \\\n",
    "\"\"\"#!/bin/bash\n",
    "yum update -y\n",
    "yum install httpd -y\n",
    "cd /var/www/html\n",
    "echo \"<html><h1>Hello cloud gurus</h1></html>\" > /var/www/html/index.html\n",
    "service httpd start\"\"\""
   ]
  },
  {
   "cell_type": "code",
   "execution_count": null,
   "metadata": {
    "collapsed": false
   },
   "outputs": [],
   "source": [
    "# Make a web security group for the load balancer\n",
    "response = ec2.create_security_group(\n",
    "    GroupName='web_sg',\n",
    "    Description='SG for web ingres'\n",
    ")\n",
    "\n",
    "webSGID = response['GroupId']\n",
    "print 'created security group ', webSGID\n",
    "\n",
    "# Allow ingress for ssh\n",
    "response = ec2.authorize_security_group_ingress(\n",
    "    GroupId=webSGID,\n",
    "    IpProtocol='tcp',\n",
    "    FromPort=80,\n",
    "    ToPort=80,\n",
    "    CidrIp='0.0.0.0/0'\n",
    ")\n",
    "\n",
    "print response"
   ]
  },
  {
   "cell_type": "code",
   "execution_count": null,
   "metadata": {
    "collapsed": false
   },
   "outputs": [],
   "source": [
    "# Launch instance - default VPC, default subnet, etc.\n",
    "launch_response = ec2.run_instances(\n",
    "    ImageId=ami_id,\n",
    "    MinCount=1,\n",
    "    MaxCount=1,\n",
    "    InstanceType='t2.micro',\n",
    "    UserData=user_data,\n",
    "    SecurityGroups=[\n",
    "        'web_sg'\n",
    "    ],\n",
    ")\n",
    "\n",
    "\n",
    "instanceId = launch_response['Instances'][0]['InstanceId']\n",
    "print instanceId"
   ]
  },
  {
   "cell_type": "code",
   "execution_count": null,
   "metadata": {
    "collapsed": false
   },
   "outputs": [],
   "source": [
    "# What are the availability zones in the region?\n",
    "response = ec2.describe_availability_zones()\n",
    "\n",
    "zones = []\n",
    "for z in response['AvailabilityZones']:\n",
    "    zones.append(z['ZoneName'])\n",
    "    \n",
    "print zones"
   ]
  },
  {
   "cell_type": "code",
   "execution_count": null,
   "metadata": {
    "collapsed": false
   },
   "outputs": [],
   "source": [
    "# Create the load balancer\n",
    "create_elb_response = elb.create_load_balancer(\n",
    "    LoadBalancerName='sample-lb',\n",
    "    Listeners=[\n",
    "        {\n",
    "            'Protocol': 'HTTP',\n",
    "            'LoadBalancerPort': 80,\n",
    "            'InstanceProtocol': 'HTTP',\n",
    "            'InstancePort': 80\n",
    "        },\n",
    "    ],\n",
    "    AvailabilityZones=[\n",
    "        zones[0], zones[1]\n",
    "    ],\n",
    "    SecurityGroups=[\n",
    "        webSGID,\n",
    "    ]\n",
    ")\n",
    "\n",
    "print create_elb_response"
   ]
  },
  {
   "cell_type": "code",
   "execution_count": null,
   "metadata": {
    "collapsed": false
   },
   "outputs": [],
   "source": [
    "response = elb.register_instances_with_load_balancer(\n",
    "     LoadBalancerName='sample-lb',\n",
    "    Instances=[\n",
    "        {\n",
    "            'InstanceId': instanceId\n",
    "        },\n",
    "    ]\n",
    ")\n",
    "\n",
    "print response"
   ]
  },
  {
   "cell_type": "code",
   "execution_count": null,
   "metadata": {
    "collapsed": false
   },
   "outputs": [],
   "source": [
    "response = elb.describe_instance_health(\n",
    "    LoadBalancerName='sample-lb',\n",
    "    Instances=[\n",
    "        {\n",
    "            'InstanceId': instanceId\n",
    "        },\n",
    "    ]\n",
    ")\n",
    "print response"
   ]
  },
  {
   "cell_type": "code",
   "execution_count": null,
   "metadata": {
    "collapsed": false
   },
   "outputs": [],
   "source": [
    "response = elb.describe_load_balancers(\n",
    "    LoadBalancerNames=[\n",
    "        'sample-lb',\n",
    "    ]\n",
    ")\n",
    "\n",
    "print response"
   ]
  },
  {
   "cell_type": "code",
   "execution_count": null,
   "metadata": {
    "collapsed": false
   },
   "outputs": [],
   "source": [
    "# Destroy the load balancer\n",
    "response = elb.delete_load_balancer(\n",
    "    LoadBalancerName='sample-lb'\n",
    ")\n",
    "\n",
    "print response"
   ]
  },
  {
   "cell_type": "code",
   "execution_count": null,
   "metadata": {
    "collapsed": false
   },
   "outputs": [],
   "source": [
    "# Terminate the instance\n",
    "response = ec2.terminate_instances(\n",
    "    InstanceIds=[\n",
    "        instanceId,\n",
    "    ]\n",
    ")\n",
    "print response\n",
    "\n"
   ]
  },
  {
   "cell_type": "code",
   "execution_count": null,
   "metadata": {
    "collapsed": false
   },
   "outputs": [],
   "source": [
    "# Wait for the instance to terminate\n",
    "waiter = ec2.get_waiter('instance_terminated')\n",
    "waiter.wait(\n",
    "    InstanceIds=[\n",
    "        instanceId,\n",
    "    ]\n",
    ")\n",
    "print 'instance stopped'"
   ]
  },
  {
   "cell_type": "code",
   "execution_count": null,
   "metadata": {
    "collapsed": false
   },
   "outputs": [],
   "source": [
    "# Delete the security group\n",
    "response = ec2.delete_security_group(\n",
    "    GroupId=webSGID\n",
    ")\n",
    "\n",
    "print response"
   ]
  },
  {
   "cell_type": "code",
   "execution_count": null,
   "metadata": {
    "collapsed": true
   },
   "outputs": [],
   "source": []
  }
 ],
 "metadata": {
  "kernelspec": {
   "display_name": "Python 2",
   "language": "python",
   "name": "python2"
  },
  "language_info": {
   "codemirror_mode": {
    "name": "ipython",
    "version": 2
   },
   "file_extension": ".py",
   "mimetype": "text/x-python",
   "name": "python",
   "nbconvert_exporter": "python",
   "pygments_lexer": "ipython2",
   "version": "2.7.12"
  }
 },
 "nbformat": 4,
 "nbformat_minor": 0
}
