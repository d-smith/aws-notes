{
 "cells": [
  {
   "cell_type": "code",
   "execution_count": null,
   "metadata": {
    "collapsed": true
   },
   "outputs": [],
   "source": [
    "import boto3\n",
    "\n",
    "elb = boto3.client('elb')\n",
    "ec2 = boto3.client('ec2')"
   ]
  },
  {
   "cell_type": "code",
   "execution_count": null,
   "metadata": {
    "collapsed": false
   },
   "outputs": [],
   "source": [
    "# What are the availability zones in the region?\n",
    "response = ec2.describe_availability_zones()\n",
    "\n",
    "zones = []\n",
    "for z in response['AvailabilityZones']:\n",
    "    zones.append(z['ZoneName'])\n",
    "    \n",
    "print zones"
   ]
  },
  {
   "cell_type": "code",
   "execution_count": null,
   "metadata": {
    "collapsed": false
   },
   "outputs": [],
   "source": [
    "# Make a web security group for the load balancer\n",
    "response = ec2.create_security_group(\n",
    "    GroupName='web_sg',\n",
    "    Description='SG for web ingres'\n",
    ")\n",
    "\n",
    "webSGID = response['GroupId']\n",
    "print 'created security group ', webSGID\n",
    "\n",
    "# Allow ingress for ssh\n",
    "response = ec2.authorize_security_group_ingress(\n",
    "    GroupId=webSGID,\n",
    "    IpProtocol='tcp',\n",
    "    FromPort=80,\n",
    "    ToPort=80,\n",
    "    CidrIp='0.0.0.0/0'\n",
    ")\n",
    "\n",
    "print response"
   ]
  },
  {
   "cell_type": "code",
   "execution_count": null,
   "metadata": {
    "collapsed": false
   },
   "outputs": [],
   "source": [
    "# Create the load balancer\n",
    "create_elb_response = elb.create_load_balancer(\n",
    "    LoadBalancerName='sample-lb',\n",
    "    Listeners=[\n",
    "        {\n",
    "            'Protocol': 'HTTP',\n",
    "            'LoadBalancerPort': 80,\n",
    "            'InstanceProtocol': 'HTTP',\n",
    "            'InstancePort': 80\n",
    "        },\n",
    "    ],\n",
    "    AvailabilityZones=[\n",
    "        zones[0], zones[1]\n",
    "    ],\n",
    "    SecurityGroups=[\n",
    "        webSGID,\n",
    "    ]\n",
    ")\n",
    "\n",
    "print create_elb_response"
   ]
  },
  {
   "cell_type": "code",
   "execution_count": null,
   "metadata": {
    "collapsed": false
   },
   "outputs": [],
   "source": [
    "response = elb.describe_load_balancers(\n",
    "    LoadBalancerNames=[\n",
    "        'sample-lb',\n",
    "    ]\n",
    ")\n",
    "\n",
    "print response"
   ]
  },
  {
   "cell_type": "code",
   "execution_count": null,
   "metadata": {
    "collapsed": false
   },
   "outputs": [],
   "source": [
    "# Destroy the load balancer\n",
    "response = elb.delete_load_balancer(\n",
    "    LoadBalancerName='sample-lb'\n",
    ")\n",
    "\n",
    "print response"
   ]
  },
  {
   "cell_type": "code",
   "execution_count": null,
   "metadata": {
    "collapsed": false
   },
   "outputs": [],
   "source": [
    "# Delete the security group\n",
    "response = ec2.delete_security_group(\n",
    "    GroupId=webSGID\n",
    ")\n",
    "\n",
    "print response"
   ]
  },
  {
   "cell_type": "code",
   "execution_count": null,
   "metadata": {
    "collapsed": true
   },
   "outputs": [],
   "source": []
  }
 ],
 "metadata": {
  "kernelspec": {
   "display_name": "Python 2",
   "language": "python",
   "name": "python2"
  },
  "language_info": {
   "codemirror_mode": {
    "name": "ipython",
    "version": 2
   },
   "file_extension": ".py",
   "mimetype": "text/x-python",
   "name": "python",
   "nbconvert_exporter": "python",
   "pygments_lexer": "ipython2",
   "version": "2.7.12"
  }
 },
 "nbformat": 4,
 "nbformat_minor": 0
}
