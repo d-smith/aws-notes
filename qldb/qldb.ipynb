{
 "cells": [
  {
   "cell_type": "code",
   "execution_count": null,
   "id": "0a4cd179",
   "metadata": {},
   "outputs": [],
   "source": [
    "import boto3\n",
    "qclient = boto3.client('qldb')"
   ]
  },
  {
   "cell_type": "code",
   "execution_count": null,
   "id": "cf9113a0",
   "metadata": {},
   "outputs": [],
   "source": [
    "resp = qclient.create_ledger(\n",
    "    Name='vehicle-registration',\n",
    "    PermissionsMode='STANDARD',\n",
    "    DeletionProtection=False\n",
    ")\n",
    "\n",
    "print(resp)"
   ]
  },
  {
   "cell_type": "code",
   "execution_count": null,
   "id": "a6666121",
   "metadata": {},
   "outputs": [],
   "source": [
    "qclient.list_ledgers()"
   ]
  },
  {
   "cell_type": "code",
   "execution_count": null,
   "id": "d64391eb",
   "metadata": {},
   "outputs": [],
   "source": [
    "# Once the ledger is created you can work with it via the driver. Install\n",
    "# it via pip install pyqldb"
   ]
  },
  {
   "cell_type": "code",
   "execution_count": null,
   "id": "a1c22fdf",
   "metadata": {},
   "outputs": [],
   "source": [
    "from pyqldb.driver.qldb_driver import QldbDriver\n",
    "qldb_driver = QldbDriver('vehicle-registration')"
   ]
  },
  {
   "cell_type": "code",
   "execution_count": null,
   "id": "ffe36d65",
   "metadata": {},
   "outputs": [],
   "source": [
    "for table in qldb_driver.list_tables():\n",
    "    print(table)"
   ]
  },
  {
   "cell_type": "code",
   "execution_count": null,
   "id": "c72c47c7",
   "metadata": {},
   "outputs": [],
   "source": [
    "def create_table_fn(table_name):\n",
    "    def create_table(transaction_executor):\n",
    "        print(\"Creating a table\")\n",
    "        transaction_executor.execute_statement(\"Create TABLE \" + table_name)\n",
    "        \n",
    "    return create_table\n",
    "    \n"
   ]
  },
  {
   "cell_type": "code",
   "execution_count": null,
   "id": "8fb3adc6",
   "metadata": {},
   "outputs": [],
   "source": [
    "#create_VehicleRegistration = create_table_fn('VehicleRegistration')\n",
    "#create_Vehicle = create_table_fn('Vehicle')\n",
    "#create_Person = create_table_fn('Person')\n",
    "#create_DriversLicense = create_table_fn('DriversLicense')\n",
    "qldb_driver.execute_lambda(lambda executor: create_table_fn('VehicleRegistration')(executor))\n",
    "qldb_driver.execute_lambda(lambda executor: create_table_fn('Vehicle')(executor))\n",
    "qldb_driver.execute_lambda(lambda executor: create_table_fn('Person')(executor))\n",
    "qldb_driver.execute_lambda(lambda executor: create_table_fn('DriversLicense')(executor))"
   ]
  },
  {
   "cell_type": "code",
   "execution_count": null,
   "id": "5466e73a",
   "metadata": {},
   "outputs": [],
   "source": [
    "def create_index_fn(stmt):\n",
    "    def create_index(transaction_executor):\n",
    "        transaction_executor.execute_statement(stmt)\n",
    "    return create_index"
   ]
  },
  {
   "cell_type": "code",
   "execution_count": null,
   "id": "b7ab5c80",
   "metadata": {},
   "outputs": [],
   "source": [
    "qldb_driver.execute_lambda(lambda executor: create_index_fn(\"CREATE INDEX ON VehicleRegistration (VIN)\")(executor))\n",
    "qldb_driver.execute_lambda(lambda executor: create_index_fn(\"CREATE INDEX ON VehicleRegistration (LicensePlateNumber)\")(executor))\n",
    "qldb_driver.execute_lambda(lambda executor: create_index_fn(\"CREATE INDEX ON Vehicle (VIN)\")(executor))\n",
    "qldb_driver.execute_lambda(lambda executor: create_index_fn(\"CREATE INDEX ON Person (GovId)\")(executor))\n",
    "qldb_driver.execute_lambda(lambda executor: create_index_fn(\"CREATE INDEX ON DriversLicense (LicenseNumber)\")(executor))\n",
    "qldb_driver.execute_lambda(lambda executor: create_index_fn(\"CREATE INDEX ON DriversLicense (PersonId)\")(executor))\n"
   ]
  },
  {
   "cell_type": "code",
   "execution_count": null,
   "id": "443acb05",
   "metadata": {},
   "outputs": [],
   "source": [
    "resp = qclient.delete_ledger(\n",
    "    Name='vehicle-registration'\n",
    ")\n",
    "\n",
    "print(resp)"
   ]
  },
  {
   "cell_type": "code",
   "execution_count": null,
   "id": "ee8cd678",
   "metadata": {},
   "outputs": [],
   "source": []
  }
 ],
 "metadata": {
  "kernelspec": {
   "display_name": "Python 3",
   "language": "python",
   "name": "python3"
  },
  "language_info": {
   "codemirror_mode": {
    "name": "ipython",
    "version": 3
   },
   "file_extension": ".py",
   "mimetype": "text/x-python",
   "name": "python",
   "nbconvert_exporter": "python",
   "pygments_lexer": "ipython3",
   "version": "3.8.8"
  }
 },
 "nbformat": 4,
 "nbformat_minor": 5
}
