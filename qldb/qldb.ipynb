{
 "cells": [
  {
   "cell_type": "code",
   "execution_count": null,
   "id": "0a4cd179",
   "metadata": {},
   "outputs": [],
   "source": [
    "import boto3\n",
    "qclient = boto3.client('qldb')"
   ]
  },
  {
   "cell_type": "code",
   "execution_count": null,
   "id": "cf9113a0",
   "metadata": {},
   "outputs": [],
   "source": [
    "resp = qclient.create_ledger(\n",
    "    Name='vehicle-registration',\n",
    "    PermissionsMode='STANDARD',\n",
    "    DeletionProtection=False\n",
    ")\n",
    "\n",
    "print(resp)"
   ]
  },
  {
   "cell_type": "code",
   "execution_count": null,
   "id": "10a2f931",
   "metadata": {},
   "outputs": [],
   "source": [
    "qclient.list_ledgers()"
   ]
  },
  {
   "cell_type": "code",
   "execution_count": null,
   "id": "e533e7e8",
   "metadata": {},
   "outputs": [],
   "source": [
    "resp = qclient.delete_ledger(\n",
    "    Name='vehicle-registration'\n",
    ")\n",
    "\n",
    "print(resp)"
   ]
  },
  {
   "cell_type": "code",
   "execution_count": null,
   "id": "5a69132b",
   "metadata": {},
   "outputs": [],
   "source": []
  }
 ],
 "metadata": {
  "kernelspec": {
   "display_name": "Python 3",
   "language": "python",
   "name": "python3"
  },
  "language_info": {
   "codemirror_mode": {
    "name": "ipython",
    "version": 3
   },
   "file_extension": ".py",
   "mimetype": "text/x-python",
   "name": "python",
   "nbconvert_exporter": "python",
   "pygments_lexer": "ipython3",
   "version": "3.8.8"
  }
 },
 "nbformat": 4,
 "nbformat_minor": 5
}
