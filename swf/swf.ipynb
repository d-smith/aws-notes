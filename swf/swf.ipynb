{
 "cells": [
  {
   "cell_type": "markdown",
   "metadata": {},
   "source": [
    "# Simple Workflow Flow Sample\n",
    "\n",
    "This implements the sample workflow from the SWF tutorial"
   ]
  },
  {
   "cell_type": "code",
   "execution_count": null,
   "metadata": {
    "collapsed": false
   },
   "outputs": [],
   "source": [
    "import boto3\n",
    "from botocore.client import Config\n",
    "import uuid\n",
    "botoConfig = Config(connect_timeout=50, read_timeout=70)\n",
    "client = boto3.client('swf', config=botoConfig)\n",
    "sns = boto3.client('sns')"
   ]
  },
  {
   "cell_type": "code",
   "execution_count": null,
   "metadata": {
    "collapsed": true
   },
   "outputs": [],
   "source": [
    "workflowDomain = 'TutorialWorkflowDomain2'\n",
    "workflow = 'TutorialWorkflow'\n",
    "tasklist = 'TutorialTasks'\n",
    "\n",
    "# In this example I've defined and registered the activity types ahead of time. With SWF it is possible to\n",
    "# receive an activity that has not been registerd with the domain - if appropriate they can be registered\n",
    "# at that point. For this example we assume only the following activities in the domain.\n",
    "activities = ['get_contact_activity','subscribe_topic_activity','wait_for_confirmation_activity',\n",
    "             'send_result_activity']"
   ]
  },
  {
   "cell_type": "code",
   "execution_count": null,
   "metadata": {
    "collapsed": true
   },
   "outputs": [],
   "source": [
    "############################################\n",
    "## DEFINITION\n",
    "############################################"
   ]
  },
  {
   "cell_type": "code",
   "execution_count": null,
   "metadata": {
    "collapsed": false
   },
   "outputs": [],
   "source": [
    "# To me master of your domain, you must first register it.\n",
    "response = client.register_domain(\n",
    "    name=workflowDomain,\n",
    "    description='Tutorial workflow domain',\n",
    "    workflowExecutionRetentionPeriodInDays='1'\n",
    ")\n",
    "\n",
    "print response"
   ]
  },
  {
   "cell_type": "code",
   "execution_count": null,
   "metadata": {
    "collapsed": false
   },
   "outputs": [],
   "source": [
    "response = client.register_workflow_type(\n",
    "    domain=workflowDomain,\n",
    "    name=workflow,\n",
    "    version='1',\n",
    "    description='Tutorial workflow',\n",
    "    defaultTaskStartToCloseTimeout='NONE',\n",
    "    defaultExecutionStartToCloseTimeout='900',\n",
    "    defaultTaskList={\n",
    "        'name': tasklist\n",
    "    },\n",
    "    defaultChildPolicy='TERMINATE'\n",
    ")\n",
    "\n",
    "print response"
   ]
  },
  {
   "cell_type": "code",
   "execution_count": null,
   "metadata": {
    "collapsed": false
   },
   "outputs": [],
   "source": [
    "\n",
    "\n",
    "for activity in activities:\n",
    "    response = client.register_activity_type(\n",
    "        domain=workflowDomain,\n",
    "        name=activity,\n",
    "        version='1',\n",
    "        defaultTaskList={\n",
    "            'name': tasklist\n",
    "        }\n",
    "    )\n",
    "    \n",
    "    print response"
   ]
  },
  {
   "cell_type": "code",
   "execution_count": null,
   "metadata": {
    "collapsed": true
   },
   "outputs": [],
   "source": [
    "############################################\n",
    "## EXECUTION\n",
    "############################################"
   ]
  },
  {
   "cell_type": "code",
   "execution_count": null,
   "metadata": {
    "collapsed": true
   },
   "outputs": [],
   "source": [
    "def get_activity_type_name(event):\n",
    "    name = 'not found'\n",
    "    \n",
    "    if event['eventType'] == 'ActivityTaskScheduled':\n",
    "        name = event['activityTaskScheduledEventAttributes']['activityType']['name']\n",
    "    \n",
    "    return name\n",
    "\n",
    "def get_result(event):\n",
    "    result = ''\n",
    "    \n",
    "    if event['eventType'] == 'ActivityTaskCompleted':\n",
    "        result = event['activityTaskCompletedEventAttributes']['result']\n",
    "        \n",
    "    return result\n",
    "\n",
    "\n",
    "def get_email_from_task_completion(task):\n",
    "    scheduled_event=-1\n",
    "    started_event=-1\n",
    "    contact_email = ''\n",
    "    \n",
    "    events = task['events']\n",
    "    for e in events:\n",
    "        if scheduled_event == -1 and e['eventType'] == 'ActivityTaskScheduled':\n",
    "            activity_name = get_activity_type_name(e)\n",
    "            scheduled_event=e['eventId']\n",
    "        elif scheduled_event != -1 and started_event== -1 and e['eventType'] == 'ActivityTaskStarted':\n",
    "            started_event = e['eventId']\n",
    "        elif scheduled_event != -1 and started_event != -1 and e['eventType'] == 'ActivityTaskCompleted':\n",
    "            contact_email = get_result(e)\n",
    "        \n",
    "            \n",
    "    return contact_email\n",
    "    \n",
    "    \n",
    "\n",
    "def get_input_for_activity(task, activity_name):\n",
    "    if activity_name == 'subscribe_topic_activity':\n",
    "        return get_email_from_task_completion(task)\n",
    "    else:\n",
    "        return 'i dunno'"
   ]
  },
  {
   "cell_type": "code",
   "execution_count": null,
   "metadata": {
    "collapsed": true
   },
   "outputs": [],
   "source": [
    "\n",
    "def schedule_activity(task, activity_name, activity_id):\n",
    "    task_input = get_input_for_activity(task, activity_name)\n",
    "    \n",
    "    response = client.respond_decision_task_completed(\n",
    "        taskToken=task['taskToken'],\n",
    "        decisions=[\n",
    "          {\n",
    "            'decisionType': 'ScheduleActivityTask',\n",
    "            'scheduleActivityTaskDecisionAttributes': {\n",
    "                'activityType':{\n",
    "                    'name': activity_name,\n",
    "                    'version': '1'\n",
    "                    },\n",
    "                'activityId': activity_id,\n",
    "                'input': task_input,\n",
    "                'scheduleToCloseTimeout': 'NONE',\n",
    "                'scheduleToStartTimeout': 'NONE',\n",
    "                'startToCloseTimeout': 'NONE',\n",
    "                'heartbeatTimeout': 'NONE',\n",
    "                'taskList': {'name': tasklist},\n",
    "            }\n",
    "          }\n",
    "        ]\n",
    "      )\n",
    "\n",
    "    print response"
   ]
  },
  {
   "cell_type": "code",
   "execution_count": null,
   "metadata": {
    "collapsed": true
   },
   "outputs": [],
   "source": [
    "def complete_get_contact_activity(task_token):\n",
    "    print 'get-contact-activity'\n",
    "    contact_info = {}\n",
    "    email = raw_input(\"Enter your email address: \")\n",
    "    client.respond_activity_task_completed(\n",
    "        taskToken=task_token,\n",
    "        result=email\n",
    "    )\n",
    "\n",
    "    "
   ]
  },
  {
   "cell_type": "code",
   "execution_count": null,
   "metadata": {
    "collapsed": true
   },
   "outputs": [],
   "source": [
    "def complete_subscribe_topic_activity(task):\n",
    "    print task\n",
    "    response = client.describe_workflow_execution(\n",
    "        domain=workflowDomain,\n",
    "        execution={\n",
    "            'workflowId': task['workflowExecution']['workflowId'],\n",
    "            'runId': task['workflowExecution']['runId']\n",
    "        }\n",
    "    )\n",
    "    print response\n",
    "    generic_complete_activity_ok(task['taskToken'])"
   ]
  },
  {
   "cell_type": "code",
   "execution_count": null,
   "metadata": {
    "collapsed": true
   },
   "outputs": [],
   "source": [
    "def generic_complete_activity_ok(task_token):\n",
    "    print 'generic-activity'\n",
    "    client.respond_activity_task_completed(\n",
    "        taskToken=task_token,\n",
    "        result='success'\n",
    "    )"
   ]
  },
  {
   "cell_type": "code",
   "execution_count": null,
   "metadata": {
    "collapsed": false
   },
   "outputs": [],
   "source": [
    "def poll_and_complete_task():\n",
    "    \n",
    "    task = client.poll_for_activity_task(\n",
    "        domain=workflowDomain,\n",
    "        taskList={'name': tasklist},\n",
    "        identity='worker-1'\n",
    "    )\n",
    "\n",
    "    if 'taskToken' not in task:\n",
    "        print \"Poll timed out, no new task.  Repoll\"\n",
    "        return\n",
    "    else:\n",
    "        print \"New task arrived\"\n",
    "        \n",
    "    task_token = task['taskToken']\n",
    "    activity_name = task['activityType']['name']\n",
    "    if activity_name == 'get_contact_activity':\n",
    "        complete_get_contact_activity(task_token)\n",
    "    elif activity_name == 'subscribe_topic_activity':\n",
    "        complete_subscribe_topic_activity(task)\n",
    "    else:\n",
    "        generic_complete_activity_ok(task_token)\n",
    "\n",
    "\n",
    "    print \"Task Done\""
   ]
  },
  {
   "cell_type": "code",
   "execution_count": null,
   "metadata": {
    "collapsed": true
   },
   "outputs": [],
   "source": [
    "def print_pending_activity_task_count():\n",
    "    response = client.count_pending_activity_tasks(\n",
    "        domain=workflowDomain,\n",
    "        taskList={\n",
    "            'name': tasklist\n",
    "        }\n",
    "    )\n",
    "\n",
    "    print 'Pending activity task count: {}'.format(response['count'])\n"
   ]
  },
  {
   "cell_type": "code",
   "execution_count": null,
   "metadata": {
    "collapsed": true
   },
   "outputs": [],
   "source": [
    "def print_pending_descision_task_count():\n",
    "    response = client.count_pending_decision_tasks(\n",
    "        domain=workflowDomain,\n",
    "        taskList={\n",
    "            'name': tasklist\n",
    "        }\n",
    "    )\n",
    "\n",
    "    print 'Pending decision task count: {}'.format(response['count'])"
   ]
  },
  {
   "cell_type": "code",
   "execution_count": null,
   "metadata": {
    "collapsed": true
   },
   "outputs": [],
   "source": [
    "def get_decision_task(decider_id):\n",
    "    newTask = client.poll_for_decision_task(\n",
    "        domain=workflowDomain,\n",
    "        taskList={'name': tasklist},\n",
    "        identity=decider_id,\n",
    "        reverseOrder=False)\n",
    "    \n",
    "    if 'taskToken' not in newTask:\n",
    "        print 'No task available'\n",
    "    \n",
    "    return newTask"
   ]
  },
  {
   "cell_type": "code",
   "execution_count": null,
   "metadata": {
    "collapsed": false
   },
   "outputs": [],
   "source": [
    "# Create topic\n",
    "response = sns.create_topic(\n",
    "    Name='swf-tutorial-topic'\n",
    ")\n",
    "topic_arn = response['TopicArn']\n",
    "print 'topic arn: {}'.format(topic_arn)"
   ]
  },
  {
   "cell_type": "code",
   "execution_count": null,
   "metadata": {
    "collapsed": true
   },
   "outputs": [],
   "source": [
    "# Arbitrary choice for decider id\n",
    "decider_id = 'decider-1'"
   ]
  },
  {
   "cell_type": "code",
   "execution_count": null,
   "metadata": {
    "collapsed": false
   },
   "outputs": [],
   "source": [
    "# Is there a task available?\n",
    "newTask = get_decision_task(decider_id)"
   ]
  },
  {
   "cell_type": "code",
   "execution_count": null,
   "metadata": {
    "collapsed": false
   },
   "outputs": [],
   "source": [
    "# Instantiate the workflow\n",
    "response = client.start_workflow_execution(\n",
    "  domain=workflowDomain,\n",
    "  workflowId='wf-1',\n",
    "  workflowType={\n",
    "    \"name\": 'TutorialWorkflow',\n",
    "    \"version\": '1'\n",
    "  },\n",
    "  taskList={\n",
    "      'name': tasklist\n",
    "  },\n",
    "  input='initial input'\n",
    ")\n",
    "\n",
    "print response"
   ]
  },
  {
   "cell_type": "code",
   "execution_count": null,
   "metadata": {
    "collapsed": false
   },
   "outputs": [],
   "source": [
    "# Is there a task available?\n",
    "newTask = get_decision_task(decider_id)\n",
    "\n",
    "print newTask"
   ]
  },
  {
   "cell_type": "code",
   "execution_count": null,
   "metadata": {
    "collapsed": false
   },
   "outputs": [],
   "source": [
    "events = newTask['events']\n",
    "print events"
   ]
  },
  {
   "cell_type": "code",
   "execution_count": null,
   "metadata": {
    "collapsed": false
   },
   "outputs": [],
   "source": [
    "eventHistory = [evt for evt in newTask['events'] if not evt['eventType'].startswith('Decision')]\n",
    "print eventHistory\n",
    "\n",
    "print len(eventHistory)\n",
    "\n",
    "if eventHistory[0] != 'WorkflowExecutionStarted':\n",
    "    print 'Expected freshly started workflow'\n",
    "else:\n",
    "    print 'Freshly started workflow'"
   ]
  },
  {
   "cell_type": "code",
   "execution_count": null,
   "metadata": {
    "collapsed": false
   },
   "outputs": [],
   "source": [
    "# First decision is to start the first activity\n",
    "activity_id = 'activityid-' + str(uuid.uuid4())\n",
    "\n",
    "schedule_activity(newTask, activities[0], activity_id)"
   ]
  },
  {
   "cell_type": "code",
   "execution_count": null,
   "metadata": {
    "collapsed": false
   },
   "outputs": [],
   "source": [
    "print_pending_descision_task_count()\n",
    "print_pending_activity_task_count()"
   ]
  },
  {
   "cell_type": "code",
   "execution_count": null,
   "metadata": {
    "collapsed": false
   },
   "outputs": [],
   "source": [
    "poll_and_complete_task()"
   ]
  },
  {
   "cell_type": "code",
   "execution_count": null,
   "metadata": {
    "collapsed": false
   },
   "outputs": [],
   "source": [
    "# Is there a task available for the decider?\n",
    "newTask = get_decision_task(decider_id)\n",
    "print newTask"
   ]
  },
  {
   "cell_type": "code",
   "execution_count": null,
   "metadata": {
    "collapsed": false
   },
   "outputs": [],
   "source": [
    "task_input = get_input_for_activity(newTask, 'subscribe_topic_activity')\n",
    "print 'task input ==> {}'.format(task_input)"
   ]
  },
  {
   "cell_type": "code",
   "execution_count": null,
   "metadata": {
    "collapsed": false
   },
   "outputs": [],
   "source": [
    "# Second decision is to start the second activity\n",
    "activity_id = 'activityid-' + str(uuid.uuid4())\n",
    "\n",
    "schedule_activity(newTask, activities[1], activity_id)"
   ]
  },
  {
   "cell_type": "code",
   "execution_count": null,
   "metadata": {
    "collapsed": false
   },
   "outputs": [],
   "source": [
    "poll_and_complete_task()"
   ]
  },
  {
   "cell_type": "code",
   "execution_count": null,
   "metadata": {
    "collapsed": false
   },
   "outputs": [],
   "source": [
    "print_pending_descision_task_count()"
   ]
  },
  {
   "cell_type": "code",
   "execution_count": null,
   "metadata": {
    "collapsed": true
   },
   "outputs": [],
   "source": [
    "# Is there a task available for the decider?\n",
    "newTask = get_decision_task(decider_id)"
   ]
  },
  {
   "cell_type": "code",
   "execution_count": null,
   "metadata": {
    "collapsed": false
   },
   "outputs": [],
   "source": [
    "# Schedule and complete third task\n",
    "activity_id = 'activityid-' + str(uuid.uuid4())\n",
    "schedule_activity(newTask, activities[2], activity_id)\n"
   ]
  },
  {
   "cell_type": "code",
   "execution_count": null,
   "metadata": {
    "collapsed": false
   },
   "outputs": [],
   "source": [
    "print_pending_activity_task_count()\n",
    "poll_and_complete_task()\n",
    "print_pending_descision_task_count()"
   ]
  },
  {
   "cell_type": "code",
   "execution_count": null,
   "metadata": {
    "collapsed": false
   },
   "outputs": [],
   "source": [
    "print_pending_descision_task_count()"
   ]
  },
  {
   "cell_type": "code",
   "execution_count": null,
   "metadata": {
    "collapsed": false
   },
   "outputs": [],
   "source": [
    "# Is there a task available for the decider?\n",
    "newTask = get_decision_task(decider_id)\n",
    "\n",
    "# Schedule the next activity - again note that we're just deciding to schedule the next activity.\n",
    "# For a real process we'd probably check the event history and use that context to decide what to\n",
    "# do next.\n",
    "activity_id = 'activityid-' + str(uuid.uuid4())\n",
    "schedule_activity(newTask, activities[3], activity_id)"
   ]
  },
  {
   "cell_type": "code",
   "execution_count": null,
   "metadata": {
    "collapsed": false
   },
   "outputs": [],
   "source": [
    "print_pending_activity_task_count()"
   ]
  },
  {
   "cell_type": "code",
   "execution_count": null,
   "metadata": {
    "collapsed": false
   },
   "outputs": [],
   "source": [
    "poll_and_complete_task()\n",
    "print_pending_descision_task_count()"
   ]
  },
  {
   "cell_type": "code",
   "execution_count": null,
   "metadata": {
    "collapsed": false
   },
   "outputs": [],
   "source": [
    "newTask = get_decision_task(decider_id)"
   ]
  },
  {
   "cell_type": "code",
   "execution_count": null,
   "metadata": {
    "collapsed": false
   },
   "outputs": [],
   "source": [
    "response = client.respond_decision_task_completed(\n",
    "        taskToken=newTask['taskToken'],\n",
    "        decisions=[\n",
    "          {\n",
    "            'decisionType': 'CompleteWorkflowExecution',\n",
    "            'completeWorkflowExecutionDecisionAttributes': {\n",
    "              'result': 'success'\n",
    "            }\n",
    "          }\n",
    "        ]\n",
    "      )\n",
    "\n",
    "print response"
   ]
  },
  {
   "cell_type": "code",
   "execution_count": null,
   "metadata": {
    "collapsed": false
   },
   "outputs": [],
   "source": [
    "print_pending_descision_task_count()\n",
    "print_pending_activity_task_count()"
   ]
  },
  {
   "cell_type": "code",
   "execution_count": null,
   "metadata": {
    "collapsed": false
   },
   "outputs": [],
   "source": [
    "eventHistory = [evt for evt in newTask['events'] if not evt['eventType'].startswith('Decision')]\n",
    "\n",
    "for event in eventHistory:\n",
    "    print event\n",
    "    print"
   ]
  },
  {
   "cell_type": "code",
   "execution_count": null,
   "metadata": {
    "collapsed": false
   },
   "outputs": [],
   "source": [
    "## Delete Topic\n",
    "response = sns.delete_topic(\n",
    "    TopicArn=topic_arn\n",
    ")\n",
    "\n",
    "print response"
   ]
  },
  {
   "cell_type": "code",
   "execution_count": null,
   "metadata": {
    "collapsed": false
   },
   "outputs": [],
   "source": [
    "import json\n",
    "\n",
    "# convert to string\n",
    "orig_dict = {}\n",
    "orig_dict['id'] = 'foo'\n",
    "print orig_dict['id']\n",
    "thing = json.dumps({'id': 'foo' })\n",
    "\n",
    "\n",
    "# load to dict\n",
    "my_dict = json.loads(thing) \n",
    "\n",
    "print my_dict['id']"
   ]
  },
  {
   "cell_type": "code",
   "execution_count": null,
   "metadata": {
    "collapsed": true
   },
   "outputs": [],
   "source": [
    "######## Topic Clean Up"
   ]
  }
 ],
 "metadata": {
  "kernelspec": {
   "display_name": "Python 2",
   "language": "python",
   "name": "python2"
  },
  "language_info": {
   "codemirror_mode": {
    "name": "ipython",
    "version": 2
   },
   "file_extension": ".py",
   "mimetype": "text/x-python",
   "name": "python",
   "nbconvert_exporter": "python",
   "pygments_lexer": "ipython2",
   "version": "2.7.12"
  }
 },
 "nbformat": 4,
 "nbformat_minor": 0
}
