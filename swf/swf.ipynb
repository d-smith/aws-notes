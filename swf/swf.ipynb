{
 "cells": [
  {
   "cell_type": "markdown",
   "metadata": {},
   "source": [
    "# Simple Workflow Flow Sample\n",
    "\n",
    "This implements the sample workflow from the SWF tutorial"
   ]
  },
  {
   "cell_type": "code",
   "execution_count": null,
   "metadata": {
    "collapsed": true
   },
   "outputs": [],
   "source": [
    "import boto3\n",
    "import uuid\n",
    "client = boto3.client('swf')"
   ]
  },
  {
   "cell_type": "code",
   "execution_count": null,
   "metadata": {
    "collapsed": true
   },
   "outputs": [],
   "source": [
    "workflowDomain = 'TutorialWorkflowDomain2'\n",
    "workflow = 'TutorialWorkflow'\n",
    "tasklist = 'TutorialTasks'"
   ]
  },
  {
   "cell_type": "code",
   "execution_count": null,
   "metadata": {
    "collapsed": true
   },
   "outputs": [],
   "source": [
    "############################################\n",
    "## DEFINITION\n",
    "############################################"
   ]
  },
  {
   "cell_type": "code",
   "execution_count": null,
   "metadata": {
    "collapsed": false
   },
   "outputs": [],
   "source": [
    "# To me master of your domain, you must first register it.\n",
    "response = client.register_domain(\n",
    "    name=workflowDomain,\n",
    "    description='Tutorial workflow domain',\n",
    "    workflowExecutionRetentionPeriodInDays='1'\n",
    ")\n",
    "\n",
    "print response"
   ]
  },
  {
   "cell_type": "code",
   "execution_count": null,
   "metadata": {
    "collapsed": false
   },
   "outputs": [],
   "source": [
    "response = client.register_workflow_type(\n",
    "    domain=workflowDomain,\n",
    "    name=workflow,\n",
    "    version='1',\n",
    "    description='Tutorial workflow',\n",
    "    defaultTaskStartToCloseTimeout='NONE',\n",
    "    defaultExecutionStartToCloseTimeout='900',\n",
    "    defaultTaskList={\n",
    "        'name': tasklist\n",
    "    },\n",
    "    defaultChildPolicy='TERMINATE'\n",
    ")\n",
    "\n",
    "print response"
   ]
  },
  {
   "cell_type": "code",
   "execution_count": null,
   "metadata": {
    "collapsed": false
   },
   "outputs": [],
   "source": [
    "activities = ['get_contact_activity','subscribe_topic_activity','wait_for_confirmation_activity',\n",
    "             'send_result_activity']\n",
    "\n",
    "for activity in activities:\n",
    "    response = client.register_activity_type(\n",
    "        domain=workflowDomain,\n",
    "        name=activity,\n",
    "        version='1',\n",
    "        defaultTaskList={\n",
    "            'name': tasklist\n",
    "        }\n",
    "    )\n",
    "    \n",
    "    print response"
   ]
  },
  {
   "cell_type": "code",
   "execution_count": null,
   "metadata": {
    "collapsed": true
   },
   "outputs": [],
   "source": [
    "############################################\n",
    "## EXECUTION\n",
    "############################################"
   ]
  },
  {
   "cell_type": "code",
   "execution_count": null,
   "metadata": {
    "collapsed": false
   },
   "outputs": [],
   "source": [
    "response = client.start_workflow_execution(\n",
    "  domain=workflowDomain,\n",
    "  workflowId='wf-1',\n",
    "  workflowType={\n",
    "    \"name\": 'TutorialWorkflow',\n",
    "    \"version\": '1'\n",
    "  },\n",
    "  taskList={\n",
    "      'name': tasklist\n",
    "  },\n",
    "  input=''\n",
    ")\n",
    "\n",
    "print response"
   ]
  },
  {
   "cell_type": "code",
   "execution_count": null,
   "metadata": {
    "collapsed": false
   },
   "outputs": [],
   "source": [
    "# Is there a task available?\n",
    "newTask = client.poll_for_decision_task(\n",
    "    domain=workflowDomain,\n",
    "    taskList={'name': tasklist},\n",
    "    identity='decider-1',\n",
    "    reverseOrder=False)\n",
    "\n",
    "print newTask"
   ]
  },
  {
   "cell_type": "code",
   "execution_count": null,
   "metadata": {
    "collapsed": false
   },
   "outputs": [],
   "source": [
    "events = newTask['events']\n",
    "print events"
   ]
  },
  {
   "cell_type": "code",
   "execution_count": null,
   "metadata": {
    "collapsed": false
   },
   "outputs": [],
   "source": [
    "eventHistory = [evt for evt in newTask['events'] if not evt['eventType'].startswith('Decision')]\n",
    "print eventHistory\n",
    "\n",
    "print len(eventHistory)\n",
    "\n",
    "if eventHistory[0] != 'WorkflowExecutionStarted':\n",
    "    print 'Expected freshly started workflow'\n",
    "else:\n",
    "    print 'Freshly started workflow'"
   ]
  },
  {
   "cell_type": "code",
   "execution_count": null,
   "metadata": {
    "collapsed": false
   },
   "outputs": [],
   "source": [
    "# First decision is to start the first activity\n",
    "activity_id = 'activityid-' + str(uuid.uuid4())\n",
    "print 'schedule first activity', activity_id\n",
    "\n",
    "response = client.respond_decision_task_completed(\n",
    "        taskToken=newTask['taskToken'],\n",
    "        decisions=[\n",
    "          {\n",
    "            'decisionType': 'ScheduleActivityTask',\n",
    "            'scheduleActivityTaskDecisionAttributes': {\n",
    "                'activityType':{\n",
    "                    'name': activities[0],\n",
    "                    'version': '1'\n",
    "                    },\n",
    "                'activityId': activity_id,\n",
    "                'input': '',\n",
    "                'scheduleToCloseTimeout': 'NONE',\n",
    "                'scheduleToStartTimeout': 'NONE',\n",
    "                'startToCloseTimeout': 'NONE',\n",
    "                'heartbeatTimeout': 'NONE',\n",
    "                'taskList': {'name': tasklist},\n",
    "            }\n",
    "          }\n",
    "        ]\n",
    "      )\n",
    "\n",
    "print response"
   ]
  },
  {
   "cell_type": "code",
   "execution_count": null,
   "metadata": {
    "collapsed": false
   },
   "outputs": [],
   "source": [
    "response = client.count_pending_decision_tasks(\n",
    "    domain=workflowDomain,\n",
    "    taskList={\n",
    "        'name': tasklist\n",
    "    }\n",
    ")\n",
    "\n",
    "print response\n",
    "\n",
    "\n",
    "response = client.count_pending_activity_tasks(\n",
    "    domain=workflowDomain,\n",
    "    taskList={\n",
    "        'name': tasklist\n",
    "    }\n",
    ")\n",
    "\n",
    "print response"
   ]
  },
  {
   "cell_type": "code",
   "execution_count": null,
   "metadata": {
    "collapsed": false
   },
   "outputs": [],
   "source": [
    "task = client.poll_for_activity_task(\n",
    "    domain=workflowDomain,\n",
    "    taskList={'name': tasklist},\n",
    "    identity='worker-1'\n",
    ")\n",
    "\n",
    "if 'taskToken' not in task:\n",
    "    print \"Poll timed out, no new task.  Repoll\"\n",
    "else:\n",
    "    print \"New task arrived\"\n",
    "\n",
    "client.respond_activity_task_completed(\n",
    "    taskToken=task['taskToken'],\n",
    "    result='success'\n",
    ")\n",
    "\n",
    "print \"Task Done\"\n",
    "\n",
    "response = client.count_pending_activity_tasks(\n",
    "    domain=workflowDomain,\n",
    "    taskList={\n",
    "        'name': tasklist\n",
    "    }\n",
    ")\n",
    "\n",
    "print response"
   ]
  },
  {
   "cell_type": "code",
   "execution_count": null,
   "metadata": {
    "collapsed": false
   },
   "outputs": [],
   "source": [
    "# New task ready for the decider\n",
    "response = client.count_pending_decision_tasks(\n",
    "    domain=workflowDomain,\n",
    "    taskList={\n",
    "        'name': tasklist\n",
    "    }\n",
    ")\n",
    "\n",
    "print response"
   ]
  },
  {
   "cell_type": "code",
   "execution_count": null,
   "metadata": {
    "collapsed": false
   },
   "outputs": [],
   "source": [
    "# Is there a task available?\n",
    "newTask = client.poll_for_decision_task(\n",
    "    domain=workflowDomain,\n",
    "    taskList={'name': tasklist},\n",
    "    identity='decider-1',\n",
    "    reverseOrder=False)\n",
    "\n",
    "print newTask"
   ]
  },
  {
   "cell_type": "code",
   "execution_count": null,
   "metadata": {
    "collapsed": false
   },
   "outputs": [],
   "source": [
    "eventHistory = [evt for evt in newTask['events'] if not evt['eventType'].startswith('Decision')]\n",
    "print eventHistory\n",
    "\n",
    "print len(eventHistory)\n",
    "\n",
    "for event in eventHistory:\n",
    "    print event\n",
    "    print"
   ]
  },
  {
   "cell_type": "code",
   "execution_count": null,
   "metadata": {
    "collapsed": false
   },
   "outputs": [],
   "source": [
    "# Second decision is to start the second activity\n",
    "activity_id = 'activityid-' + str(uuid.uuid4())\n",
    "print 'schedule second activity', activity_id\n",
    "\n",
    "response = client.respond_decision_task_completed(\n",
    "        taskToken=newTask['taskToken'],\n",
    "        decisions=[\n",
    "          {\n",
    "            'decisionType': 'ScheduleActivityTask',\n",
    "            'scheduleActivityTaskDecisionAttributes': {\n",
    "                'activityType':{\n",
    "                    'name': activities[1],\n",
    "                    'version': '1'\n",
    "                    },\n",
    "                'activityId': activity_id,\n",
    "                'input': '',\n",
    "                'scheduleToCloseTimeout': 'NONE',\n",
    "                'scheduleToStartTimeout': 'NONE',\n",
    "                'startToCloseTimeout': 'NONE',\n",
    "                'heartbeatTimeout': 'NONE',\n",
    "                'taskList': {'name': tasklist},\n",
    "            }\n",
    "          }\n",
    "        ]\n",
    "      )\n",
    "\n",
    "print response"
   ]
  },
  {
   "cell_type": "code",
   "execution_count": null,
   "metadata": {
    "collapsed": false
   },
   "outputs": [],
   "source": [
    "task = client.poll_for_activity_task(\n",
    "    domain=workflowDomain,\n",
    "    taskList={'name': tasklist},\n",
    "    identity='worker-1'\n",
    ")\n",
    "\n",
    "if 'taskToken' not in task:\n",
    "    print \"Poll timed out, no new task.  Repoll\"\n",
    "else:\n",
    "    print \"New task arrived\"\n",
    "\n",
    "client.respond_activity_task_completed(\n",
    "    taskToken=task['taskToken'],\n",
    "    result='success'\n",
    ")\n",
    "\n",
    "print \"Task Done\"\n",
    "\n",
    "response = client.count_pending_activity_tasks(\n",
    "    domain=workflowDomain,\n",
    "    taskList={\n",
    "        'name': tasklist\n",
    "    }\n",
    ")\n",
    "\n",
    "print response"
   ]
  },
  {
   "cell_type": "code",
   "execution_count": null,
   "metadata": {
    "collapsed": true
   },
   "outputs": [],
   "source": [
    "# Is there a task available?\n",
    "newTask = client.poll_for_decision_task(\n",
    "    domain=workflowDomain,\n",
    "    taskList={'name': tasklist},\n",
    "    identity='decider-1',\n",
    "    reverseOrder=False)"
   ]
  },
  {
   "cell_type": "code",
   "execution_count": null,
   "metadata": {
    "collapsed": false
   },
   "outputs": [],
   "source": [
    "eventHistory = [evt for evt in newTask['events'] if not evt['eventType'].startswith('Decision')]\n",
    "\n",
    "for event in eventHistory:\n",
    "    print event\n",
    "    print"
   ]
  },
  {
   "cell_type": "code",
   "execution_count": null,
   "metadata": {
    "collapsed": true
   },
   "outputs": [],
   "source": []
  }
 ],
 "metadata": {
  "kernelspec": {
   "display_name": "Python 2",
   "language": "python",
   "name": "python2"
  },
  "language_info": {
   "codemirror_mode": {
    "name": "ipython",
    "version": 2
   },
   "file_extension": ".py",
   "mimetype": "text/x-python",
   "name": "python",
   "nbconvert_exporter": "python",
   "pygments_lexer": "ipython2",
   "version": "2.7.12"
  }
 },
 "nbformat": 4,
 "nbformat_minor": 0
}
