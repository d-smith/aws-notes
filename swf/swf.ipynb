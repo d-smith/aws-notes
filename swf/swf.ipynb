{
 "cells": [
  {
   "cell_type": "markdown",
   "metadata": {},
   "source": [
    "# Simple Workflow Flow Sample\n",
    "\n",
    "This implements the sample workflow from the SWF tutorial"
   ]
  },
  {
   "cell_type": "code",
   "execution_count": null,
   "metadata": {
    "collapsed": false
   },
   "outputs": [],
   "source": [
    "import boto3\n",
    "from botocore.client import Config\n",
    "import uuid\n",
    "botoConfig = Config(connect_timeout=50, read_timeout=70)\n",
    "client = boto3.client('swf', config=botoConfig)"
   ]
  },
  {
   "cell_type": "code",
   "execution_count": null,
   "metadata": {
    "collapsed": true
   },
   "outputs": [],
   "source": [
    "workflowDomain = 'TutorialWorkflowDomain2'\n",
    "workflow = 'TutorialWorkflow'\n",
    "tasklist = 'TutorialTasks'\n",
    "\n",
    "activities = ['get_contact_activity','subscribe_topic_activity','wait_for_confirmation_activity',\n",
    "             'send_result_activity']"
   ]
  },
  {
   "cell_type": "code",
   "execution_count": null,
   "metadata": {
    "collapsed": true
   },
   "outputs": [],
   "source": [
    "############################################\n",
    "## DEFINITION\n",
    "############################################"
   ]
  },
  {
   "cell_type": "code",
   "execution_count": null,
   "metadata": {
    "collapsed": false
   },
   "outputs": [],
   "source": [
    "# To me master of your domain, you must first register it.\n",
    "response = client.register_domain(\n",
    "    name=workflowDomain,\n",
    "    description='Tutorial workflow domain',\n",
    "    workflowExecutionRetentionPeriodInDays='1'\n",
    ")\n",
    "\n",
    "print response"
   ]
  },
  {
   "cell_type": "code",
   "execution_count": null,
   "metadata": {
    "collapsed": false
   },
   "outputs": [],
   "source": [
    "response = client.register_workflow_type(\n",
    "    domain=workflowDomain,\n",
    "    name=workflow,\n",
    "    version='1',\n",
    "    description='Tutorial workflow',\n",
    "    defaultTaskStartToCloseTimeout='NONE',\n",
    "    defaultExecutionStartToCloseTimeout='900',\n",
    "    defaultTaskList={\n",
    "        'name': tasklist\n",
    "    },\n",
    "    defaultChildPolicy='TERMINATE'\n",
    ")\n",
    "\n",
    "print response"
   ]
  },
  {
   "cell_type": "code",
   "execution_count": null,
   "metadata": {
    "collapsed": false
   },
   "outputs": [],
   "source": [
    "\n",
    "\n",
    "for activity in activities:\n",
    "    response = client.register_activity_type(\n",
    "        domain=workflowDomain,\n",
    "        name=activity,\n",
    "        version='1',\n",
    "        defaultTaskList={\n",
    "            'name': tasklist\n",
    "        }\n",
    "    )\n",
    "    \n",
    "    print response"
   ]
  },
  {
   "cell_type": "code",
   "execution_count": null,
   "metadata": {
    "collapsed": true
   },
   "outputs": [],
   "source": [
    "############################################\n",
    "## EXECUTION\n",
    "############################################"
   ]
  },
  {
   "cell_type": "code",
   "execution_count": null,
   "metadata": {
    "collapsed": true
   },
   "outputs": [],
   "source": [
    "def schedule_activity(task_token, activity_name, activity_id):\n",
    "    response = client.respond_decision_task_completed(\n",
    "        taskToken=task_token,\n",
    "        decisions=[\n",
    "          {\n",
    "            'decisionType': 'ScheduleActivityTask',\n",
    "            'scheduleActivityTaskDecisionAttributes': {\n",
    "                'activityType':{\n",
    "                    'name': activity_name,\n",
    "                    'version': '1'\n",
    "                    },\n",
    "                'activityId': activity_id,\n",
    "                'input': '',\n",
    "                'scheduleToCloseTimeout': 'NONE',\n",
    "                'scheduleToStartTimeout': 'NONE',\n",
    "                'startToCloseTimeout': 'NONE',\n",
    "                'heartbeatTimeout': 'NONE',\n",
    "                'taskList': {'name': tasklist},\n",
    "            }\n",
    "          }\n",
    "        ]\n",
    "      )\n",
    "\n",
    "    print response"
   ]
  },
  {
   "cell_type": "code",
   "execution_count": null,
   "metadata": {
    "collapsed": true
   },
   "outputs": [],
   "source": [
    "def poll_and_complete_task():\n",
    "    \n",
    "    task = client.poll_for_activity_task(\n",
    "        domain=workflowDomain,\n",
    "        taskList={'name': tasklist},\n",
    "        identity='worker-1'\n",
    "    )\n",
    "\n",
    "    if 'taskToken' not in task:\n",
    "        print \"Poll timed out, no new task.  Repoll\"\n",
    "        return\n",
    "    else:\n",
    "        print \"New task arrived\"\n",
    "\n",
    "    client.respond_activity_task_completed(\n",
    "        taskToken=task['taskToken'],\n",
    "        result='success'\n",
    "    )\n",
    "\n",
    "    print \"Task Done\"\n",
    "\n",
    "\n"
   ]
  },
  {
   "cell_type": "code",
   "execution_count": null,
   "metadata": {
    "collapsed": true
   },
   "outputs": [],
   "source": [
    "def print_pending_activity_task_count():\n",
    "    response = client.count_pending_activity_tasks(\n",
    "        domain=workflowDomain,\n",
    "        taskList={\n",
    "            'name': tasklist\n",
    "        }\n",
    "    )\n",
    "\n",
    "    print 'Pending activity task count: {}'.format(response['count'])\n"
   ]
  },
  {
   "cell_type": "code",
   "execution_count": null,
   "metadata": {
    "collapsed": true
   },
   "outputs": [],
   "source": [
    "def print_pending_descision_task_count():\n",
    "    response = client.count_pending_decision_tasks(\n",
    "        domain=workflowDomain,\n",
    "        taskList={\n",
    "            'name': tasklist\n",
    "        }\n",
    "    )\n",
    "\n",
    "    print 'Pending decision task count: {}'.format(response['count'])"
   ]
  },
  {
   "cell_type": "code",
   "execution_count": null,
   "metadata": {
    "collapsed": true
   },
   "outputs": [],
   "source": [
    "def get_decision_task(decider_id):\n",
    "    newTask = client.poll_for_decision_task(\n",
    "        domain=workflowDomain,\n",
    "        taskList={'name': tasklist},\n",
    "        identity=decider_id,\n",
    "        reverseOrder=False)\n",
    "    \n",
    "    if 'taskToken' not in newTask:\n",
    "        print 'No task available'\n",
    "    \n",
    "    return newTask"
   ]
  },
  {
   "cell_type": "code",
   "execution_count": null,
   "metadata": {
    "collapsed": true
   },
   "outputs": [],
   "source": [
    "# Arbitrary choice for decider id\n",
    "decider_id = 'decider-1'"
   ]
  },
  {
   "cell_type": "code",
   "execution_count": null,
   "metadata": {
    "collapsed": false
   },
   "outputs": [],
   "source": [
    "# Is there a task available?\n",
    "newTask = get_decision_task(decider_id)\n",
    "\n",
    "print newTask"
   ]
  },
  {
   "cell_type": "code",
   "execution_count": null,
   "metadata": {
    "collapsed": false
   },
   "outputs": [],
   "source": [
    "# Instantiate the worflow\n",
    "response = client.start_workflow_execution(\n",
    "  domain=workflowDomain,\n",
    "  workflowId='wf-1',\n",
    "  workflowType={\n",
    "    \"name\": 'TutorialWorkflow',\n",
    "    \"version\": '1'\n",
    "  },\n",
    "  taskList={\n",
    "      'name': tasklist\n",
    "  },\n",
    "  input=''\n",
    ")\n",
    "\n",
    "print response"
   ]
  },
  {
   "cell_type": "code",
   "execution_count": null,
   "metadata": {
    "collapsed": false
   },
   "outputs": [],
   "source": [
    "# Is there a task available?\n",
    "newTask = get_decision_task(decider_id)\n",
    "\n",
    "print newTask"
   ]
  },
  {
   "cell_type": "code",
   "execution_count": null,
   "metadata": {
    "collapsed": false
   },
   "outputs": [],
   "source": [
    "events = newTask['events']\n",
    "print events"
   ]
  },
  {
   "cell_type": "code",
   "execution_count": null,
   "metadata": {
    "collapsed": false
   },
   "outputs": [],
   "source": [
    "eventHistory = [evt for evt in newTask['events'] if not evt['eventType'].startswith('Decision')]\n",
    "print eventHistory\n",
    "\n",
    "print len(eventHistory)\n",
    "\n",
    "if eventHistory[0] != 'WorkflowExecutionStarted':\n",
    "    print 'Expected freshly started workflow'\n",
    "else:\n",
    "    print 'Freshly started workflow'"
   ]
  },
  {
   "cell_type": "code",
   "execution_count": null,
   "metadata": {
    "collapsed": false
   },
   "outputs": [],
   "source": [
    "# First decision is to start the first activity\n",
    "activity_id = 'activityid-' + str(uuid.uuid4())\n",
    "\n",
    "schedule_activity(newTask['taskToken'], activities[0], activity_id)"
   ]
  },
  {
   "cell_type": "code",
   "execution_count": null,
   "metadata": {
    "collapsed": false
   },
   "outputs": [],
   "source": [
    "print_pending_descision_task_count()\n",
    "print_pending_activity_task_count()"
   ]
  },
  {
   "cell_type": "code",
   "execution_count": null,
   "metadata": {
    "collapsed": false
   },
   "outputs": [],
   "source": [
    "task = client.poll_for_activity_task(\n",
    "    domain=workflowDomain,\n",
    "    taskList={'name': tasklist},\n",
    "    identity='worker-1'\n",
    ")\n",
    "\n",
    "if 'taskToken' not in task:\n",
    "    print \"Poll timed out, no new task.  Repoll\"\n",
    "else:\n",
    "    print \"New task arrived\"\n",
    "\n",
    "client.respond_activity_task_completed(\n",
    "    taskToken=task['taskToken'],\n",
    "    result='success'\n",
    ")\n",
    "\n",
    "print \"Task Done\"\n",
    "\n",
    "response = client.count_pending_activity_tasks(\n",
    "    domain=workflowDomain,\n",
    "    taskList={\n",
    "        'name': tasklist\n",
    "    }\n",
    ")\n",
    "\n",
    "print response"
   ]
  },
  {
   "cell_type": "code",
   "execution_count": null,
   "metadata": {
    "collapsed": false
   },
   "outputs": [],
   "source": [
    "# Is there a task available for the decider?\n",
    "newTask = client.poll_for_decision_task(\n",
    "    domain=workflowDomain,\n",
    "    taskList={'name': tasklist},\n",
    "    identity='decider-1',\n",
    "    reverseOrder=False)\n",
    "\n",
    "print newTask"
   ]
  },
  {
   "cell_type": "code",
   "execution_count": null,
   "metadata": {
    "collapsed": false
   },
   "outputs": [],
   "source": [
    "# Second decision is to start the second activity\n",
    "activity_id = 'activityid-' + str(uuid.uuid4())\n",
    "\n",
    "schedule_activity(newTask['taskToken'], activities[1], activity_id)"
   ]
  },
  {
   "cell_type": "code",
   "execution_count": null,
   "metadata": {
    "collapsed": false
   },
   "outputs": [],
   "source": [
    "poll_and_complete_task()"
   ]
  },
  {
   "cell_type": "code",
   "execution_count": null,
   "metadata": {
    "collapsed": false
   },
   "outputs": [],
   "source": [
    "print_pending_descision_task_count()"
   ]
  },
  {
   "cell_type": "code",
   "execution_count": null,
   "metadata": {
    "collapsed": true
   },
   "outputs": [],
   "source": [
    "# Is there a task available?\n",
    "newTask = client.poll_for_decision_task(\n",
    "    domain=workflowDomain,\n",
    "    taskList={'name': tasklist},\n",
    "    identity='decider-1',\n",
    "    reverseOrder=False)"
   ]
  },
  {
   "cell_type": "code",
   "execution_count": null,
   "metadata": {
    "collapsed": false
   },
   "outputs": [],
   "source": [
    "# Schedule and complete third task\n",
    "activity_id = 'activityid-' + str(uuid.uuid4())\n",
    "schedule_activity(newTask['taskToken'], activities[2], activity_id)\n"
   ]
  },
  {
   "cell_type": "code",
   "execution_count": null,
   "metadata": {
    "collapsed": false
   },
   "outputs": [],
   "source": [
    "print_pending_activity_task_count()\n",
    "poll_and_complete_task()\n",
    "print_pending_descision_task_count()"
   ]
  },
  {
   "cell_type": "code",
   "execution_count": null,
   "metadata": {
    "collapsed": false
   },
   "outputs": [],
   "source": [
    "print_pending_descision_task_count()"
   ]
  },
  {
   "cell_type": "code",
   "execution_count": null,
   "metadata": {
    "collapsed": false
   },
   "outputs": [],
   "source": [
    "newTask = client.poll_for_decision_task(\n",
    "    domain=workflowDomain,\n",
    "    taskList={'name': tasklist},\n",
    "    identity='decider-1',\n",
    "    reverseOrder=False)\n",
    "\n",
    "activity_id = 'activityid-' + str(uuid.uuid4())\n",
    "schedule_activity(newTask['taskToken'], activities[3], activity_id)"
   ]
  },
  {
   "cell_type": "code",
   "execution_count": null,
   "metadata": {
    "collapsed": false
   },
   "outputs": [],
   "source": [
    "print_pending_activity_task_count()"
   ]
  },
  {
   "cell_type": "code",
   "execution_count": null,
   "metadata": {
    "collapsed": false
   },
   "outputs": [],
   "source": [
    "poll_and_complete_task()\n",
    "print_pending_descision_task_count()"
   ]
  },
  {
   "cell_type": "code",
   "execution_count": null,
   "metadata": {
    "collapsed": false
   },
   "outputs": [],
   "source": [
    "newTask = client.poll_for_decision_task(\n",
    "    domain=workflowDomain,\n",
    "    taskList={'name': tasklist},\n",
    "    identity='decider-1',\n",
    "    reverseOrder=False)\n",
    "\n",
    "print newTask"
   ]
  },
  {
   "cell_type": "code",
   "execution_count": null,
   "metadata": {
    "collapsed": false
   },
   "outputs": [],
   "source": [
    "response = client.respond_decision_task_completed(\n",
    "        taskToken=newTask['taskToken'],\n",
    "        decisions=[\n",
    "          {\n",
    "            'decisionType': 'CompleteWorkflowExecution',\n",
    "            'completeWorkflowExecutionDecisionAttributes': {\n",
    "              'result': 'success'\n",
    "            }\n",
    "          }\n",
    "        ]\n",
    "      )\n",
    "\n",
    "print response"
   ]
  },
  {
   "cell_type": "code",
   "execution_count": null,
   "metadata": {
    "collapsed": false
   },
   "outputs": [],
   "source": [
    "print_pending_descision_task_count()\n",
    "print_pending_activity_task_count()"
   ]
  },
  {
   "cell_type": "code",
   "execution_count": null,
   "metadata": {
    "collapsed": false
   },
   "outputs": [],
   "source": [
    "eventHistory = [evt for evt in newTask['events'] if not evt['eventType'].startswith('Decision')]\n",
    "\n",
    "for event in eventHistory:\n",
    "    print event\n",
    "    print"
   ]
  },
  {
   "cell_type": "code",
   "execution_count": null,
   "metadata": {
    "collapsed": true
   },
   "outputs": [],
   "source": []
  }
 ],
 "metadata": {
  "kernelspec": {
   "display_name": "Python 2",
   "language": "python",
   "name": "python2"
  },
  "language_info": {
   "codemirror_mode": {
    "name": "ipython",
    "version": 2
   },
   "file_extension": ".py",
   "mimetype": "text/x-python",
   "name": "python",
   "nbconvert_exporter": "python",
   "pygments_lexer": "ipython2",
   "version": "2.7.12"
  }
 },
 "nbformat": 4,
 "nbformat_minor": 0
}
