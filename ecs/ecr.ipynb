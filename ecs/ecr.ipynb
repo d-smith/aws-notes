{
 "cells": [
  {
   "cell_type": "code",
   "execution_count": null,
   "metadata": {
    "collapsed": false
   },
   "outputs": [],
   "source": [
    "import boto3\n",
    "\n",
    "client = boto3.client('ecr')\n",
    "\n",
    "repos =client.describe_repositories()\n",
    "print repos"
   ]
  },
  {
   "cell_type": "code",
   "execution_count": null,
   "metadata": {
    "collapsed": false
   },
   "outputs": [],
   "source": [
    "for repo in repos['repositories']:\n",
    "    registryId = repo['registryId']\n",
    "    repositoryName = repo['repositoryName']\n",
    "    \n",
    "    print 'images for', repositoryName\n",
    "    images = client.list_images(\n",
    "        registryId=registryId,\n",
    "        repositoryName=repositoryName\n",
    "    )['imageIds']\n",
    "    \n",
    "    print images\n",
    "    \n",
    "    descriptions = client.describe_images(\n",
    "        registryId=registryId,\n",
    "        repositoryName=repositoryName,\n",
    "        imageIds=images\n",
    "    )\n",
    "    \n",
    "    print descriptions\n",
    "    "
   ]
  },
  {
   "cell_type": "code",
   "execution_count": null,
   "metadata": {
    "collapsed": true
   },
   "outputs": [],
   "source": []
  }
 ],
 "metadata": {
  "kernelspec": {
   "display_name": "Python 2",
   "language": "python",
   "name": "python2"
  },
  "language_info": {
   "codemirror_mode": {
    "name": "ipython",
    "version": 2
   },
   "file_extension": ".py",
   "mimetype": "text/x-python",
   "name": "python",
   "nbconvert_exporter": "python",
   "pygments_lexer": "ipython2",
   "version": "2.7.12"
  }
 },
 "nbformat": 4,
 "nbformat_minor": 0
}
