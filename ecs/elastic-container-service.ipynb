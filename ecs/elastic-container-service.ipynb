{
 "cells": [
  {
   "cell_type": "markdown",
   "metadata": {},
   "source": [
    "# Elastic Container Service\n",
    "\n",
    "This notebook explores the AWS Elastic Container Service.\n",
    "\n",
    "## Set Up\n",
    "\n",
    "For this notebook, we will want to create a VPC with public and private subnets for our ECS cluster.\n",
    "To keep the focus on ECS, we'll use cloud formation to create the VPC from the vpc template\n",
    "in the [ecs-sample](https://github.com/d-smith/ecs-sample) project.\n",
    "\n",
    "This notebook will use the [AWS Python SDK](https://aws.amazon.com/sdk-for-python/)"
   ]
  },
  {
   "cell_type": "code",
   "execution_count": null,
   "metadata": {
    "collapsed": true
   },
   "outputs": [],
   "source": [
    "import boto3\n",
    "\n",
    "cf = boto3.client('cloudformation')"
   ]
  },
  {
   "cell_type": "code",
   "execution_count": null,
   "metadata": {
    "collapsed": true
   },
   "outputs": [],
   "source": [
    "# Here set the vpc_template to the s3 URL of your network template. Also change the stack name\n",
    "# if you have already instantiated a stack with this name\n",
    "vpc_template = 'https://s3-us-west-1.amazonaws.com/xtdc-deploy-templates/vpc-pub-priv.yaml'\n",
    "stack_name = \"network-us-west-2\""
   ]
  },
  {
   "cell_type": "code",
   "execution_count": null,
   "metadata": {
    "collapsed": false
   },
   "outputs": [],
   "source": [
    "response = cf.create_stack(\n",
    "    StackName=stack_name,\n",
    "    TemplateURL=vpc_template\n",
    ")\n",
    "\n",
    "print response"
   ]
  },
  {
   "cell_type": "code",
   "execution_count": null,
   "metadata": {
    "collapsed": false
   },
   "outputs": [],
   "source": [
    "waiter = cf.get_waiter('stack_create_complete')\n",
    "waiter.wait(\n",
    "    StackName=stack_name\n",
    ")\n",
    "\n",
    "print 'The wait is over for ', stack_name"
   ]
  },
  {
   "cell_type": "markdown",
   "metadata": {
    "collapsed": true
   },
   "source": [
    "## ECS Cluster\n",
    "\n",
    "Once our VPC is in place, we'll need a cluster of machines to run our services and tasks on. For the\n",
    "cluster, we will bring the following together:\n",
    "\n",
    "* ECS Cluster Definition\n",
    "* Role definition for cluster instance security context\n",
    "* Launch configuration for launching machines to join the cluster\n",
    "* Autoscaling policy for growing and shrinking the cluster."
   ]
  },
  {
   "cell_type": "code",
   "execution_count": null,
   "metadata": {
    "collapsed": false
   },
   "outputs": [],
   "source": [
    "# Instantiate the ECS client\n",
    "ecs = boto3.client('ecs')"
   ]
  },
  {
   "cell_type": "code",
   "execution_count": null,
   "metadata": {
    "collapsed": false
   },
   "outputs": [],
   "source": [
    "# Create a cluster\n",
    "response = ecs.create_cluster(\n",
    "    clusterName='myCluster'\n",
    ")\n",
    "print response"
   ]
  },
  {
   "cell_type": "markdown",
   "metadata": {},
   "source": [
    "## Clean Up"
   ]
  },
  {
   "cell_type": "code",
   "execution_count": null,
   "metadata": {
    "collapsed": false
   },
   "outputs": [],
   "source": [
    "# Destroy cluster\n",
    "response = ecs.delete_cluster(\n",
    "    cluster='myCluster'\n",
    ")\n",
    "\n",
    "print response"
   ]
  },
  {
   "cell_type": "code",
   "execution_count": null,
   "metadata": {
    "collapsed": false
   },
   "outputs": [],
   "source": [
    "# Tear down network stack\n",
    "response = cf.delete_stack(\n",
    "    StackName=stack_name\n",
    ")\n",
    "\n",
    "print response\n",
    "\n",
    "waiter = cf.get_waiter('stack_delete_complete')\n",
    "print 'Waiting for delete for VPC stack...'\n",
    "waiter.wait()\n",
    "print 'Stack destroyed'"
   ]
  },
  {
   "cell_type": "code",
   "execution_count": null,
   "metadata": {
    "collapsed": true
   },
   "outputs": [],
   "source": []
  }
 ],
 "metadata": {
  "kernelspec": {
   "display_name": "Python 2",
   "language": "python",
   "name": "python2"
  },
  "language_info": {
   "codemirror_mode": {
    "name": "ipython",
    "version": 2
   },
   "file_extension": ".py",
   "mimetype": "text/x-python",
   "name": "python",
   "nbconvert_exporter": "python",
   "pygments_lexer": "ipython2",
   "version": "2.7.12"
  }
 },
 "nbformat": 4,
 "nbformat_minor": 0
}
