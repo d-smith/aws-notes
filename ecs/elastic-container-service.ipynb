{
 "cells": [
  {
   "cell_type": "markdown",
   "metadata": {},
   "source": [
    "# Elastic Container Service\n",
    "\n",
    "This notebook explores the AWS Elastic Container Service.\n",
    "\n",
    "## Set Up\n",
    "\n",
    "For this notebook, we will want to create a VPC with public and private subnets for our ECS cluster.\n",
    "To keep the focus on ECS, we'll use cloud formation to create the VPC from the vpc template\n",
    "in the [ecs-sample](https://github.com/d-smith/ecs-sample) project."
   ]
  },
  {
   "cell_type": "code",
   "execution_count": null,
   "metadata": {
    "collapsed": true
   },
   "outputs": [],
   "source": []
  }
 ],
 "metadata": {
  "kernelspec": {
   "display_name": "Python 2",
   "language": "python",
   "name": "python2"
  },
  "language_info": {
   "codemirror_mode": {
    "name": "ipython",
    "version": 2
   },
   "file_extension": ".py",
   "mimetype": "text/x-python",
   "name": "python",
   "nbconvert_exporter": "python",
   "pygments_lexer": "ipython2",
   "version": "2.7.12"
  }
 },
 "nbformat": 4,
 "nbformat_minor": 0
}
