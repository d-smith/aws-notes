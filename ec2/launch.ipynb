{
 "cells": [
  {
   "cell_type": "code",
   "execution_count": null,
   "metadata": {
    "collapsed": true
   },
   "outputs": [],
   "source": [
    "import boto3\n",
    "\n",
    "client = boto3.client('ec2')"
   ]
  },
  {
   "cell_type": "code",
   "execution_count": null,
   "metadata": {
    "collapsed": false
   },
   "outputs": [],
   "source": [
    "my_session = boto3.session.Session()\n",
    "my_region = my_session.region_name\n",
    "print my_region"
   ]
  },
  {
   "cell_type": "code",
   "execution_count": null,
   "metadata": {
    "collapsed": false
   },
   "outputs": [],
   "source": [
    "# AMIs are unique per region. Here we will look up our AMI based on our region\n",
    "amis = {}\n",
    "amis['us-east-1'] = 'ami-0b33d91d'\n",
    "amis['us-east-2'] = 'ami-446f3521'\n",
    "amis['us-west-1'] = 'ami-9fadf8ff'\n",
    "amis['us-west-2'] = 'ami-7abc111a'\n",
    "amis['eu-west-1'] = 'ami-a1491ad2'\n",
    "amis['ca-central-1'] = 'ami-ebed508f'\n",
    "\n",
    "ami_id = amis[my_region]\n",
    "print ami_id"
   ]
  },
  {
   "cell_type": "code",
   "execution_count": null,
   "metadata": {
    "collapsed": false
   },
   "outputs": [],
   "source": [
    "#Create security group\n",
    "response = client.create_security_group(\n",
    "    GroupName='web_sg',\n",
    "    Description='Use for launching public web service'\n",
    ")\n",
    "\n",
    "webSgID = response['GroupId']\n",
    "print 'created security group ', webSgID"
   ]
  },
  {
   "cell_type": "code",
   "execution_count": null,
   "metadata": {
    "collapsed": false
   },
   "outputs": [],
   "source": [
    "# We'll add some rules for inbound traffic - note that security groups are stateful:\n",
    "# if you allow inbound traffic, the response based on that inbound traffic is allowed\n",
    "# outbound without an explicit rule granting that. This is in contrast with network\n",
    "# access control lists which are stateless - you have to pair them if you want \n",
    "# to enable output based on allowed input\n",
    "\n",
    "# By default, all traffic is blocked: we explicitly enable the traffic we want to allow.\n",
    "\n",
    "# Allow ingress on port 80\n",
    "response = client.authorize_security_group_ingress(\n",
    "    GroupId=webSgID,\n",
    "    IpProtocol='tcp',\n",
    "    FromPort=80,\n",
    "    ToPort=80,\n",
    "    CidrIp='0.0.0.0/0'\n",
    ")\n",
    "\n",
    "print response"
   ]
  },
  {
   "cell_type": "code",
   "execution_count": null,
   "metadata": {
    "collapsed": false
   },
   "outputs": [],
   "source": [
    "# Allow ingress for ssh\n",
    "response = client.authorize_security_group_ingress(\n",
    "    GroupId=webSgID,\n",
    "    IpProtocol='tcp',\n",
    "    FromPort=22,\n",
    "    ToPort=22,\n",
    "    CidrIp='0.0.0.0/0'\n",
    ")\n",
    "\n",
    "print response"
   ]
  },
  {
   "cell_type": "code",
   "execution_count": null,
   "metadata": {
    "collapsed": false
   },
   "outputs": [],
   "source": [
    "import os\n",
    "\n",
    "keyName = os.environ[\"KEYNAME\"]\n",
    "print keyName"
   ]
  },
  {
   "cell_type": "code",
   "execution_count": null,
   "metadata": {
    "collapsed": true
   },
   "outputs": [],
   "source": [
    "user_data = \\\n",
    "\"\"\"#!/bin/bash\n",
    "yum update -y\n",
    "yum install httpd -y\n",
    "cd /var/www/html\n",
    "echo \"<html><h1>Hello cloud gurus</h1></html>\" > /var/www/html/index.html\n",
    "service httpd start\"\"\""
   ]
  },
  {
   "cell_type": "code",
   "execution_count": null,
   "metadata": {
    "collapsed": false
   },
   "outputs": [],
   "source": [
    "# Launch instance - default VPC, default subnet, etc.\n",
    "launch_response = client.run_instances(\n",
    "    KeyName = keyName,\n",
    "    DryRun=False,\n",
    "    ImageId=ami_id,\n",
    "    MinCount=1,\n",
    "    MaxCount=1,\n",
    "    InstanceType='t2.micro',\n",
    "    UserData=user_data,\n",
    "    SecurityGroups=[\n",
    "        'web_sg'\n",
    "    ],\n",
    ")\n",
    "\n",
    "\n",
    "instanceId = launch_response['Instances'][0]['InstanceId']"
   ]
  },
  {
   "cell_type": "code",
   "execution_count": null,
   "metadata": {
    "collapsed": false
   },
   "outputs": [],
   "source": [
    "# Wait for instance\n",
    "print 'Waiting for launch of ', instanceId\n",
    "waiter = client.get_waiter('instance_running')\n",
    "waiter.wait(\n",
    "    InstanceIds=[\n",
    "        instanceId,\n",
    "    ]\n",
    ")\n",
    "print 'Launch complete'"
   ]
  },
  {
   "cell_type": "code",
   "execution_count": null,
   "metadata": {
    "collapsed": false
   },
   "outputs": [],
   "source": [
    "# We can get the status for our instance, including the System Status \n",
    "# (can AWS get network packets to the instance?) and the Instance\n",
    "# Status (is the operating system accepting traffic)\n",
    "response = client.describe_instance_status(\n",
    "    InstanceIds=[\n",
    "        instanceId,\n",
    "    ]\n",
    ")\n",
    "\n",
    "print response"
   ]
  },
  {
   "cell_type": "code",
   "execution_count": null,
   "metadata": {
    "collapsed": false
   },
   "outputs": [],
   "source": [
    "# Get some cloud watch metrics\n",
    "from datetime import datetime, timedelta\n",
    "cw = boto3.client('cloudwatch')\n",
    "response = cw.get_metric_statistics(\n",
    "    Namespace='AWS/EC2',MetricName='CPUUtilization',\n",
    "    StartTime=datetime.utcnow() - timedelta(days=1) ,\n",
    "    EndTime=datetime.utcnow(), Period=300,\n",
    "    Statistics=['Average'], Unit='Percent',\n",
    "    Dimensions=[\n",
    "        {'Name': 'InstanceId', 'Value': instanceId}\n",
    "    ])\n",
    "\n",
    "\n",
    "print(response)\n",
    "\n",
    "response = cw.get_metric_statistics(\n",
    "    Namespace='AWS/EC2',MetricName='DiskWriteOps',\n",
    "    StartTime=datetime.utcnow() - timedelta(days=1) ,\n",
    "    EndTime=datetime.utcnow(), Period=300,\n",
    "    Statistics=['Average'], Unit='Count',\n",
    "    Dimensions=[\n",
    "        {'Name': 'InstanceId', 'Value': instanceId}\n",
    "    ])\n",
    "\n",
    "\n",
    "print(response)\n",
    "\n",
    "\n",
    "response = cw.get_metric_statistics(\n",
    "    Namespace='AWS/EC2',MetricName='NetworkPacketsIn',\n",
    "    StartTime=datetime.utcnow() - timedelta(days=1) ,\n",
    "    EndTime=datetime.utcnow(), Period=300,\n",
    "    Statistics=['Average'], Unit='Count',\n",
    "    Dimensions=[\n",
    "        {'Name': 'InstanceId', 'Value': instanceId}\n",
    "    ])\n",
    "\n",
    "\n",
    "print(response)"
   ]
  },
  {
   "cell_type": "code",
   "execution_count": null,
   "metadata": {
    "collapsed": false
   },
   "outputs": [],
   "source": [
    "# Get information about the attached volume, which in this case is the boot volume\n",
    "response = client.describe_volumes(\n",
    "    Filters=[\n",
    "        {\n",
    "            'Name': 'attachment.instance-id',\n",
    "            'Values': [\n",
    "                instanceId\n",
    "            ]\n",
    "        },\n",
    "    ]\n",
    ")\n",
    "\n",
    "print response\n",
    "\n",
    "vol_az = response['Volumes'][0]['AvailabilityZone']\n",
    "print 'volume az:', vol_az"
   ]
  },
  {
   "cell_type": "code",
   "execution_count": null,
   "metadata": {
    "collapsed": false
   },
   "outputs": [],
   "source": [
    "# Create a second volume (cold storage)\n",
    "vol_response = client.create_volume(\n",
    "    AvailabilityZone=vol_az,\n",
    "    Size=500,\n",
    "    VolumeType='sc1',\n",
    "    Encrypted=False\n",
    ")\n",
    "\n",
    "print vol_response"
   ]
  },
  {
   "cell_type": "code",
   "execution_count": null,
   "metadata": {
    "collapsed": false
   },
   "outputs": [],
   "source": [
    "# Attach the volume to our EC2 instance\n",
    "vol_id = vol_response['VolumeId']\n",
    "print vol_id\n",
    "\n",
    "\n",
    "attach_resp = client.attach_volume(\n",
    "    VolumeId=vol_id,\n",
    "    InstanceId=instanceId,\n",
    "    Device='xvdf'\n",
    ")\n",
    "\n",
    "print attach_resp"
   ]
  },
  {
   "cell_type": "code",
   "execution_count": null,
   "metadata": {
    "collapsed": false
   },
   "outputs": [],
   "source": [
    "# Describe volumes again after attaching our new volume\n",
    "# Get information about the attached volume, which in this case is the boot volume\n",
    "response = client.describe_volumes(\n",
    "    Filters=[\n",
    "        {\n",
    "            'Name': 'attachment.instance-id',\n",
    "            'Values': [\n",
    "                instanceId\n",
    "            ]\n",
    "        },\n",
    "    ]\n",
    ")\n",
    "\n",
    "print response"
   ]
  },
  {
   "cell_type": "code",
   "execution_count": null,
   "metadata": {
    "collapsed": false
   },
   "outputs": [],
   "source": [
    "response = client.describe_instances(\n",
    "InstanceIds=[\n",
    "        instanceId,\n",
    "    ]\n",
    ")\n",
    "\n",
    "print response['Reservations'][0]['Instances'][0]['PublicDnsName']"
   ]
  },
  {
   "cell_type": "code",
   "execution_count": null,
   "metadata": {
    "collapsed": false
   },
   "outputs": [],
   "source": [
    "# For the next notebook, ssh to the instance then do the following\n",
    "do_this =\"\"\"\n",
    "cd /\n",
    "mkdir myfileserver\n",
    "lsblk\n",
    "file -s /dev/xvdf\n",
    "mkfs -t ext4 /dev/xvdf\n",
    "mount /dev/xvdf /myfileserver\n",
    "cd /myfileserver\n",
    "create some files\n",
    "ls\n",
    "lsblk\n",
    "umount /dev/xvdf\n",
    "\"\"\""
   ]
  },
  {
   "cell_type": "code",
   "execution_count": null,
   "metadata": {
    "collapsed": false
   },
   "outputs": [],
   "source": [
    "# Detach the volume\n",
    "det_response = client.detach_volume(\n",
    "    VolumeId=vol_id,\n",
    "    InstanceId=instanceId,\n",
    "    Device='xvdf'\n",
    ")\n",
    "\n",
    "print det_response"
   ]
  },
  {
   "cell_type": "code",
   "execution_count": null,
   "metadata": {
    "collapsed": false
   },
   "outputs": [],
   "source": [
    "# Note: if we were taking a snapshot of a boot volume we'd stop the instance first\n",
    "# to make sure we had a consistent snapshot\n",
    "response = client.create_snapshot(\n",
    "    VolumeId=vol_id,\n",
    "    Description='my snappin shot'\n",
    ")\n",
    "\n",
    "print response"
   ]
  },
  {
   "cell_type": "code",
   "execution_count": null,
   "metadata": {
    "collapsed": false
   },
   "outputs": [],
   "source": [
    "# Delete the volume\n",
    "response = client.delete_volume(\n",
    "    VolumeId=vol_id\n",
    ")\n",
    "\n",
    "print response"
   ]
  },
  {
   "cell_type": "code",
   "execution_count": null,
   "metadata": {
    "collapsed": false
   },
   "outputs": [],
   "source": [
    "response = client.describe_snapshots(\n",
    "    \n",
    "    Filters=[\n",
    "        {\n",
    "            'Name': 'description',\n",
    "            'Values': [\n",
    "                'my snappin shot'\n",
    "            ]\n",
    "        },\n",
    "    ]\n",
    ")\n",
    "\n",
    "print response\n",
    "\n",
    "snapshot_id = response['Snapshots'][0]['SnapshotId']\n",
    "print snapshot_id"
   ]
  },
  {
   "cell_type": "code",
   "execution_count": null,
   "metadata": {
    "collapsed": false
   },
   "outputs": [],
   "source": [
    "# Create a new volume from the snapshot, this time make it a general purpose volume\n",
    "vol_response = client.create_volume(\n",
    "    AvailabilityZone=vol_az,\n",
    "    SnapshotId=snapshot_id,\n",
    "    Size=500,\n",
    "    VolumeType='gp2',\n",
    "    Encrypted=False\n",
    ")\n",
    "\n",
    "print vol_response"
   ]
  },
  {
   "cell_type": "code",
   "execution_count": null,
   "metadata": {
    "collapsed": false
   },
   "outputs": [],
   "source": [
    "# Attach the volume created from the snapshot to our EC2 instance\n",
    "vol_id = vol_response['VolumeId']\n",
    "print vol_id\n",
    "\n",
    "\n",
    "attach_resp = client.attach_volume(\n",
    "    VolumeId=vol_id,\n",
    "    InstanceId=instanceId,\n",
    "    Device='xvdf'\n",
    ")\n",
    "\n",
    "print attach_resp"
   ]
  },
  {
   "cell_type": "code",
   "execution_count": null,
   "metadata": {
    "collapsed": true
   },
   "outputs": [],
   "source": [
    "# Now ssh to the box, mount the volume, and see the files created previously"
   ]
  },
  {
   "cell_type": "code",
   "execution_count": null,
   "metadata": {
    "collapsed": false
   },
   "outputs": [],
   "source": [
    "# Detach the volume\n",
    "det_response = client.detach_volume(\n",
    "    VolumeId=vol_id,\n",
    "    InstanceId=instanceId,\n",
    "    Device='xvdf'\n",
    ")\n",
    "\n",
    "print det_response"
   ]
  },
  {
   "cell_type": "code",
   "execution_count": null,
   "metadata": {
    "collapsed": false
   },
   "outputs": [],
   "source": [
    "# Delete the volume\n",
    "response = client.delete_volume(\n",
    "    VolumeId=vol_id\n",
    ")\n",
    "\n",
    "print response"
   ]
  },
  {
   "cell_type": "code",
   "execution_count": null,
   "metadata": {
    "collapsed": false
   },
   "outputs": [],
   "source": [
    "response = client.delete_snapshot(\n",
    "    SnapshotId=snapshot_id\n",
    ")\n",
    "\n",
    "print response"
   ]
  },
  {
   "cell_type": "code",
   "execution_count": null,
   "metadata": {
    "collapsed": false
   },
   "outputs": [],
   "source": [
    "# Terminate the EC2 Instance\n",
    "response = client.terminate_instances(\n",
    "    InstanceIds=[\n",
    "        instanceId,\n",
    "    ]\n",
    ")\n",
    "\n",
    "print response"
   ]
  },
  {
   "cell_type": "code",
   "execution_count": null,
   "metadata": {
    "collapsed": false
   },
   "outputs": [],
   "source": [
    "print 'wait for it...'\n",
    "waiter = client.get_waiter('instance_terminated')\n",
    "waiter.wait(\n",
    "    InstanceIds=[\n",
    "        instanceId,\n",
    "    ]\n",
    ")\n",
    "print 'proceed'"
   ]
  },
  {
   "cell_type": "code",
   "execution_count": null,
   "metadata": {
    "collapsed": false
   },
   "outputs": [],
   "source": [
    "# Clean up security group\n",
    "response = client.delete_security_group(\n",
    "    GroupId=webSgID\n",
    ")\n",
    "\n",
    "print response"
   ]
  },
  {
   "cell_type": "code",
   "execution_count": null,
   "metadata": {
    "collapsed": true
   },
   "outputs": [],
   "source": []
  }
 ],
 "metadata": {
  "kernelspec": {
   "display_name": "Python 2",
   "language": "python",
   "name": "python2"
  },
  "language_info": {
   "codemirror_mode": {
    "name": "ipython",
    "version": 2
   },
   "file_extension": ".py",
   "mimetype": "text/x-python",
   "name": "python",
   "nbconvert_exporter": "python",
   "pygments_lexer": "ipython2",
   "version": "2.7.12"
  }
 },
 "nbformat": 4,
 "nbformat_minor": 0
}
