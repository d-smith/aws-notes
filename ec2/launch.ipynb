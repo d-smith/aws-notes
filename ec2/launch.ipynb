{
 "cells": [
  {
   "cell_type": "code",
   "execution_count": null,
   "metadata": {
    "collapsed": true
   },
   "outputs": [],
   "source": [
    "import boto3\n",
    "\n",
    "client = boto3.client('ec2')"
   ]
  },
  {
   "cell_type": "code",
   "execution_count": null,
   "metadata": {
    "collapsed": false
   },
   "outputs": [],
   "source": [
    "my_session = boto3.session.Session()\n",
    "my_region = my_session.region_name\n",
    "print my_region"
   ]
  },
  {
   "cell_type": "code",
   "execution_count": null,
   "metadata": {
    "collapsed": false
   },
   "outputs": [],
   "source": [
    "# AMIs are unique per region. Here we will look up our AMI based on our region\n",
    "amis = {}\n",
    "amis['us-east-1'] = 'ami-0b33d91d'\n",
    "amis['us-east-2'] = 'ami-446f3521'\n",
    "amis['us-west-1'] = 'ami-9fadf8ff'\n",
    "amis['us-west-2'] = 'ami-7abc111a'\n",
    "amis['eu-west-1'] = 'ami-a1491ad2'\n",
    "amis['ca-central-1'] = 'ami-ebed508f'\n",
    "\n",
    "ami_id = amis[my_region]\n",
    "print ami_id"
   ]
  },
  {
   "cell_type": "code",
   "execution_count": null,
   "metadata": {
    "collapsed": true
   },
   "outputs": [],
   "source": [
    "# Need to define a security group - ssh and http, and specify key-pair\n",
    "# User data - yum update -y, yum install httpd -y then cd /var/www/html add index.html"
   ]
  },
  {
   "cell_type": "code",
   "execution_count": null,
   "metadata": {
    "collapsed": true
   },
   "outputs": [],
   "source": [
    "# Launch instance - default VPC, default subnet, etc.\n",
    "response = client.run_instances(\n",
    "    DryRun=False,\n",
    "    ImageId=ami_id,\n",
    "    MinCount=1,\n",
    "    MaxCount=1,\n",
    "    InstanceType='t2.micro'    \n",
    ")\n",
    "\n",
    "instanceId = response['Instances'][0]['InstanceId']"
   ]
  },
  {
   "cell_type": "code",
   "execution_count": null,
   "metadata": {
    "collapsed": false
   },
   "outputs": [],
   "source": [
    "# Wait for instance\n",
    "print 'Waiting for launch of ', instanceId\n",
    "waiter = client.get_waiter('instance_running')\n",
    "waiter.wait(\n",
    "    InstanceIds=[\n",
    "        instanceId,\n",
    "    ]\n",
    ")"
   ]
  },
  {
   "cell_type": "code",
   "execution_count": null,
   "metadata": {
    "collapsed": false
   },
   "outputs": [],
   "source": [
    "# Terminate the EC2 Instance\n",
    "response = client.terminate_instances(\n",
    "    InstanceIds=[\n",
    "        instanceId,\n",
    "    ]\n",
    ")\n",
    "\n",
    "print response\n",
    "\n",
    "print 'Waiting for termination to complete...'\n",
    "waiter = client.get_waiter('instance_terminated')\n",
    "waiter.wait(\n",
    "   InstanceIds=[\n",
    "       instanceId,\n",
    "   ]\n",
    ")\n",
    "print 'Terminated'"
   ]
  },
  {
   "cell_type": "code",
   "execution_count": null,
   "metadata": {
    "collapsed": true
   },
   "outputs": [],
   "source": [
    "# Future notebooks - EBS volume - boot (3 types), additional volumes (all 5), delete on terminate vs\n",
    "# do not delete on terminate."
   ]
  }
 ],
 "metadata": {
  "kernelspec": {
   "display_name": "Python 2",
   "language": "python",
   "name": "python2"
  },
  "language_info": {
   "codemirror_mode": {
    "name": "ipython",
    "version": 2
   },
   "file_extension": ".py",
   "mimetype": "text/x-python",
   "name": "python",
   "nbconvert_exporter": "python",
   "pygments_lexer": "ipython2",
   "version": "2.7.12"
  }
 },
 "nbformat": 4,
 "nbformat_minor": 0
}
