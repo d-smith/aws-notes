{
 "cells": [
  {
   "cell_type": "code",
   "execution_count": null,
   "metadata": {
    "collapsed": true
   },
   "outputs": [],
   "source": [
    "import boto3\n",
    "\n",
    "client = boto3.client('ec2')"
   ]
  },
  {
   "cell_type": "code",
   "execution_count": null,
   "metadata": {
    "collapsed": false
   },
   "outputs": [],
   "source": [
    "my_session = boto3.session.Session()\n",
    "my_region = my_session.region_name\n",
    "print my_region"
   ]
  },
  {
   "cell_type": "code",
   "execution_count": null,
   "metadata": {
    "collapsed": false
   },
   "outputs": [],
   "source": [
    "# AMIs are unique per region. Here we will look up our AMI based on our region\n",
    "amis = {}\n",
    "amis['us-east-1'] = 'ami-0b33d91d'\n",
    "amis['us-east-2'] = 'ami-446f3521'\n",
    "amis['us-west-1'] = 'ami-9fadf8ff'\n",
    "amis['us-west-2'] = 'ami-7abc111a'\n",
    "amis['eu-west-1'] = 'ami-a1491ad2'\n",
    "amis['ca-central-1'] = 'ami-ebed508f'\n",
    "\n",
    "ami_id = amis[my_region]\n",
    "print ami_id"
   ]
  },
  {
   "cell_type": "code",
   "execution_count": null,
   "metadata": {
    "collapsed": false
   },
   "outputs": [],
   "source": [
    "#Create security group\n",
    "response = client.create_security_group(\n",
    "    GroupName='web_sg',\n",
    "    Description='Use for launching public web service'\n",
    ")\n",
    "\n",
    "webSgID = response['GroupId']\n",
    "print 'created security group ', webSgID"
   ]
  },
  {
   "cell_type": "code",
   "execution_count": null,
   "metadata": {
    "collapsed": false
   },
   "outputs": [],
   "source": [
    "# Allow ingress on port 80\n",
    "response = client.authorize_security_group_ingress(\n",
    "    GroupId=webSgID,\n",
    "    IpProtocol='tcp',\n",
    "    FromPort=80,\n",
    "    ToPort=80,\n",
    "    CidrIp='0.0.0.0/0'\n",
    ")\n",
    "\n",
    "print response"
   ]
  },
  {
   "cell_type": "code",
   "execution_count": null,
   "metadata": {
    "collapsed": false
   },
   "outputs": [],
   "source": [
    "# Allow ingress for ssh\n",
    "response = client.authorize_security_group_ingress(\n",
    "    GroupId=webSgID,\n",
    "    IpProtocol='tcp',\n",
    "    FromPort=22,\n",
    "    ToPort=22,\n",
    "    CidrIp='0.0.0.0/0'\n",
    ")\n",
    "\n",
    "print response"
   ]
  },
  {
   "cell_type": "code",
   "execution_count": null,
   "metadata": {
    "collapsed": false
   },
   "outputs": [],
   "source": [
    "import os\n",
    "\n",
    "keyName = os.environ[\"KEYNAME\"]\n",
    "print keyName"
   ]
  },
  {
   "cell_type": "code",
   "execution_count": null,
   "metadata": {
    "collapsed": true
   },
   "outputs": [],
   "source": [
    "user_data = \\\n",
    "\"\"\"#!/bin/bash\n",
    "yum update -y\n",
    "yum install httpd -y\n",
    "cd /var/www/html\n",
    "echo \"<html><h1>Hello cloud gurus</h1></html>\" > /var/www/html/index.html\n",
    "service httpd start\"\"\""
   ]
  },
  {
   "cell_type": "code",
   "execution_count": null,
   "metadata": {
    "collapsed": false
   },
   "outputs": [],
   "source": [
    "# Launch instance - default VPC, default subnet, etc.\n",
    "launch_response = client.run_instances(\n",
    "    KeyName = keyName,\n",
    "    DryRun=False,\n",
    "    ImageId=ami_id,\n",
    "    MinCount=1,\n",
    "    MaxCount=1,\n",
    "    InstanceType='t2.micro',\n",
    "    UserData=user_data,\n",
    "    SecurityGroups=[\n",
    "        'web_sg'\n",
    "    ],\n",
    ")\n",
    "\n",
    "\n",
    "instanceId = launch_response['Instances'][0]['InstanceId']"
   ]
  },
  {
   "cell_type": "code",
   "execution_count": null,
   "metadata": {
    "collapsed": false
   },
   "outputs": [],
   "source": [
    "# Wait for instance\n",
    "print 'Waiting for launch of ', instanceId\n",
    "waiter = client.get_waiter('instance_running')\n",
    "waiter.wait(\n",
    "    InstanceIds=[\n",
    "        instanceId,\n",
    "    ]\n",
    ")\n",
    "print 'Launch complete'"
   ]
  },
  {
   "cell_type": "code",
   "execution_count": null,
   "metadata": {
    "collapsed": false
   },
   "outputs": [],
   "source": [
    "response = client.describe_instances(\n",
    "InstanceIds=[\n",
    "        instanceId,\n",
    "    ]\n",
    ")\n",
    "\n",
    "print response['Reservations'][0]['Instances'][0]['PublicDnsName']"
   ]
  },
  {
   "cell_type": "code",
   "execution_count": null,
   "metadata": {
    "collapsed": false
   },
   "outputs": [],
   "source": [
    "# Terminate the EC2 Instance\n",
    "response = client.terminate_instances(\n",
    "    InstanceIds=[\n",
    "        instanceId,\n",
    "    ]\n",
    ")\n",
    "\n",
    "print response\n",
    "\n",
    "print 'Waiting for termination to complete...'\n",
    "waiter = client.get_waiter('instance_terminated')\n",
    "waiter.wait(\n",
    "   InstanceIds=[\n",
    "       instanceId,\n",
    "   ]\n",
    ")\n",
    "print 'Terminated'"
   ]
  },
  {
   "cell_type": "code",
   "execution_count": null,
   "metadata": {
    "collapsed": false
   },
   "outputs": [],
   "source": [
    "# Clean up security group\n",
    "response = client.delete_security_group(\n",
    "    GroupId=webSgID\n",
    ")\n",
    "\n",
    "print response"
   ]
  },
  {
   "cell_type": "code",
   "execution_count": null,
   "metadata": {
    "collapsed": true
   },
   "outputs": [],
   "source": [
    "# Future notebooks - EBS volume - boot (3 types), additional volumes (all 5), delete on terminate vs\n",
    "# do not delete on terminate."
   ]
  },
  {
   "cell_type": "code",
   "execution_count": null,
   "metadata": {
    "collapsed": true
   },
   "outputs": [],
   "source": []
  }
 ],
 "metadata": {
  "kernelspec": {
   "display_name": "Python 2",
   "language": "python",
   "name": "python2"
  },
  "language_info": {
   "codemirror_mode": {
    "name": "ipython",
    "version": 2
   },
   "file_extension": ".py",
   "mimetype": "text/x-python",
   "name": "python",
   "nbconvert_exporter": "python",
   "pygments_lexer": "ipython2",
   "version": "2.7.12"
  }
 },
 "nbformat": 4,
 "nbformat_minor": 0
}
