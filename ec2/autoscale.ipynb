{
 "cells": [
  {
   "cell_type": "markdown",
   "metadata": {},
   "source": [
    "# Autoscaling\n",
    "\n",
    "Use the Python SDK to [get started with auto scaling](http://docs.aws.amazon.com/autoscaling/latest/userguide/GettingStartedTutorial.html)"
   ]
  },
  {
   "cell_type": "markdown",
   "metadata": {},
   "source": [
    "## VPC Context"
   ]
  },
  {
   "cell_type": "code",
   "execution_count": null,
   "metadata": {
    "collapsed": false
   },
   "outputs": [],
   "source": [
    "import boto3\n",
    "\n",
    "vpc_client = boto3.client('ec2')"
   ]
  },
  {
   "cell_type": "code",
   "execution_count": null,
   "metadata": {
    "collapsed": false
   },
   "outputs": [],
   "source": [
    "# Note that is you run this in an older account that supports EC2-Classic there might not be \n",
    "# a default VPC\n",
    "response = vpc_client.describe_vpcs()\n",
    "vpcs = response['Vpcs']\n",
    "print vpcs\n",
    "\n",
    "def_vpc = ''\n",
    "for vpc in vpcs:\n",
    "    if vpc['IsDefault'] == True:\n",
    "        def_vpc = vpc['VpcId']\n",
    "        break\n",
    "        \n",
    "print 'default vpc is {}'.format(def_vpc)"
   ]
  },
  {
   "cell_type": "code",
   "execution_count": null,
   "metadata": {
    "collapsed": false
   },
   "outputs": [],
   "source": [
    "response = vpc_client.describe_subnets(\n",
    "    Filters=[\n",
    "        {\n",
    "            'Name':'vpc-id',\n",
    "            'Values': [\n",
    "                def_vpc\n",
    "            ]\n",
    "        }\n",
    "    ]\n",
    ")\n",
    "\n",
    "print response\n",
    "\n",
    "subnets = response['Subnets']\n",
    "\n",
    "subnet_ids = []\n",
    "\n",
    "for sn in subnets:\n",
    "    subnet_ids.append(sn['SubnetId'])\n",
    "    \n",
    "print subnet_ids\n",
    "\n",
    "subnet_list = \",\".join(subnet_ids)\n",
    "print subnet_list"
   ]
  },
  {
   "cell_type": "markdown",
   "metadata": {
    "collapsed": true
   },
   "source": [
    "## Create a Launch Config"
   ]
  },
  {
   "cell_type": "code",
   "execution_count": null,
   "metadata": {
    "collapsed": true
   },
   "outputs": [],
   "source": [
    "\n",
    "client = boto3.client('ec2')"
   ]
  },
  {
   "cell_type": "code",
   "execution_count": null,
   "metadata": {
    "collapsed": false
   },
   "outputs": [],
   "source": [
    "my_session = boto3.session.Session()\n",
    "my_region = my_session.region_name\n",
    "print my_region"
   ]
  },
  {
   "cell_type": "code",
   "execution_count": null,
   "metadata": {
    "collapsed": false
   },
   "outputs": [],
   "source": [
    "# AMIs are unique per region. Here we will look up our AMI based on our region\n",
    "amis = {}\n",
    "amis['us-east-1'] = 'ami-0b33d91d'\n",
    "amis['us-east-2'] = 'ami-446f3521'\n",
    "amis['us-west-1'] = 'ami-9fadf8ff'\n",
    "amis['us-west-2'] = 'ami-7abc111a'\n",
    "amis['eu-west-1'] = 'ami-a1491ad2'\n",
    "amis['ca-central-1'] = 'ami-ebed508f'\n",
    "\n",
    "ami_id = amis[my_region]\n",
    "print ami_id"
   ]
  },
  {
   "cell_type": "code",
   "execution_count": null,
   "metadata": {
    "collapsed": true
   },
   "outputs": [],
   "source": [
    "as_client = boto3.client('autoscaling')"
   ]
  },
  {
   "cell_type": "code",
   "execution_count": null,
   "metadata": {
    "collapsed": false
   },
   "outputs": [],
   "source": [
    "response = as_client.create_launch_configuration(\n",
    "    LaunchConfigurationName='MyLaunchConfig',\n",
    "    ImageId=ami_id,\n",
    "    InstanceType='t2.micro'\n",
    ")\n",
    "\n",
    "print response"
   ]
  },
  {
   "cell_type": "code",
   "execution_count": null,
   "metadata": {
    "collapsed": false
   },
   "outputs": [],
   "source": [
    "response = as_client.describe_launch_configurations(\n",
    "    LaunchConfigurationNames=[\n",
    "        'MyLaunchConfig',\n",
    "    ]\n",
    ")\n",
    "\n",
    "print response"
   ]
  },
  {
   "cell_type": "code",
   "execution_count": null,
   "metadata": {
    "collapsed": true
   },
   "outputs": [],
   "source": [
    "ec2_client = boto3.client('ec2')"
   ]
  },
  {
   "cell_type": "code",
   "execution_count": null,
   "metadata": {
    "collapsed": false
   },
   "outputs": [],
   "source": [
    "#\n",
    "# TODO - modify this to create the instances in a VPC by using the \n",
    "# vpc subnets above in the asg instead of availability zone\n",
    "# attr is VPCZoneIdentifier and the value is a comma separated list\n",
    "# of subnet identifiers\n",
    "#\n",
    "\n",
    "response = ec2_client.describe_availability_zones()\n",
    "\n",
    "zone_descriptions = response['AvailabilityZones']\n",
    "print zone_descriptions\n",
    "\n",
    "zones = []\n",
    "for zd in zone_descriptions:\n",
    "    zones.append(zd['ZoneName'])\n",
    "    \n",
    "print zones"
   ]
  },
  {
   "cell_type": "markdown",
   "metadata": {},
   "source": [
    "## Create an AutoScaling Group"
   ]
  },
  {
   "cell_type": "code",
   "execution_count": null,
   "metadata": {
    "collapsed": false
   },
   "outputs": [],
   "source": [
    "response = as_client.create_auto_scaling_group(\n",
    "    AutoScalingGroupName='MyASG',\n",
    "    LaunchConfigurationName='MyLaunchConfig',\n",
    "    DesiredCapacity=1,\n",
    "    MinSize=1,\n",
    "    MaxSize=2,\n",
    "    VPCZoneIdentifier=subnet_list\n",
    "    )\n",
    "\n",
    "print response"
   ]
  },
  {
   "cell_type": "code",
   "execution_count": null,
   "metadata": {
    "collapsed": false
   },
   "outputs": [],
   "source": [
    "response = as_client.describe_auto_scaling_groups(\n",
    "    AutoScalingGroupNames=[\n",
    "        'MyASG',\n",
    "    ]\n",
    "    )\n",
    "\n",
    "print response"
   ]
  },
  {
   "cell_type": "markdown",
   "metadata": {
    "collapsed": true
   },
   "source": [
    "## Clean up"
   ]
  },
  {
   "cell_type": "code",
   "execution_count": null,
   "metadata": {
    "collapsed": false
   },
   "outputs": [],
   "source": [
    "response = as_client.delete_auto_scaling_group(\n",
    "    AutoScalingGroupName='MyASG',\n",
    "    ForceDelete=True\n",
    ")\n",
    "\n",
    "print response"
   ]
  },
  {
   "cell_type": "code",
   "execution_count": null,
   "metadata": {
    "collapsed": false
   },
   "outputs": [],
   "source": [
    "response = as_client.delete_launch_configuration(\n",
    "    LaunchConfigurationName='MyLaunchConfig'\n",
    ")\n",
    "\n",
    "print response"
   ]
  },
  {
   "cell_type": "code",
   "execution_count": null,
   "metadata": {
    "collapsed": true
   },
   "outputs": [],
   "source": []
  }
 ],
 "metadata": {
  "kernelspec": {
   "display_name": "Python 2",
   "language": "python",
   "name": "python2"
  },
  "language_info": {
   "codemirror_mode": {
    "name": "ipython",
    "version": 2
   },
   "file_extension": ".py",
   "mimetype": "text/x-python",
   "name": "python",
   "nbconvert_exporter": "python",
   "pygments_lexer": "ipython2",
   "version": "2.7.12"
  }
 },
 "nbformat": 4,
 "nbformat_minor": 0
}
