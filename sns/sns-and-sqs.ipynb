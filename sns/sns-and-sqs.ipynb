{
 "cells": [
  {
   "cell_type": "code",
   "execution_count": null,
   "metadata": {},
   "outputs": [],
   "source": [
    "import boto3\n",
    "\n",
    "sns = boto3.client('sns')\n",
    "sqs = boto3.client('sqs')"
   ]
  },
  {
   "cell_type": "code",
   "execution_count": null,
   "metadata": {},
   "outputs": [],
   "source": [
    "import os\n",
    "account_no = os.environ['ACCOUNT_NO']"
   ]
  },
  {
   "cell_type": "code",
   "execution_count": null,
   "metadata": {},
   "outputs": [],
   "source": [
    "ct = sns.create_topic(\n",
    "    Name='topicOne'\n",
    ")\n",
    "print(ct)\n",
    "topic_arn1 = ct['TopicArn']"
   ]
  },
  {
   "cell_type": "code",
   "execution_count": null,
   "metadata": {},
   "outputs": [],
   "source": [
    "ct = sns.create_topic(\n",
    "    Name='topicTwo'\n",
    ")\n",
    "print(ct)\n",
    "topic_arn2 = ct['TopicArn']"
   ]
  },
  {
   "cell_type": "code",
   "execution_count": null,
   "metadata": {},
   "outputs": [],
   "source": [
    "cq = sqs.create_queue(\n",
    "    QueueName='sampleQueue'\n",
    ")\n",
    "print(cq)\n",
    "queue_url = cq['QueueUrl']\n",
    "queue_arn = 'arn:aws:sqs:us-east-1:' + account_no + ':sampleQueue'"
   ]
  },
  {
   "cell_type": "code",
   "execution_count": null,
   "metadata": {},
   "outputs": [],
   "source": [
    "sns.subscribe(\n",
    "    TopicArn=topic_arn1,\n",
    "    Protocol='sqs',\n",
    "    Endpoint=queue_arn\n",
    ")"
   ]
  },
  {
   "cell_type": "code",
   "execution_count": null,
   "metadata": {},
   "outputs": [],
   "source": [
    "sns.subscribe(\n",
    "    TopicArn=topic_arn2,\n",
    "    Protocol='sqs',\n",
    "    Endpoint=queue_arn\n",
    ")"
   ]
  },
  {
   "cell_type": "code",
   "execution_count": null,
   "metadata": {},
   "outputs": [],
   "source": [
    "def allow_sns_to_write_to_sqs(topicarn, queuearn):\n",
    "    policy_document = \"\"\"{{\n",
    "  \"Version\":\"2012-10-17\",\n",
    "  \"Statement\":[\n",
    "    {{\n",
    "      \"Sid\":\"MyPolicy\",\n",
    "      \"Effect\":\"Allow\",\n",
    "      \"Principal\" : {{\"AWS\" : \"*\"}},\n",
    "      \"Action\":\"SQS:SendMessage\",\n",
    "      \"Resource\": \"{}\",\n",
    "      \"Condition\":{{\n",
    "        \"ArnLike\":{{\n",
    "          \"aws:SourceArn\": \"{}\"\n",
    "        }}\n",
    "      }}\n",
    "    }}\n",
    "  ]\n",
    "}}\"\"\".format(queuearn, topicarn)\n",
    "\n",
    "    return policy_document"
   ]
  },
  {
   "cell_type": "code",
   "execution_count": null,
   "metadata": {},
   "outputs": [],
   "source": [
    "#policy_json = allow_sns_to_write_to_sqs(topic_arn1, queue_arn)\n",
    "policy_json = allow_sns_to_write_to_sqs('arn:aws:sns:us-east-1:' + account_no + ':*', queue_arn)\n",
    "\n",
    "response = sqs.set_queue_attributes(\n",
    "    QueueUrl = queue_url,\n",
    "    Attributes = {\n",
    "        'Policy' : policy_json\n",
    "    }\n",
    ")\n",
    "print(response)"
   ]
  },
  {
   "cell_type": "code",
   "execution_count": null,
   "metadata": {},
   "outputs": [],
   "source": [
    "sns.publish(\n",
    "    TopicArn='arn:aws:sns:us-east-1:' + account_no + ':topicOne',\n",
    "    Message='TOPIC ONE ONE ONE ONE ONE ONE ONE'\n",
    ")"
   ]
  },
  {
   "cell_type": "code",
   "execution_count": null,
   "metadata": {},
   "outputs": [],
   "source": [
    "sns.publish(\n",
    "    TopicArn='arn:aws:sns:us-east-1:' + account_no + ':topicTwo',\n",
    "    Message='TOPIC TWO TOPIC TWO'\n",
    ")"
   ]
  },
  {
   "cell_type": "code",
   "execution_count": null,
   "metadata": {},
   "outputs": [],
   "source": [
    "qurl = 'https://queue.amazonaws.com/' + account_no + '/sampleQueue'\n",
    "rr = sqs.receive_message(\n",
    "    QueueUrl=qurl\n",
    ")\n",
    "print(rr)"
   ]
  },
  {
   "cell_type": "code",
   "execution_count": null,
   "metadata": {},
   "outputs": [],
   "source": [
    "msg = rr['Messages'][0]\n",
    "rhandle = msg['ReceiptHandle']\n",
    "\n",
    "dm = sqs.delete_message(\n",
    "    QueueUrl=qurl,\n",
    "    ReceiptHandle=rhandle\n",
    ")\n",
    "\n",
    "print(dm)"
   ]
  },
  {
   "cell_type": "code",
   "execution_count": null,
   "metadata": {},
   "outputs": [],
   "source": [
    "sqs.delete_queue(\n",
    "    QueueUrl='https://queue.amazonaws.com/' + account_no + '/sampleQueue'\n",
    ")"
   ]
  },
  {
   "cell_type": "code",
   "execution_count": null,
   "metadata": {},
   "outputs": [],
   "source": [
    "sns.delete_topic(\n",
    "    TopicArn='arn:aws:sns:us-east-1:' + account_no + ':topicOne'\n",
    ")"
   ]
  },
  {
   "cell_type": "code",
   "execution_count": null,
   "metadata": {},
   "outputs": [],
   "source": []
  }
 ],
 "metadata": {
  "kernelspec": {
   "display_name": "Python 3",
   "language": "python",
   "name": "python3"
  },
  "language_info": {
   "codemirror_mode": {
    "name": "ipython",
    "version": 3
   },
   "file_extension": ".py",
   "mimetype": "text/x-python",
   "name": "python",
   "nbconvert_exporter": "python",
   "pygments_lexer": "ipython3",
   "version": "3.6.5"
  }
 },
 "nbformat": 4,
 "nbformat_minor": 2
}
