{
 "cells": [
  {
   "cell_type": "code",
   "execution_count": null,
   "metadata": {
    "collapsed": false
   },
   "outputs": [],
   "source": [
    "import boto3\n",
    "\n",
    "r53_client = boto3.client('route53', region_name='us-west-1')"
   ]
  },
  {
   "cell_type": "code",
   "execution_count": null,
   "metadata": {
    "collapsed": false
   },
   "outputs": [],
   "source": [
    "# Get all the hosted zones\n",
    "response = r53_client.list_hosted_zones()\n",
    "hosted_zones = response['HostedZones']\n",
    "print hosted_zones"
   ]
  },
  {
   "cell_type": "code",
   "execution_count": null,
   "metadata": {
    "collapsed": false
   },
   "outputs": [],
   "source": [
    "# Extract the hosted zone for a specific domain\n",
    "dev_center = [hz for hz in hosted_zones if hz['Name'] == 'xtdevcentre.net.'][0]\n",
    "print dev_center"
   ]
  },
  {
   "cell_type": "code",
   "execution_count": null,
   "metadata": {
    "collapsed": false
   },
   "outputs": [],
   "source": [
    "# List the record sets for a hosted zone\n",
    "response = r53_client.list_resource_record_sets(\n",
    "    HostedZoneId=dev_center['Id']\n",
    ")\n",
    "\n",
    "print response"
   ]
  },
  {
   "cell_type": "code",
   "execution_count": null,
   "metadata": {
    "collapsed": false
   },
   "outputs": [],
   "source": [
    "# Look at the records sets in the hosted zone - you should see an NS record, and SOA record, and an Alias per\n",
    "# specific subdomain assuming you've been creating aliases for subdomains, for example at the load balancer level.\n",
    "\n",
    "for rr in response['ResourceRecordSets']:\n",
    "    print rr\n",
    "\n"
   ]
  },
  {
   "cell_type": "code",
   "execution_count": null,
   "metadata": {
    "collapsed": false
   },
   "outputs": [],
   "source": [
    "elbv2_client = boto3.client('elbv2', region_name='us-west-1')\n",
    "response = elbv2_client.describe_load_balancers()\n",
    "print response"
   ]
  },
  {
   "cell_type": "code",
   "execution_count": null,
   "metadata": {
    "collapsed": false
   },
   "outputs": [],
   "source": [
    "arn = response['LoadBalancers'][0]['LoadBalancerArn']\n",
    "print arn"
   ]
  },
  {
   "cell_type": "code",
   "execution_count": null,
   "metadata": {
    "collapsed": false
   },
   "outputs": [],
   "source": [
    "response = elbv2_client.describe_load_balancer_attributes(\n",
    "    LoadBalancerArn=arn\n",
    ")\n",
    "\n",
    "print response"
   ]
  },
  {
   "cell_type": "markdown",
   "metadata": {
    "collapsed": true
   },
   "source": [
    "## Route 53 Health Check - API Gateway Endpoint\n",
    "\n"
   ]
  },
  {
   "cell_type": "code",
   "execution_count": null,
   "metadata": {
    "collapsed": false
   },
   "outputs": [],
   "source": [
    "#https://y3eeprh0j9.execute-api.us-east-1.amazonaws.com/hc1/todos/health\n",
    "import boto3\n",
    "import uuid\n",
    "\n",
    "client = boto3.client('route53')\n",
    "\n",
    "\n",
    "response = client.create_health_check(\n",
    "    \n",
    "    CallerReference=str(uuid.uuid4()),\n",
    "    HealthCheckConfig={\n",
    "        'Type':'HTTPS',\n",
    "        'ResourcePath':'/hc1/todos/health',\n",
    "        'FullyQualifiedDomainName':'y3eeprh0j9.execute-api.us-east-1.amazonaws.com'\n",
    "    }\n",
    ")\n",
    "\n",
    "print response\n",
    "        "
   ]
  },
  {
   "cell_type": "code",
   "execution_count": null,
   "metadata": {
    "collapsed": false
   },
   "outputs": [],
   "source": [
    "hc_id = response['HealthCheck']['Id']"
   ]
  },
  {
   "cell_type": "code",
   "execution_count": null,
   "metadata": {
    "collapsed": false
   },
   "outputs": [],
   "source": [
    "tag_resp = client.change_tags_for_resource(\n",
    "    ResourceType='healthcheck',\n",
    "    ResourceId=hc_id,\n",
    "    AddTags=[\n",
    "        {\n",
    "            'Key':'Name',\n",
    "            'Value':'SampleHC'\n",
    "        },\n",
    "    ]\n",
    ")\n",
    "\n",
    "print tag_resp"
   ]
  },
  {
   "cell_type": "code",
   "execution_count": null,
   "metadata": {
    "collapsed": true
   },
   "outputs": [],
   "source": []
  },
  {
   "cell_type": "code",
   "execution_count": null,
   "metadata": {
    "collapsed": true
   },
   "outputs": [],
   "source": [
    "response = client.delete_health_check(\n",
    "    HealthCheckId=hc_id\n",
    ")"
   ]
  },
  {
   "cell_type": "code",
   "execution_count": null,
   "metadata": {
    "collapsed": false
   },
   "outputs": [],
   "source": [
    "print response"
   ]
  },
  {
   "cell_type": "code",
   "execution_count": null,
   "metadata": {
    "collapsed": true
   },
   "outputs": [],
   "source": []
  }
 ],
 "metadata": {
  "kernelspec": {
   "display_name": "Python 2",
   "language": "python",
   "name": "python2"
  },
  "language_info": {
   "codemirror_mode": {
    "name": "ipython",
    "version": 2
   },
   "file_extension": ".py",
   "mimetype": "text/x-python",
   "name": "python",
   "nbconvert_exporter": "python",
   "pygments_lexer": "ipython2",
   "version": "2.7.12"
  }
 },
 "nbformat": 4,
 "nbformat_minor": 0
}
