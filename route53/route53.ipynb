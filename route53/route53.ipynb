{
 "cells": [
  {
   "cell_type": "code",
   "execution_count": null,
   "metadata": {
    "collapsed": false
   },
   "outputs": [],
   "source": [
    "import boto3\n",
    "\n",
    "r53_client = boto3.client('route53', region_name='us-west-1')"
   ]
  },
  {
   "cell_type": "code",
   "execution_count": null,
   "metadata": {
    "collapsed": false
   },
   "outputs": [],
   "source": [
    "# Get all the hosted zones\n",
    "response = r53_client.list_hosted_zones()\n",
    "hosted_zones = response['HostedZones']\n",
    "print hosted_zones"
   ]
  },
  {
   "cell_type": "code",
   "execution_count": null,
   "metadata": {
    "collapsed": false
   },
   "outputs": [],
   "source": [
    "# Extract the hosted zone for a specific domain\n",
    "dev_center = [hz for hz in hosted_zones if hz['Name'] == 'xtdevcentre.net.'][0]\n",
    "print dev_center"
   ]
  },
  {
   "cell_type": "code",
   "execution_count": null,
   "metadata": {
    "collapsed": false
   },
   "outputs": [],
   "source": [
    "# List the record sets for a hosted zone\n",
    "response = r53_client.list_resource_record_sets(\n",
    "    HostedZoneId=dev_center['Id']\n",
    ")\n",
    "\n",
    "print response"
   ]
  },
  {
   "cell_type": "code",
   "execution_count": null,
   "metadata": {
    "collapsed": false
   },
   "outputs": [],
   "source": [
    "# Look at the records sets in the hosted zone - you should see an NS record, and SOA record, and an Alias per\n",
    "# specific subdomain assuming you've been creating aliases for subdomains, for example at the load balancer level.\n",
    "\n",
    "for rr in response['ResourceRecordSets']:\n",
    "    print rr\n",
    "\n"
   ]
  },
  {
   "cell_type": "code",
   "execution_count": null,
   "metadata": {
    "collapsed": false
   },
   "outputs": [],
   "source": [
    "elbv2_client = boto3.client('elbv2', region_name='us-west-1')\n",
    "response = elbv2_client.describe_load_balancers()\n",
    "print response"
   ]
  },
  {
   "cell_type": "code",
   "execution_count": null,
   "metadata": {
    "collapsed": false
   },
   "outputs": [],
   "source": [
    "arn = response['LoadBalancers'][0]['LoadBalancerArn']\n",
    "print arn"
   ]
  },
  {
   "cell_type": "code",
   "execution_count": null,
   "metadata": {
    "collapsed": false
   },
   "outputs": [],
   "source": [
    "response = elbv2_client.describe_load_balancer_attributes(\n",
    "    LoadBalancerArn=arn\n",
    ")\n",
    "\n",
    "print response"
   ]
  },
  {
   "cell_type": "code",
   "execution_count": null,
   "metadata": {
    "collapsed": true
   },
   "outputs": [],
   "source": []
  }
 ],
 "metadata": {
  "kernelspec": {
   "display_name": "Python 2",
   "language": "python",
   "name": "python2"
  },
  "language_info": {
   "codemirror_mode": {
    "name": "ipython",
    "version": 2
   },
   "file_extension": ".py",
   "mimetype": "text/x-python",
   "name": "python",
   "nbconvert_exporter": "python",
   "pygments_lexer": "ipython2",
   "version": "2.7.12"
  }
 },
 "nbformat": 4,
 "nbformat_minor": 0
}
