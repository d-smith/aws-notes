{
 "cells": [
  {
   "cell_type": "code",
   "execution_count": null,
   "metadata": {
    "collapsed": true
   },
   "outputs": [],
   "source": [
    "import boto3\n",
    "\n"
   ]
  },
  {
   "cell_type": "code",
   "execution_count": null,
   "metadata": {
    "collapsed": false
   },
   "outputs": [],
   "source": [
    "client = boto3.client('rds',region_name='us-west-2')\n",
    "\n",
    "response = client.describe_db_instances()\n",
    "\n",
    "id = 'xxx'\n",
    "instances = response['DBInstances']\n",
    "for i in instances:\n",
    "    if i['DBName'] == 'DSDB':\n",
    "        id = i['DBInstanceIdentifier']\n",
    "        break\n",
    "\n",
    "print id"
   ]
  },
  {
   "cell_type": "code",
   "execution_count": null,
   "metadata": {
    "collapsed": false
   },
   "outputs": [],
   "source": [
    "\n",
    "\n",
    "response = client.describe_db_snapshots(\n",
    "     DBInstanceIdentifier=id\n",
    ")\n",
    "\n",
    "snapshots = response['DBSnapshots']\n",
    "for s in snapshots:\n",
    "    print s['DBSnapshotIdentifier']"
   ]
  },
  {
   "cell_type": "code",
   "execution_count": null,
   "metadata": {
    "collapsed": false
   },
   "outputs": [],
   "source": [
    "eastClient = boto3.client('rds',region_name='us-east-1')\n",
    "response = eastClient.describe_db_snapshots(\n",
    "     DBInstanceIdentifier=id\n",
    ")\n",
    "\n",
    "snapshots = response['DBSnapshots']\n",
    "for s in snapshots:\n",
    "    print s['DBSnapshotIdentifier']"
   ]
  },
  {
   "cell_type": "code",
   "execution_count": null,
   "metadata": {
    "collapsed": true
   },
   "outputs": [],
   "source": []
  }
 ],
 "metadata": {
  "kernelspec": {
   "display_name": "Python 2",
   "language": "python",
   "name": "python2"
  },
  "language_info": {
   "codemirror_mode": {
    "name": "ipython",
    "version": 2
   },
   "file_extension": ".py",
   "mimetype": "text/x-python",
   "name": "python",
   "nbconvert_exporter": "python",
   "pygments_lexer": "ipython2",
   "version": "2.7.12"
  }
 },
 "nbformat": 4,
 "nbformat_minor": 0
}
