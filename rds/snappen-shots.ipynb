{
 "cells": [
  {
   "cell_type": "code",
   "execution_count": null,
   "metadata": {
    "collapsed": true
   },
   "outputs": [],
   "source": [
    "import boto3"
   ]
  },
  {
   "cell_type": "code",
   "execution_count": null,
   "metadata": {
    "collapsed": false
   },
   "outputs": [],
   "source": [
    "## Can we find the 'droids we're looking for?\n",
    "def get_id_for_db(client,name):\n",
    "    id = 'not-found'\n",
    "    response = client.describe_db_instances()\n",
    "    instances = response['DBInstances']\n",
    "    for i in instances:\n",
    "        if i['DBName'] == name.upper():\n",
    "            id = i['DBInstanceIdentifier']\n",
    "            break\n",
    "\n",
    "    if id == 'not-found':\n",
    "        raise ValueError('Database ' + db_name + ' not found in region ' + source_region)\n",
    "    else:\n",
    "        return id"
   ]
  },
  {
   "cell_type": "code",
   "execution_count": null,
   "metadata": {
    "collapsed": false
   },
   "outputs": [],
   "source": [
    "def get_source_snapshots(client,dbid):\n",
    "    response = client.describe_db_snapshots(\n",
    "         DBInstanceIdentifier=dbid\n",
    "    )\n",
    "\n",
    "    source_snapshots = []\n",
    "    snapshots = response['DBSnapshots']\n",
    "    for s in snapshots:\n",
    "        if s['Status'] != 'available':\n",
    "            continue\n",
    "        source = {}\n",
    "        source['id'] = s['DBSnapshotIdentifier']\n",
    "        source['arn'] = s['DBSnapshotArn']\n",
    "        source['state'] = s['Status']\n",
    "        source_snapshots.append(source)\n",
    "\n",
    "    return source_snapshots\n",
    "\n"
   ]
  },
  {
   "cell_type": "code",
   "execution_count": null,
   "metadata": {
    "collapsed": false
   },
   "outputs": [],
   "source": [
    "def get_dest_snapshots(client,dbid):\n",
    "    response = client.describe_db_snapshots(\n",
    "         DBInstanceIdentifier=dbid\n",
    "    )\n",
    "\n",
    "    dest_snapshots = []\n",
    "    snapshots = response['DBSnapshots']\n",
    "    for s in snapshots:\n",
    "        dest_snapshots.append(s['DBSnapshotIdentifier'])\n",
    "\n",
    "    return dest_snapshots\n",
    "\n"
   ]
  },
  {
   "cell_type": "code",
   "execution_count": null,
   "metadata": {
    "collapsed": false
   },
   "outputs": [],
   "source": [
    "def get_snaps_to_copy(src_snaps,dest_snaps):\n",
    "    copy = []\n",
    "    for ss in src_snaps:\n",
    "        idMinusRDS = ss['id'].split(':')[1]\n",
    "        if idMinusRDS not in dest_snaps:\n",
    "            copy.append(ss)\n",
    "            \n",
    "    return copy\n",
    "    \n",
    "\n",
    "\n"
   ]
  },
  {
   "cell_type": "code",
   "execution_count": null,
   "metadata": {
    "collapsed": false
   },
   "outputs": [],
   "source": [
    "targetParts = TargetDBSnapshotIdentifier=source_snapshots[0]['id'].split(':')\n",
    "target = targetParts[1]\n",
    "response = dest_client.copy_db_snapshot(\n",
    "    SourceDBSnapshotIdentifier=source_snapshots[0]['arn'],\n",
    "    TargetDBSnapshotIdentifier=target\n",
    ")\n",
    "\n",
    "print response"
   ]
  },
  {
   "cell_type": "code",
   "execution_count": null,
   "metadata": {
    "collapsed": true
   },
   "outputs": [],
   "source": []
  },
  {
   "cell_type": "code",
   "execution_count": null,
   "metadata": {
    "collapsed": false
   },
   "outputs": [],
   "source": [
    "## Setup\n",
    "\n",
    "import boto3\n",
    "\n",
    "source_region = 'eu-west-1'\n",
    "dest_region = 'us-east-1'\n",
    "db_name = 'dcdb'\n",
    "\n",
    "source_client = boto3.client('rds',region_name=source_region)\n",
    "dest_client = boto3.client('rds',region_name=dest_region)\n",
    "\n",
    "id = get_id_for_db(source_client,db_name)\n",
    "print id\n",
    "\n",
    "snaps = get_source_snapshots(source_client,id)\n",
    "print snaps\n",
    "\n",
    "desc_snapshots = get_dest_snapshots(dest_client, id)\n",
    "print desc_snapshots\n",
    "\n",
    "s2c = get_snaps_to_copy(source_snapshots, dest_snapshots)\n",
    "\n",
    "for s in s2c:\n",
    "    target = s['id'].split(':')[1]\n",
    "    print target"
   ]
  },
  {
   "cell_type": "code",
   "execution_count": null,
   "metadata": {
    "collapsed": false
   },
   "outputs": [],
   "source": [
    "## What about just listing the snapshots in a region?\n",
    "import datetime\n",
    "\n",
    "def get_older_snapshots(rds_client, threshold_hours):\n",
    "    response = rds_client.describe_db_snapshots()\n",
    "    snapshots = response['DBSnapshots']\n",
    "    \n",
    "    available = [s for s in snapshots if s['Status'] == 'available']\n",
    "    \n",
    "    print '**Original***'\n",
    "    for s in available:\n",
    "        print s['DBSnapshotIdentifier'],s['SnapshotCreateTime']\n",
    "        \n",
    "    print '**First 5'\n",
    "    for s in available[:5]:\n",
    "        print s['DBSnapshotIdentifier'],s['SnapshotCreateTime']\n",
    "    \n",
    "    available.sort(key=lambda item:item['SnapshotCreateTime'],reverse=False)\n",
    "    print '**Sorted***'\n",
    "    for s in available:\n",
    "        print s['DBSnapshotIdentifier'],s['SnapshotCreateTime']\n",
    "        \n",
    "    print '**First 5'\n",
    "    for s in available[:5]:\n",
    "        print s['DBSnapshotIdentifier'],s['SnapshotCreateTime']\n",
    "    \n",
    "    #available = [s for s in snapshots if s['Status'] == 'available']\n",
    "    tz_info = available[0]['SnapshotCreateTime'].tzinfo\n",
    "    older = [s for s in available if s['SnapshotCreateTime']< (datetime.datetime.now(tz_info)-datetime.timedelta(hours=threshold_hours))]\n",
    "    return older\n"
   ]
  },
  {
   "cell_type": "code",
   "execution_count": null,
   "metadata": {
    "collapsed": false
   },
   "outputs": [],
   "source": [
    "import boto3\n",
    "rds_client = boto3.client('rds',region_name='us-east-1')\n",
    "older_snapshots = get_older_snapshots(rds_client, 48)\n",
    "for s in older_snapshots:\n",
    "    print 'snapshot {} taken {}'.format(s['DBSnapshotIdentifier'], s['SnapshotCreateTime'])"
   ]
  },
  {
   "cell_type": "code",
   "execution_count": null,
   "metadata": {
    "collapsed": false
   },
   "outputs": [],
   "source": [
    "#Take a snap shop\n",
    "import datetime\n",
    "\n",
    "def timestamp():\n",
    "    return datetime.datetime.utcnow().strftime(\"%Y-%m-%d-%H-%M\")\n",
    "\n",
    "def snapshot_it(rds_client, db_id):\n",
    "    snapshot_id = 'ss-{}-{}'.format(\n",
    "        db_id, str(timestamp())\n",
    "    )\n",
    "    print snapshot_id\n",
    "    \n",
    "    response = rds_client.create_db_snapshot(\n",
    "        DBSnapshotIdentifier=snapshot_id,\n",
    "        DBInstanceIdentifier=db_id\n",
    "    )\n",
    "    \n",
    "    print response\n"
   ]
  },
  {
   "cell_type": "code",
   "execution_count": null,
   "metadata": {
    "collapsed": false
   },
   "outputs": [],
   "source": [
    "import boto3\n",
    "\n",
    "rds_client = boto3.client('rds')\n",
    "snapshot_it(rds_client,'dmbp41pr6lne05')"
   ]
  },
  {
   "cell_type": "code",
   "execution_count": null,
   "metadata": {
    "collapsed": false
   },
   "outputs": [],
   "source": [
    "import datetime\n",
    "datetime.datetime.utcnow().strftime(\"%Y-%m-%d-%H-%M\")\n"
   ]
  },
  {
   "cell_type": "code",
   "execution_count": null,
   "metadata": {
    "collapsed": false
   },
   "outputs": [],
   "source": [
    "ss = 'ss-dmbp41pr6lne05-1492526285777'\n",
    "parts = ss.split(':')\n",
    "if len(parts) == 1:\n",
    "    print ss.split('-')[1]\n",
    "else:\n",
    "    print ss.split(':')[1]\n",
    "    \n",
    "print len(parts)\n",
    "#'ss-dmbp41pr6lne05-1492526285777'.split(':')[1]"
   ]
  },
  {
   "cell_type": "code",
   "execution_count": null,
   "metadata": {
    "collapsed": false
   },
   "outputs": [],
   "source": [
    "# Scratch area\n",
    "\n",
    "import boto3\n",
    "import datetime\n",
    "\n",
    "rds_client = boto3.client('rds', region_name='eu-west-1')\n",
    "response = rds_client.describe_db_snapshots()\n",
    "snapshots = response['DBSnapshots']\n",
    "snapshots = [s for s in snapshots if s['SnapshotType'] == 'manual']\n",
    "available = [s for s in snapshots if s['Status'] == 'available']\n",
    "available.sort(key=lambda item:item['SnapshotCreateTime'])\n",
    "\n",
    "tz_info = available[0]['SnapshotCreateTime'].tzinfo\n",
    "older = [s for s in available if s['SnapshotCreateTime']< (datetime.datetime.now(tz_info)-datetime.timedelta(hours=36))]\n",
    "\n",
    "for ss in available:\n",
    "    print ss['DBSnapshotIdentifier']"
   ]
  },
  {
   "cell_type": "code",
   "execution_count": null,
   "metadata": {
    "collapsed": true
   },
   "outputs": [],
   "source": []
  }
 ],
 "metadata": {
  "kernelspec": {
   "display_name": "Python 2",
   "language": "python",
   "name": "python2"
  },
  "language_info": {
   "codemirror_mode": {
    "name": "ipython",
    "version": 2
   },
   "file_extension": ".py",
   "mimetype": "text/x-python",
   "name": "python",
   "nbconvert_exporter": "python",
   "pygments_lexer": "ipython2",
   "version": "2.7.12"
  }
 },
 "nbformat": 4,
 "nbformat_minor": 0
}
