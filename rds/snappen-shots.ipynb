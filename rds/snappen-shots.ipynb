{
 "cells": [
  {
   "cell_type": "code",
   "execution_count": null,
   "metadata": {
    "collapsed": false
   },
   "outputs": [],
   "source": [
    "## Setup\n",
    "\n",
    "import boto3\n",
    "\n",
    "source_region = 'us-west-2'\n",
    "dest_region = 'us-east-1'\n",
    "db_name = 'dsdb'\n",
    "\n",
    "source_client = boto3.client('rds',region_name=source_region)\n",
    "dest_client = boto3.client('rds',region_name=dest_region)"
   ]
  },
  {
   "cell_type": "code",
   "execution_count": null,
   "metadata": {
    "collapsed": false
   },
   "outputs": [],
   "source": [
    "## Can we find the 'droids we're looking for?\n",
    "id = 'not-found'\n",
    "response = source_client.describe_db_instances()\n",
    "instances = response['DBInstances']\n",
    "for i in instances:\n",
    "    if i['DBName'] == db_name.upper():\n",
    "        id = i['DBInstanceIdentifier']\n",
    "        break\n",
    "\n",
    "if id == 'not-found':\n",
    "    raise ValueError('Database ' + db_name + ' not found in region ' + source_region)\n",
    "else:\n",
    "    print 'db id is ' + id"
   ]
  },
  {
   "cell_type": "code",
   "execution_count": null,
   "metadata": {
    "collapsed": false
   },
   "outputs": [],
   "source": [
    "response = source_client.describe_db_snapshots(\n",
    "     DBInstanceIdentifier=id\n",
    ")\n",
    "\n",
    "source_snapshots = []\n",
    "snapshots = response['DBSnapshots']\n",
    "for s in snapshots:\n",
    "    if s['Status'] != 'available':\n",
    "        continue\n",
    "    source = {}\n",
    "    source['id'] = s['DBSnapshotIdentifier']\n",
    "    source['arn'] = s['DBSnapshotArn']\n",
    "    source['state'] = s['Status']\n",
    "    source_snapshots.append(source)\n",
    "    \n",
    "print source_snapshots\n"
   ]
  },
  {
   "cell_type": "code",
   "execution_count": null,
   "metadata": {
    "collapsed": false
   },
   "outputs": [],
   "source": [
    "response = dest_client.describe_db_snapshots(\n",
    "     DBInstanceIdentifier=id\n",
    ")\n",
    "\n",
    "dest_snapshots = []\n",
    "snapshots = response['DBSnapshots']\n",
    "for s in snapshots:\n",
    "    dest_snapshots.append(s['DBSnapshotIdentifier'])\n",
    "    \n",
    "print dest_snapshots"
   ]
  },
  {
   "cell_type": "code",
   "execution_count": null,
   "metadata": {
    "collapsed": false
   },
   "outputs": [],
   "source": [
    "for ss in source_snapshots:\n",
    "    idMinusRDS = ss['id'].split(':')[1]\n",
    "    if idMinusRDS not in dest_snapshots:\n",
    "        print 'copy', ss"
   ]
  },
  {
   "cell_type": "code",
   "execution_count": null,
   "metadata": {
    "collapsed": false
   },
   "outputs": [],
   "source": [
    "targetParts = TargetDBSnapshotIdentifier=source_snapshots[0]['id'].split(':')\n",
    "target = targetParts[1]\n",
    "response = dest_client.copy_db_snapshot(\n",
    "    SourceDBSnapshotIdentifier=source_snapshots[0]['arn'],\n",
    "    TargetDBSnapshotIdentifier=target\n",
    ")\n",
    "\n",
    "print response"
   ]
  },
  {
   "cell_type": "code",
   "execution_count": null,
   "metadata": {
    "collapsed": true
   },
   "outputs": [],
   "source": []
  }
 ],
 "metadata": {
  "kernelspec": {
   "display_name": "Python 2",
   "language": "python",
   "name": "python2"
  },
  "language_info": {
   "codemirror_mode": {
    "name": "ipython",
    "version": 2
   },
   "file_extension": ".py",
   "mimetype": "text/x-python",
   "name": "python",
   "nbconvert_exporter": "python",
   "pygments_lexer": "ipython2",
   "version": "2.7.12"
  }
 },
 "nbformat": 4,
 "nbformat_minor": 0
}
