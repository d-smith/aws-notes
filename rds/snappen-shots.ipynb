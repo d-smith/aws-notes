{
 "cells": [
  {
   "cell_type": "code",
   "execution_count": null,
   "metadata": {
    "collapsed": true
   },
   "outputs": [],
   "source": [
    "import boto3"
   ]
  },
  {
   "cell_type": "code",
   "execution_count": null,
   "metadata": {
    "collapsed": false
   },
   "outputs": [],
   "source": [
    "## Can we find the 'droids we're looking for?\n",
    "def get_id_for_db(client,name):\n",
    "    id = 'not-found'\n",
    "    response = client.describe_db_instances()\n",
    "    instances = response['DBInstances']\n",
    "    for i in instances:\n",
    "        if i['DBName'] == name.upper():\n",
    "            id = i['DBInstanceIdentifier']\n",
    "            break\n",
    "\n",
    "    if id == 'not-found':\n",
    "        raise ValueError('Database ' + db_name + ' not found in region ' + source_region)\n",
    "    else:\n",
    "        return id"
   ]
  },
  {
   "cell_type": "code",
   "execution_count": null,
   "metadata": {
    "collapsed": false
   },
   "outputs": [],
   "source": [
    "def get_source_snapshots(client,dbid):\n",
    "    response = client.describe_db_snapshots(\n",
    "         DBInstanceIdentifier=dbid\n",
    "    )\n",
    "\n",
    "    source_snapshots = []\n",
    "    snapshots = response['DBSnapshots']\n",
    "    for s in snapshots:\n",
    "        if s['Status'] != 'available':\n",
    "            continue\n",
    "        source = {}\n",
    "        source['id'] = s['DBSnapshotIdentifier']\n",
    "        source['arn'] = s['DBSnapshotArn']\n",
    "        source['state'] = s['Status']\n",
    "        source_snapshots.append(source)\n",
    "\n",
    "    return source_snapshots\n",
    "\n"
   ]
  },
  {
   "cell_type": "code",
   "execution_count": null,
   "metadata": {
    "collapsed": false
   },
   "outputs": [],
   "source": [
    "def get_dest_snapshots(client,dbid):\n",
    "    response = client.describe_db_snapshots(\n",
    "         DBInstanceIdentifier=dbid\n",
    "    )\n",
    "\n",
    "    dest_snapshots = []\n",
    "    snapshots = response['DBSnapshots']\n",
    "    for s in snapshots:\n",
    "        dest_snapshots.append(s['DBSnapshotIdentifier'])\n",
    "\n",
    "    return dest_snapshots\n",
    "\n"
   ]
  },
  {
   "cell_type": "code",
   "execution_count": null,
   "metadata": {
    "collapsed": false
   },
   "outputs": [],
   "source": [
    "def get_snaps_to_copy(src_snaps,dest_snaps):\n",
    "    copy = []\n",
    "    for ss in src_snaps:\n",
    "        idMinusRDS = ss['id'].split(':')[1]\n",
    "        if idMinusRDS not in dest_snaps:\n",
    "            copy.append(ss)\n",
    "            \n",
    "    return copy\n",
    "    \n",
    "\n",
    "\n"
   ]
  },
  {
   "cell_type": "code",
   "execution_count": null,
   "metadata": {
    "collapsed": false
   },
   "outputs": [],
   "source": [
    "targetParts = TargetDBSnapshotIdentifier=source_snapshots[0]['id'].split(':')\n",
    "target = targetParts[1]\n",
    "response = dest_client.copy_db_snapshot(\n",
    "    SourceDBSnapshotIdentifier=source_snapshots[0]['arn'],\n",
    "    TargetDBSnapshotIdentifier=target\n",
    ")\n",
    "\n",
    "print response"
   ]
  },
  {
   "cell_type": "code",
   "execution_count": null,
   "metadata": {
    "collapsed": true
   },
   "outputs": [],
   "source": []
  },
  {
   "cell_type": "code",
   "execution_count": 67,
   "metadata": {
    "collapsed": false
   },
   "outputs": [
    {
     "name": "stdout",
     "output_type": "stream",
     "text": [
      "dm1l1y5i6j2dqai\n",
      "[{'state': 'available', 'id': 'rds:dm1l1y5i6j2dqai-2017-04-05-14-13', 'arn': 'arn:aws:rds:us-west-2:444472610063:snapshot:rds:dm1l1y5i6j2dqai-2017-04-05-14-13'}, {'state': 'available', 'id': 'rds:dm1l1y5i6j2dqai-2017-04-06-06-06', 'arn': 'arn:aws:rds:us-west-2:444472610063:snapshot:rds:dm1l1y5i6j2dqai-2017-04-06-06-06'}]\n",
      "['dm1l1y5i6j2dqai-2017-04-05-14-13']\n",
      "dm1l1y5i6j2dqai-2017-04-06-06-06\n"
     ]
    }
   ],
   "source": [
    "## Setup\n",
    "\n",
    "import boto3\n",
    "\n",
    "source_region = 'us-west-2'\n",
    "dest_region = 'us-east-1'\n",
    "db_name = 'dsdb'\n",
    "\n",
    "source_client = boto3.client('rds',region_name=source_region)\n",
    "dest_client = boto3.client('rds',region_name=dest_region)\n",
    "\n",
    "id = get_id_for_db(source_client,db_name)\n",
    "print id\n",
    "\n",
    "snaps = get_source_snapshots(source_client,id)\n",
    "print snaps\n",
    "\n",
    "desc_snapshots = get_dest_snapshots(dest_client, id)\n",
    "print desc_snapshots\n",
    "\n",
    "s2c = get_snaps_to_copy(source_snapshots, dest_snapshots)\n",
    "\n",
    "for s in s2c:\n",
    "    target = s['id'].split(':')[1]\n",
    "    print target"
   ]
  },
  {
   "cell_type": "code",
   "execution_count": null,
   "metadata": {
    "collapsed": true
   },
   "outputs": [],
   "source": []
  }
 ],
 "metadata": {
  "kernelspec": {
   "display_name": "Python 2",
   "language": "python",
   "name": "python2"
  },
  "language_info": {
   "codemirror_mode": {
    "name": "ipython",
    "version": 2
   },
   "file_extension": ".py",
   "mimetype": "text/x-python",
   "name": "python",
   "nbconvert_exporter": "python",
   "pygments_lexer": "ipython2",
   "version": "2.7.12"
  }
 },
 "nbformat": 4,
 "nbformat_minor": 0
}
