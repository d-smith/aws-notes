{
 "cells": [
  {
   "cell_type": "code",
   "execution_count": null,
   "metadata": {
    "collapsed": true
   },
   "outputs": [],
   "source": [
    "import boto3\n",
    "\n",
    "vpc_client = boto3.client('ec2')"
   ]
  },
  {
   "cell_type": "code",
   "execution_count": null,
   "metadata": {
    "collapsed": false
   },
   "outputs": [],
   "source": [
    "# Note that is you run this in an older account that supports EC2-Classic there might not be \n",
    "# a default VPC\n",
    "response = vpc_client.describe_vpcs()\n",
    "vpcs = response['Vpcs']\n",
    "print vpcs\n",
    "\n",
    "def_vpc = ''\n",
    "for vpc in vpcs:\n",
    "    if vpc['IsDefault'] == True:\n",
    "        def_vpc = vpc['VpcId']\n",
    "        break\n",
    "        \n",
    "print 'default vpc is {}'.format(def_vpc)"
   ]
  },
  {
   "cell_type": "code",
   "execution_count": null,
   "metadata": {
    "collapsed": false
   },
   "outputs": [],
   "source": [
    "response = vpc_client.describe_subnets(\n",
    "    Filters=[\n",
    "        {\n",
    "            'Name':'vpc-id',\n",
    "            'Values': [\n",
    "                def_vpc\n",
    "            ]\n",
    "        }\n",
    "    ]\n",
    ")\n",
    "\n",
    "print response\n",
    "\n",
    "subnets = response['Subnets']\n",
    "\n",
    "azs = []\n",
    "\n",
    "for sn in subnets:\n",
    "    azs.append(sn['AvailabilityZone'])\n",
    "\n",
    "\n",
    "az_list = \",\".join(azs)\n",
    "print az_list"
   ]
  },
  {
   "cell_type": "code",
   "execution_count": null,
   "metadata": {
    "collapsed": true
   },
   "outputs": [],
   "source": [
    "# Things to consider when creating a memcached cluster\n",
    "# a. There is no replication so when a node is lost all the data is lost.\n",
    "#    More nodes in a cluster means less data is lost when a node crashes\n",
    "# b. Spreading nodes across availability zones reduces the amount of data\n",
    "#    lost during an availability zone outage."
   ]
  },
  {
   "cell_type": "code",
   "execution_count": null,
   "metadata": {
    "collapsed": true
   },
   "outputs": [],
   "source": [
    "import boto3\n",
    "\n",
    "client = boto3.client('elasticache')"
   ]
  },
  {
   "cell_type": "code",
   "execution_count": null,
   "metadata": {
    "collapsed": false
   },
   "outputs": [],
   "source": [
    "# Notes - you need at least two nodes for cross-az mode, and if you provide a list of azs as the\n",
    "# PreferredAvailabilityZones arguments, the number of nodes must match the size of the availability\n",
    "# zones list. You can repeat AZs in the availability zone list.\n",
    "response = client.create_cache_cluster(\n",
    "    CacheClusterId='sample-cluster-mcd',\n",
    "    AZMode='cross-az',\n",
    "    NumCacheNodes=2,\n",
    "    PreferredAvailabilityZones=azs[0:2],\n",
    "    CacheNodeType='cache.t2.micro',\n",
    "    Engine='memcached'\n",
    ")\n",
    "\n",
    "print response"
   ]
  },
  {
   "cell_type": "code",
   "execution_count": null,
   "metadata": {
    "collapsed": false
   },
   "outputs": [],
   "source": [
    "desc = client.describe_cache_clusters(\n",
    "    CacheClusterId='sample-cluster-mcd'\n",
    ")\n",
    "\n",
    "print desc"
   ]
  },
  {
   "cell_type": "code",
   "execution_count": null,
   "metadata": {
    "collapsed": false
   },
   "outputs": [],
   "source": [
    "# Delete the cluster\n",
    "response = client.delete_cache_cluster(\n",
    "    CacheClusterId='sample-cluster-mcd'\n",
    ")\n",
    "\n",
    "print response"
   ]
  },
  {
   "cell_type": "code",
   "execution_count": null,
   "metadata": {
    "collapsed": true
   },
   "outputs": [],
   "source": []
  }
 ],
 "metadata": {
  "kernelspec": {
   "display_name": "Python 2",
   "language": "python",
   "name": "python2"
  },
  "language_info": {
   "codemirror_mode": {
    "name": "ipython",
    "version": 2
   },
   "file_extension": ".py",
   "mimetype": "text/x-python",
   "name": "python",
   "nbconvert_exporter": "python",
   "pygments_lexer": "ipython2",
   "version": "2.7.12"
  }
 },
 "nbformat": 4,
 "nbformat_minor": 0
}
