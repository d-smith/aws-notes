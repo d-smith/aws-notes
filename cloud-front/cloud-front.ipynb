{
 "cells": [
  {
   "cell_type": "code",
   "execution_count": null,
   "metadata": {
    "collapsed": true
   },
   "outputs": [],
   "source": [
    "import boto3\n",
    "import random\n",
    "\n",
    "s3client = boto3.client('s3')"
   ]
  },
  {
   "cell_type": "code",
   "execution_count": null,
   "metadata": {
    "collapsed": false
   },
   "outputs": [],
   "source": [
    "# Bucket names are globally unique. Here we'll add a random element to the name to increase the odds of\n",
    "# avoiding a name collision\n",
    "bucket_name = 'ds-aussie-' + str(random.randint(1, 9999999))\n",
    "print bucket_name"
   ]
  },
  {
   "cell_type": "code",
   "execution_count": null,
   "metadata": {
    "collapsed": false
   },
   "outputs": [],
   "source": [
    "response = s3client.create_bucket(\n",
    "    Bucket=bucket_name,\n",
    "    CreateBucketConfiguration={\n",
    "         'LocationConstraint':'ap-southeast-2'\n",
    "    }\n",
    ")\n",
    "\n",
    "print response"
   ]
  },
  {
   "cell_type": "code",
   "execution_count": null,
   "metadata": {
    "collapsed": false
   },
   "outputs": [],
   "source": [
    "# Upload content\n",
    "s3 = boto3.resource('s3')\n",
    "response = s3.meta.client.upload_file('./aws-art.png', bucket_name, 'aws-art.png')\n",
    "print response"
   ]
  },
  {
   "cell_type": "code",
   "execution_count": null,
   "metadata": {
    "collapsed": false
   },
   "outputs": [],
   "source": [
    "# Make the object public readable\n",
    "object_acl = s3.ObjectAcl(bucket_name,'aws-art.png')\n",
    "response = object_acl.put(\n",
    "    ACL='public-read'\n",
    ")\n",
    "\n",
    "print response"
   ]
  },
  {
   "cell_type": "code",
   "execution_count": null,
   "metadata": {
    "collapsed": false
   },
   "outputs": [],
   "source": [
    "# Create the origin access identity we'll use for accessing the s3 bucket via cf\n",
    "cf_client = boto3.client('cloudfront')\n",
    "origin_access_id = cf_client.create_cloud_front_origin_access_identity(\n",
    "    CloudFrontOriginAccessIdentityConfig={\n",
    "        'CallerReference': bucket_name,\n",
    "        'Comment': 'Identity for bucket access via CF'\n",
    "    }\n",
    ")\n",
    "\n",
    "print origin_access_id\n",
    "\n",
    "extracted_origin_access_id = origin_access_id['CloudFrontOriginAccessIdentity']['Id']\n",
    "\n",
    "print extracted_origin_access_id\n"
   ]
  },
  {
   "cell_type": "code",
   "execution_count": null,
   "metadata": {
    "collapsed": false
   },
   "outputs": [],
   "source": [
    "# Create a cloud front web distribution \n",
    "response = cf_client.create_distribution(\n",
    "     DistributionConfig={\n",
    "        'Comment':'For fun and profit',\n",
    "        'Enabled':True,\n",
    "        'CallerReference':bucket_name,\n",
    "        'Origins': {\n",
    "            'Quantity':1,\n",
    "            'Items': [\n",
    "                {\n",
    "                    'Id':'S3-' + bucket_name,\n",
    "                    'DomainName': bucket_name + '.s3.amazonaws.com',\n",
    "                    'S3OriginConfig': {\n",
    "                        'OriginAccessIdentity': 'origin-access-identity/cloudfront/' + extracted_origin_access_id\n",
    "                    }\n",
    "                }\n",
    "            ]\n",
    "        },\n",
    "        'DefaultCacheBehavior': {\n",
    "            'TargetOriginId': 'S3-' + bucket_name,\n",
    "            'ForwardedValues': {\n",
    "                'QueryString': True,\n",
    "                'Cookies': {\n",
    "                    'Forward': 'all'\n",
    "                }\n",
    "            },\n",
    "            'TrustedSigners': {\n",
    "                'Enabled': False,\n",
    "                'Quantity': 0\n",
    "            },\n",
    "            'ViewerProtocolPolicy': 'allow-all',\n",
    "            'MinTTL':86400\n",
    "        }\n",
    "    }\n",
    ")\n",
    "\n",
    "print response"
   ]
  },
  {
   "cell_type": "code",
   "execution_count": null,
   "metadata": {
    "collapsed": false
   },
   "outputs": [],
   "source": [
    "distribution_id = response['Distribution']['Id']\n",
    "print distribution_id\n",
    "\n",
    "response = cf_client.update_distribution(\n",
    "     DistributionConfig={\n",
    "        'Comment':'disable prior to delete',\n",
    "        'DefaultRootObject':'',\n",
    "        'WebACLId':'',\n",
    "        'Aliases': {\n",
    "            'Quantity': 0\n",
    "        },\n",
    "        'PriceClass':'PriceClass_All',\n",
    "        'Enabled':False,\n",
    "        'CallerReference':bucket_name,\n",
    "        'Origins': {\n",
    "            'Quantity':0\n",
    "        },\n",
    "        'DefaultCacheBehavior': {\n",
    "            'TargetOriginId': 'S3-' + bucket_name,\n",
    "            'ForwardedValues': {\n",
    "                'QueryString': True,\n",
    "                'Cookies': {\n",
    "                    'Forward': 'all'\n",
    "                }\n",
    "            },\n",
    "            'TrustedSigners': {\n",
    "                'Enabled': False,\n",
    "                'Quantity': 0\n",
    "            },\n",
    "            'ViewerProtocolPolicy': 'allow-all',\n",
    "            'MinTTL':86400\n",
    "        },\n",
    "        'Logging': {\n",
    "            'Enabled': False,\n",
    "            'IncludeCookies':False,\n",
    "            'Bucket': '',\n",
    "            'Prefix': ''\n",
    "        }\n",
    "    },\n",
    "    \n",
    "    Id=distribution_id,\n",
    "    IfMatch=distribution_id\n",
    "\n",
    ")\n",
    "\n",
    "print response"
   ]
  },
  {
   "cell_type": "code",
   "execution_count": null,
   "metadata": {
    "collapsed": false
   },
   "outputs": [],
   "source": [
    "distribution_id = response['Distribution']['Id']\n",
    "print distribution_id\n",
    "\n",
    "create_etag = response['ETag']\n",
    "\n",
    "config_response = cf_client.get_distribution_config(\n",
    "    Id=distribution_id\n",
    ")\n",
    "\n",
    "config = config_response['DistributionConfig']\n",
    "print config"
   ]
  },
  {
   "cell_type": "code",
   "execution_count": null,
   "metadata": {
    "collapsed": true
   },
   "outputs": [],
   "source": []
  },
  {
   "cell_type": "code",
   "execution_count": null,
   "metadata": {
    "collapsed": false
   },
   "outputs": [],
   "source": [
    "config['Enabled'] = False\n",
    "disable_response = cf_client.update_distribution(\n",
    "    Id=distribution_id,\n",
    "    IfMatch=create_etag,\n",
    "    DistributionConfig=config\n",
    ")\n",
    "\n",
    "print disable_response"
   ]
  },
  {
   "cell_type": "code",
   "execution_count": null,
   "metadata": {
    "collapsed": false
   },
   "outputs": [],
   "source": [
    "disable_etag = disable_response['ETag']\n",
    "print disable_etag\n",
    "\n",
    "delete_response = cf_client.delete_distribution(\n",
    "    Id=distribution_id,\n",
    "    IfMatch=disable_etag\n",
    ")\n",
    "\n",
    "print delete_response"
   ]
  },
  {
   "cell_type": "code",
   "execution_count": null,
   "metadata": {
    "collapsed": false
   },
   "outputs": [],
   "source": [
    "# Delete bucket content\n",
    "response = s3client.delete_object(\n",
    "        Bucket=bucket_name,\n",
    "        Key='aws-art.png'\n",
    ")\n",
    "\n",
    "print response"
   ]
  },
  {
   "cell_type": "code",
   "execution_count": null,
   "metadata": {
    "collapsed": false
   },
   "outputs": [],
   "source": [
    "response = s3client.delete_bucket(\n",
    "    Bucket=bucket_name\n",
    ")\n",
    "\n",
    "print response"
   ]
  },
  {
   "cell_type": "code",
   "execution_count": null,
   "metadata": {
    "collapsed": true
   },
   "outputs": [],
   "source": []
  }
 ],
 "metadata": {
  "kernelspec": {
   "display_name": "Python 2",
   "language": "python",
   "name": "python2"
  },
  "language_info": {
   "codemirror_mode": {
    "name": "ipython",
    "version": 2
   },
   "file_extension": ".py",
   "mimetype": "text/x-python",
   "name": "python",
   "nbconvert_exporter": "python",
   "pygments_lexer": "ipython2",
   "version": "2.7.12"
  }
 },
 "nbformat": 4,
 "nbformat_minor": 0
}
