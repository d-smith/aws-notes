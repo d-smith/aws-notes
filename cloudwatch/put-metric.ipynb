{
 "cells": [
  {
   "cell_type": "code",
   "execution_count": null,
   "metadata": {
    "collapsed": false
   },
   "outputs": [],
   "source": [
    "import boto3\n",
    "from datetime import datetime, timedelta\n",
    "\n",
    "cw = boto3.client('cloudwatch')"
   ]
  },
  {
   "cell_type": "code",
   "execution_count": null,
   "metadata": {
    "collapsed": true
   },
   "outputs": [],
   "source": [
    "table = 'foo'\n",
    "name = 'ReplicatedInsertCount'"
   ]
  },
  {
   "cell_type": "code",
   "execution_count": null,
   "metadata": {
    "collapsed": false
   },
   "outputs": [],
   "source": [
    "for i in range(0,10):\n",
    "    response = cw.put_metric_data(\n",
    "            Namespace='xtrepl',\n",
    "            MetricData=[\n",
    "                {\n",
    "                    'MetricName': name,\n",
    "                    'Dimensions': [\n",
    "                        {\n",
    "                            'Name':'table',\n",
    "                            'Value': table\n",
    "                        }\n",
    "                    ],\n",
    "                    'Timestamp' : datetime.utcnow(),\n",
    "                    'Value':1.0,\n",
    "                    'Unit': 'Count'\n",
    "                }\n",
    "            ]\n",
    "        )\n",
    "\n",
    "    print response"
   ]
  },
  {
   "cell_type": "code",
   "execution_count": null,
   "metadata": {
    "collapsed": false
   },
   "outputs": [],
   "source": [
    "\n",
    "now = datetime.utcnow()\n",
    "print now\n",
    "rounded = now - timedelta(minutes=now.minute % 5 + 5,\n",
    "                          seconds=now.second,\n",
    "                          microseconds=now.microsecond)\n",
    "print rounded"
   ]
  },
  {
   "cell_type": "code",
   "execution_count": null,
   "metadata": {
    "collapsed": false
   },
   "outputs": [],
   "source": [
    "response = cw.get_metric_statistics(\n",
    "    Namespace='xtrepl',\n",
    "    MetricName=name,\n",
    "    Dimensions=[\n",
    "        {\n",
    "             'Name':'table',\n",
    "             'Value': table\n",
    "        },\n",
    "    ],\n",
    "    StartTime=rounded,\n",
    "    EndTime=datetime.utcnow(),\n",
    "    Statistics=[\n",
    "        'Sum',\n",
    "    ],\n",
    "    Unit='Count',\n",
    "    Period=60\n",
    ")\n",
    "\n",
    "print response"
   ]
  },
  {
   "cell_type": "code",
   "execution_count": null,
   "metadata": {
    "collapsed": true
   },
   "outputs": [],
   "source": []
  }
 ],
 "metadata": {
  "kernelspec": {
   "display_name": "Python 2",
   "language": "python",
   "name": "python2"
  },
  "language_info": {
   "codemirror_mode": {
    "name": "ipython",
    "version": 2
   },
   "file_extension": ".py",
   "mimetype": "text/x-python",
   "name": "python",
   "nbconvert_exporter": "python",
   "pygments_lexer": "ipython2",
   "version": "2.7.12"
  }
 },
 "nbformat": 4,
 "nbformat_minor": 0
}
