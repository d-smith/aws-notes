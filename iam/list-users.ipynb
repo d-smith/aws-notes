{
 "cells": [
  {
   "cell_type": "code",
   "execution_count": null,
   "metadata": {
    "collapsed": false
   },
   "outputs": [],
   "source": [
    "# Initialize the client\n",
    "import boto3\n",
    "client = boto3.client('iam')"
   ]
  },
  {
   "cell_type": "code",
   "execution_count": null,
   "metadata": {
    "collapsed": false
   },
   "outputs": [],
   "source": [
    "# What users do I have now?\n",
    "response = client.list_users()\n",
    "\n",
    "users = response['Users']\n",
    "\n",
    "for u in users:\n",
    "    if 'PasswordLastUsed' in u:\n",
    "        print 'user: {}, password last used {}'.format(u['UserName'],u['PasswordLastUsed'])\n",
    "    else:\n",
    "        print 'user: {}'.format(u['UserName'])"
   ]
  },
  {
   "cell_type": "code",
   "execution_count": null,
   "metadata": {
    "collapsed": true
   },
   "outputs": [],
   "source": []
  }
 ],
 "metadata": {
  "kernelspec": {
   "display_name": "Python 2",
   "language": "python",
   "name": "python2"
  },
  "language_info": {
   "codemirror_mode": {
    "name": "ipython",
    "version": 2
   },
   "file_extension": ".py",
   "mimetype": "text/x-python",
   "name": "python",
   "nbconvert_exporter": "python",
   "pygments_lexer": "ipython2",
   "version": "2.7.12"
  }
 },
 "nbformat": 4,
 "nbformat_minor": 0
}
