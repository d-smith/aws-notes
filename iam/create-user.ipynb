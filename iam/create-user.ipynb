{
 "cells": [
  {
   "cell_type": "code",
   "execution_count": null,
   "metadata": {
    "collapsed": true
   },
   "outputs": [],
   "source": [
    "# Initialize the client\n",
    "import boto3\n",
    "client = boto3.client('iam')"
   ]
  },
  {
   "cell_type": "code",
   "execution_count": null,
   "metadata": {
    "collapsed": false
   },
   "outputs": [],
   "source": [
    "# What users do I have now?\n",
    "response = client.list_users()\n",
    "\n",
    "users = response['Users']\n",
    "\n",
    "for u in users:\n",
    "    print u['UserName']"
   ]
  },
  {
   "cell_type": "code",
   "execution_count": null,
   "metadata": {
    "collapsed": true
   },
   "outputs": [],
   "source": [
    "# Create a new user, no priveleges, no console access or password, programmatic credentials\n",
    "user_name = 'new-user'"
   ]
  },
  {
   "cell_type": "code",
   "execution_count": null,
   "metadata": {
    "collapsed": false
   },
   "outputs": [],
   "source": [
    "response = client.create_user(\n",
    "    UserName=user_name\n",
    ")\n",
    "\n",
    "print response"
   ]
  },
  {
   "cell_type": "code",
   "execution_count": null,
   "metadata": {
    "collapsed": false
   },
   "outputs": [],
   "source": [
    "# Create credentials for programmatic access\n",
    "response = client.create_access_key(\n",
    "    UserName=user_name\n",
    ")\n",
    "\n",
    "print response\n",
    "\n",
    "access_key = response['AccessKey']\n",
    "access_key_id = access_key['AccessKeyId']\n",
    "secret_access_key = access_key['SecretAccessKey']\n",
    "\n",
    "print 'access key id: {}'.format(access_key_id)\n",
    "print 'secret access key: {}'.format(secret_access_key)"
   ]
  },
  {
   "cell_type": "code",
   "execution_count": null,
   "metadata": {
    "collapsed": false
   },
   "outputs": [],
   "source": [
    "## Clean Up\n",
    "\n",
    "# Delete access key\n",
    "response = client.delete_access_key(\n",
    "    UserName=user_name,\n",
    "    AccessKeyId=access_key_id\n",
    ")\n",
    "\n",
    "print response\n",
    "\n",
    "# Delete the user\n",
    "response = client.delete_user(\n",
    "    UserName=user_name\n",
    ")\n",
    "\n",
    "print response"
   ]
  },
  {
   "cell_type": "code",
   "execution_count": null,
   "metadata": {
    "collapsed": true
   },
   "outputs": [],
   "source": []
  }
 ],
 "metadata": {
  "kernelspec": {
   "display_name": "Python 2",
   "language": "python",
   "name": "python2"
  },
  "language_info": {
   "codemirror_mode": {
    "name": "ipython",
    "version": 2
   },
   "file_extension": ".py",
   "mimetype": "text/x-python",
   "name": "python",
   "nbconvert_exporter": "python",
   "pygments_lexer": "ipython2",
   "version": "2.7.12"
  }
 },
 "nbformat": 4,
 "nbformat_minor": 0
}
