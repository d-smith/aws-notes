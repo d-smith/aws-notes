{
 "cells": [
  {
   "cell_type": "markdown",
   "metadata": {},
   "source": [
    "# AWS Key Management Service"
   ]
  },
  {
   "cell_type": "markdown",
   "metadata": {
    "collapsed": true
   },
   "source": [
    "## Create a Client"
   ]
  },
  {
   "cell_type": "code",
   "execution_count": 1,
   "metadata": {
    "collapsed": true
   },
   "outputs": [],
   "source": [
    "import boto3\n",
    "\n",
    "client = boto3.client('kms')"
   ]
  },
  {
   "cell_type": "markdown",
   "metadata": {
    "collapsed": true
   },
   "source": [
    "## Create Key"
   ]
  },
  {
   "cell_type": "code",
   "execution_count": 3,
   "metadata": {
    "collapsed": false
   },
   "outputs": [
    {
     "name": "stdout",
     "output_type": "stream",
     "text": [
      "{u'KeyMetadata': {u'Origin': u'AWS_KMS', u'KeyId': u'321d98a0-ae7d-40b2-90cd-8e0f0dcab350', u'Description': u'Sample key', u'Enabled': True, u'KeyUsage': u'ENCRYPT_DECRYPT', u'KeyState': u'Enabled', u'CreationDate': datetime.datetime(2017, 2, 10, 13, 31, 4, 633000, tzinfo=tzlocal()), u'Arn': u'arn:aws:kms:us-east-1:930295567417:key/321d98a0-ae7d-40b2-90cd-8e0f0dcab350', u'AWSAccountId': u'930295567417'}, 'ResponseMetadata': {'RetryAttempts': 0, 'HTTPStatusCode': 200, 'RequestId': '39e4a9c8-efd8-11e6-a8b4-91154390ba6f', 'HTTPHeaders': {'x-amzn-requestid': '39e4a9c8-efd8-11e6-a8b4-91154390ba6f', 'content-length': '321', 'server': 'Server', 'connection': 'keep-alive', 'date': 'Fri, 10 Feb 2017 21:31:04 GMT', 'content-type': 'application/x-amz-json-1.1'}}}\n"
     ]
    }
   ],
   "source": [
    "response = client.create_key(\n",
    "    Description='Sample key',\n",
    ")\n",
    "\n",
    "print response"
   ]
  },
  {
   "cell_type": "markdown",
   "metadata": {},
   "source": [
    "## Generate Data Key"
   ]
  },
  {
   "cell_type": "code",
   "execution_count": 7,
   "metadata": {
    "collapsed": false
   },
   "outputs": [
    {
     "name": "stdout",
     "output_type": "stream",
     "text": [
      "key id is  321d98a0-ae7d-40b2-90cd-8e0f0dcab350\n"
     ]
    }
   ],
   "source": [
    "keyId = response['KeyMetadata']['KeyId']\n",
    "print 'key id is ', keyId"
   ]
  },
  {
   "cell_type": "code",
   "execution_count": null,
   "metadata": {
    "collapsed": true
   },
   "outputs": [],
   "source": [
    "response = client.generate_data_key(\n",
    "    KeyId=keyId,\n",
    "    KeySpec='AES_256',\n",
    ")"
   ]
  }
 ],
 "metadata": {
  "kernelspec": {
   "display_name": "Python 2",
   "language": "python",
   "name": "python2"
  },
  "language_info": {
   "codemirror_mode": {
    "name": "ipython",
    "version": 2
   },
   "file_extension": ".py",
   "mimetype": "text/x-python",
   "name": "python",
   "nbconvert_exporter": "python",
   "pygments_lexer": "ipython2",
   "version": "2.7.11"
  }
 },
 "nbformat": 4,
 "nbformat_minor": 0
}
