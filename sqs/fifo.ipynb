{
 "cells": [
  {
   "cell_type": "code",
   "execution_count": null,
   "metadata": {},
   "outputs": [],
   "source": [
    "# Create a queue\n",
    "import boto3\n",
    "\n",
    "client = boto3.client('sqs')\n",
    "create_response = client.create_queue(\n",
    "        QueueName = 'sampleQ.fifo',\n",
    "        Attributes={\n",
    "            'FifoQueue':'true',\n",
    "            'ContentBasedDeduplication':'true'\n",
    "        }\n",
    "    )\n",
    "print(create_response)"
   ]
  },
  {
   "cell_type": "code",
   "execution_count": null,
   "metadata": {},
   "outputs": [],
   "source": [
    "queue_url = create_response['QueueUrl']\n",
    "print(queue_url)"
   ]
  },
  {
   "cell_type": "code",
   "execution_count": null,
   "metadata": {},
   "outputs": [],
   "source": [
    "messages = [{'msg':'m1', 'group':'g1'},\n",
    "            {'msg':'m2', 'group':'g2'},\n",
    "            {'msg':'m3', 'group':'g1'},\n",
    "            {'msg':'m4', 'group':'g2'},\n",
    "            {'msg':'m5', 'group':'g1'}]"
   ]
  },
  {
   "cell_type": "code",
   "execution_count": null,
   "metadata": {},
   "outputs": [],
   "source": [
    "for msg in messages:\n",
    "    print(msg)"
   ]
  },
  {
   "cell_type": "code",
   "execution_count": null,
   "metadata": {},
   "outputs": [],
   "source": [
    "for msg in messages:\n",
    "    response = client.send_message(\n",
    "        QueueUrl = queue_url,\n",
    "        MessageBody=msg['msg'],\n",
    "        DelaySeconds=0,\n",
    "        MessageAttributes={\n",
    "            'attributeOne': {\n",
    "                'StringValue':'attribute one value',\n",
    "                'DataType':'String'\n",
    "            }\n",
    "        },\n",
    "        MessageGroupId=msg['group']\n",
    "    )\n",
    "    \n",
    "    print(response)\n"
   ]
  },
  {
   "cell_type": "code",
   "execution_count": null,
   "metadata": {},
   "outputs": [],
   "source": [
    "# Dequeue a batch - note the grouping of the messages\n",
    "\n",
    "response = client.receive_message(\n",
    "    QueueUrl = queue_url,\n",
    "    AttributeNames=[\n",
    "        'All'\n",
    "    ],\n",
    "    MaxNumberOfMessages=5,\n",
    "    VisibilityTimeout=5,\n",
    "    WaitTimeSeconds=5\n",
    ")\n",
    "\n",
    "\n",
    "for msg in messages:\n",
    "    print('message is {}'.format(msg['Body']))"
   ]
  },
  {
   "cell_type": "markdown",
   "metadata": {},
   "source": [
    "## Cleanup"
   ]
  },
  {
   "cell_type": "code",
   "execution_count": null,
   "metadata": {},
   "outputs": [],
   "source": [
    "response = client.delete_queue(\n",
    "    QueueUrl = queue_url\n",
    ")\n",
    "\n",
    "print(response)"
   ]
  },
  {
   "cell_type": "code",
   "execution_count": null,
   "metadata": {},
   "outputs": [],
   "source": []
  }
 ],
 "metadata": {
  "kernelspec": {
   "display_name": "Python 3",
   "language": "python",
   "name": "python3"
  },
  "language_info": {
   "codemirror_mode": {
    "name": "ipython",
    "version": 3
   },
   "file_extension": ".py",
   "mimetype": "text/x-python",
   "name": "python",
   "nbconvert_exporter": "python",
   "pygments_lexer": "ipython3",
   "version": "3.6.5"
  }
 },
 "nbformat": 4,
 "nbformat_minor": 2
}
