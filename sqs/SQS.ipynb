{
 "cells": [
  {
   "cell_type": "markdown",
   "metadata": {},
   "source": [
    "# SQS - Simple Queue Service Notes\n",
    "\n",
    "Notes on the AWS SQS service illustrated with code examples in Python using the [AWS Python SDK](https://boto3.readthedocs.io/en/latest/reference/services/index.html)"
   ]
  },
  {
   "cell_type": "markdown",
   "metadata": {},
   "source": [
    "## Create a queue\n",
    "\n",
    "The following shows how to create queue with just the queue name. This will create a queue of the\n",
    "[standard type](http://docs.aws.amazon.com/AWSSimpleQueueService/latest/SQSDeveloperGuide/Welcome.html#sqs-queue-types). To create a fifo queue, we would use a name with a `.fifo` suffix."
   ]
  },
  {
   "cell_type": "code",
   "execution_count": null,
   "metadata": {
    "collapsed": false
   },
   "outputs": [],
   "source": [
    "import boto3\n",
    "\n",
    "client = boto3.client('sqs')\n",
    "create_response = client.create_queue(\n",
    "        QueueName = 'sampleQ'\n",
    "    )\n",
    "print(create_response)"
   ]
  },
  {
   "cell_type": "markdown",
   "metadata": {},
   "source": [
    "## Listing Queues"
   ]
  },
  {
   "cell_type": "code",
   "execution_count": null,
   "metadata": {
    "collapsed": false
   },
   "outputs": [],
   "source": [
    "# List all queues\n",
    "queueList = client.list_queues()\n",
    "print queueList\n",
    "\n",
    "# List queues that begin with 'sample'\n",
    "queueList = client.list_queues( QueueNamePrefix = 'sample')\n",
    "print '\\n'\n",
    "print queueList"
   ]
  },
  {
   "cell_type": "markdown",
   "metadata": {},
   "source": [
    "## Send a Message to the Queue"
   ]
  },
  {
   "cell_type": "code",
   "execution_count": null,
   "metadata": {
    "collapsed": false
   },
   "outputs": [],
   "source": [
    "response = client.send_message(\n",
    "    QueueUrl = create_response['QueueUrl'],\n",
    "    MessageBody='Hello there',\n",
    "    DelaySeconds=0,\n",
    "    MessageAttributes={\n",
    "        'attributeOne': {\n",
    "            'StringValue':'attribute one value',\n",
    "            'DataType':'String'\n",
    "        }\n",
    "    },\n",
    "    MessageDeduplicationId='1',\n",
    "    MessageGroupId='1'\n",
    ")\n",
    "\n",
    "print response"
   ]
  },
  {
   "cell_type": "markdown",
   "metadata": {},
   "source": [
    "## Receieve a Message From a Queue"
   ]
  },
  {
   "cell_type": "code",
   "execution_count": null,
   "metadata": {
    "collapsed": false
   },
   "outputs": [],
   "source": [
    "response = client.receive_message(\n",
    "    QueueUrl = create_response['QueueUrl'],\n",
    "    AttributeNames=[\n",
    "        'All'\n",
    "    ],\n",
    "    MaxNumberOfMessages=1,\n",
    "    VisibilityTimeout=5,\n",
    "    WaitTimeSeconds=5\n",
    ")\n",
    "\n",
    "print response\n",
    "\n",
    "receipt_handle = response['Messages'][0]['ReceiptHandle']"
   ]
  },
  {
   "cell_type": "markdown",
   "metadata": {},
   "source": [
    "## Delete a Message"
   ]
  },
  {
   "cell_type": "code",
   "execution_count": null,
   "metadata": {
    "collapsed": false
   },
   "outputs": [],
   "source": [
    "response = client.delete_message(\n",
    "    QueueUrl=create_response['QueueUrl'],\n",
    "    ReceiptHandle=receipt_handle\n",
    ")\n",
    "\n",
    "print response"
   ]
  },
  {
   "cell_type": "markdown",
   "metadata": {
    "collapsed": true
   },
   "source": [
    "## Delete a Queue"
   ]
  },
  {
   "cell_type": "code",
   "execution_count": null,
   "metadata": {
    "collapsed": false
   },
   "outputs": [],
   "source": [
    "response = client.delete_queue(\n",
    "    QueueUrl = create_response['QueueUrl']\n",
    ")\n",
    "\n",
    "print(response)"
   ]
  },
  {
   "cell_type": "code",
   "execution_count": null,
   "metadata": {
    "collapsed": true
   },
   "outputs": [],
   "source": []
  }
 ],
 "metadata": {
  "kernelspec": {
   "display_name": "Python 2",
   "language": "python",
   "name": "python2"
  },
  "language_info": {
   "codemirror_mode": {
    "name": "ipython",
    "version": 2
   },
   "file_extension": ".py",
   "mimetype": "text/x-python",
   "name": "python",
   "nbconvert_exporter": "python",
   "pygments_lexer": "ipython2",
   "version": "2.7.11"
  }
 },
 "nbformat": 4,
 "nbformat_minor": 0
}
