{
 "cells": [
  {
   "cell_type": "markdown",
   "metadata": {},
   "source": [
    "# SQS - Simple Queue Service Notes\n",
    "\n",
    "Notes on the AWS SQS service illustrated with code examples in Python using the [AWS Python SDK](https://boto3.readthedocs.io/en/latest/reference/services/index.html)\n",
    "\n",
    "This particular notebook shows access at the raw service level - sqsResource notebook shows the resource oriented API"
   ]
  },
  {
   "cell_type": "markdown",
   "metadata": {},
   "source": [
    "## The Basics"
   ]
  },
  {
   "cell_type": "markdown",
   "metadata": {},
   "source": [
    "### Create a queue\n",
    "\n",
    "The following shows how to create queue with just the queue name. This will create a queue of the\n",
    "[standard type](http://docs.aws.amazon.com/AWSSimpleQueueService/latest/SQSDeveloperGuide/Welcome.html#sqs-queue-types). To create a fifo queue, we would use a name with a `.fifo` suffix."
   ]
  },
  {
   "cell_type": "code",
   "execution_count": null,
   "metadata": {
    "collapsed": false
   },
   "outputs": [],
   "source": [
    "import boto3\n",
    "\n",
    "client = boto3.client('sqs')\n",
    "create_response = client.create_queue(\n",
    "        QueueName = 'sampleQ'\n",
    "    )\n",
    "print(create_response)"
   ]
  },
  {
   "cell_type": "markdown",
   "metadata": {},
   "source": [
    "### Listing Queues"
   ]
  },
  {
   "cell_type": "code",
   "execution_count": null,
   "metadata": {
    "collapsed": false
   },
   "outputs": [],
   "source": [
    "# List all queues\n",
    "queueList = client.list_queues()\n",
    "print queueList\n",
    "\n",
    "# List queues that begin with 'sample'\n",
    "queueList = client.list_queues( QueueNamePrefix = 'sample')\n",
    "print '\\n'\n",
    "print queueList"
   ]
  },
  {
   "cell_type": "markdown",
   "metadata": {},
   "source": [
    "### Send a Message to the Queue"
   ]
  },
  {
   "cell_type": "code",
   "execution_count": null,
   "metadata": {
    "collapsed": false
   },
   "outputs": [],
   "source": [
    "response = client.send_message(\n",
    "    QueueUrl = create_response['QueueUrl'],\n",
    "    MessageBody='Hello there',\n",
    "    DelaySeconds=0,\n",
    "    MessageAttributes={\n",
    "        'attributeOne': {\n",
    "            'StringValue':'attribute one value',\n",
    "            'DataType':'String'\n",
    "        }\n",
    "    },\n",
    "    MessageDeduplicationId='1',\n",
    "    MessageGroupId='1'\n",
    ")\n",
    "\n",
    "print response"
   ]
  },
  {
   "cell_type": "markdown",
   "metadata": {},
   "source": [
    "### Receieve a Message From a Queue\n",
    "\n",
    "This shows just a basic receive. To understand how what values to use for max number of messages, visibility, and\n",
    "wait timeout, you need to think about the system you are designing - what sort of concurrency will apply to pulling\n",
    "messages from the queue, how long will it take to process the message, and so on."
   ]
  },
  {
   "cell_type": "code",
   "execution_count": null,
   "metadata": {
    "collapsed": false
   },
   "outputs": [],
   "source": [
    "response = client.receive_message(\n",
    "    QueueUrl = create_response['QueueUrl'],\n",
    "    AttributeNames=[\n",
    "        'All'\n",
    "    ],\n",
    "    MaxNumberOfMessages=1,\n",
    "    VisibilityTimeout=5,\n",
    "    WaitTimeSeconds=5\n",
    ")\n",
    "\n",
    "print response\n",
    "\n",
    "receipt_handle = response['Messages'][0]['ReceiptHandle']"
   ]
  },
  {
   "cell_type": "markdown",
   "metadata": {},
   "source": [
    "### Delete a Message"
   ]
  },
  {
   "cell_type": "code",
   "execution_count": null,
   "metadata": {
    "collapsed": false
   },
   "outputs": [],
   "source": [
    "response = client.delete_message(\n",
    "    QueueUrl=create_response['QueueUrl'],\n",
    "    ReceiptHandle=receipt_handle\n",
    ")\n",
    "\n",
    "print response"
   ]
  },
  {
   "cell_type": "markdown",
   "metadata": {
    "collapsed": true
   },
   "source": [
    "### Delete a Queue"
   ]
  },
  {
   "cell_type": "code",
   "execution_count": null,
   "metadata": {
    "collapsed": false
   },
   "outputs": [],
   "source": [
    "response = client.delete_queue(\n",
    "    QueueUrl = create_response['QueueUrl']\n",
    ")\n",
    "\n",
    "print(response)"
   ]
  },
  {
   "cell_type": "markdown",
   "metadata": {
    "collapsed": true
   },
   "source": [
    "## Using a Dead Letter Queue"
   ]
  },
  {
   "cell_type": "markdown",
   "metadata": {},
   "source": [
    "### Create the Queues"
   ]
  },
  {
   "cell_type": "code",
   "execution_count": null,
   "metadata": {
    "collapsed": false
   },
   "outputs": [],
   "source": [
    "import json\n",
    "\n",
    "## Create the dead letter queue\n",
    "dlq_resp = client.create_queue(\n",
    "        QueueName = 'sampleDeadLetterQueue'\n",
    "    )\n",
    "print(dlq_resp)\n",
    "\n",
    "response = client.get_queue_attributes(\n",
    "    QueueUrl=dlq_resp['QueueUrl'],\n",
    "    AttributeNames=[\n",
    "        'QueueArn'\n",
    "    ]\n",
    ")\n",
    "\n",
    "dql_arn = response['Attributes']['QueueArn']"
   ]
  },
  {
   "cell_type": "code",
   "execution_count": null,
   "metadata": {
    "collapsed": false
   },
   "outputs": [],
   "source": [
    "## Create the redrive policy\n",
    "redrivePolicy = {}\n",
    "redrivePolicy['maxReceiveCount'] = 2\n",
    "redrivePolicy['deadLetterTargetArn'] = dql_arn\n",
    "print json.dumps(redrivePolicy)\n"
   ]
  },
  {
   "cell_type": "code",
   "execution_count": null,
   "metadata": {
    "collapsed": false
   },
   "outputs": [],
   "source": [
    "## Create the sample queue with the DLQ\n",
    "sample_q_response = client.create_queue(\n",
    "    QueueName = 'sampleQwithDLQ',\n",
    "     Attributes={\n",
    "        'RedrivePolicy': json.dumps(redrivePolicy)\n",
    "    }\n",
    ")"
   ]
  },
  {
   "cell_type": "code",
   "execution_count": null,
   "metadata": {
    "collapsed": false
   },
   "outputs": [],
   "source": [
    "## Read the policy via get_queue_attributes\n",
    "response = client.get_queue_attributes(\n",
    "    QueueUrl=sample_q_response['QueueUrl'],\n",
    "    AttributeNames=[\n",
    "        'RedrivePolicy'\n",
    "    ]\n",
    ")\n",
    "\n",
    "print response"
   ]
  },
  {
   "cell_type": "code",
   "execution_count": null,
   "metadata": {
    "collapsed": false
   },
   "outputs": [],
   "source": [
    "## List source queue for the DLQ\n",
    "\n",
    "response = client.list_dead_letter_source_queues(\n",
    "    QueueUrl = dlq_resp['QueueUrl']\n",
    ")\n",
    "\n",
    "print response"
   ]
  },
  {
   "cell_type": "code",
   "execution_count": null,
   "metadata": {
    "collapsed": true
   },
   "outputs": [],
   "source": [
    "## Enqueue a message\n",
    "response = client.send_message(\n",
    "    QueueUrl = sample_q_response['QueueUrl'],\n",
    "    MessageBody='Hello there',\n",
    "    DelaySeconds=0,\n",
    "    MessageAttributes={\n",
    "        'attributeOne': {\n",
    "            'StringValue':'attribute one value',\n",
    "            'DataType':'String'\n",
    "        }\n",
    "    },\n",
    "    MessageDeduplicationId='1',\n",
    "    MessageGroupId='1'\n",
    ")"
   ]
  },
  {
   "cell_type": "code",
   "execution_count": null,
   "metadata": {
    "collapsed": false
   },
   "outputs": [],
   "source": [
    "import time\n",
    "\n",
    "## Receive the message twice\n",
    "for i in range(0, 3):\n",
    "    print 'receive ', i\n",
    "    \n",
    "    response = client.receive_message(\n",
    "        QueueUrl = sample_q_response['QueueUrl'],\n",
    "        AttributeNames=[\n",
    "            'All'\n",
    "        ],\n",
    "        MaxNumberOfMessages=1,\n",
    "        VisibilityTimeout=1,\n",
    "        WaitTimeSeconds=1\n",
    "    )\n",
    "    \n",
    "    print response\n",
    "    \n",
    "    time.sleep(2)\n",
    "    "
   ]
  },
  {
   "cell_type": "code",
   "execution_count": null,
   "metadata": {
    "collapsed": false
   },
   "outputs": [],
   "source": [
    "## Receive from DLQ\n",
    "response = client.receive_message(\n",
    "    QueueUrl = dlq_resp['QueueUrl'],\n",
    "    AttributeNames=[\n",
    "        'All'\n",
    "    ],\n",
    "    MaxNumberOfMessages=1,\n",
    "    VisibilityTimeout=1,\n",
    "    WaitTimeSeconds=1\n",
    ")\n",
    "\n",
    "print response"
   ]
  },
  {
   "cell_type": "markdown",
   "metadata": {},
   "source": [
    "### Clean Up"
   ]
  },
  {
   "cell_type": "code",
   "execution_count": null,
   "metadata": {
    "collapsed": false
   },
   "outputs": [],
   "source": [
    "response = client.delete_queue(\n",
    "    QueueUrl = dlq_resp['QueueUrl']\n",
    ")\n",
    "\n",
    "print(response)"
   ]
  },
  {
   "cell_type": "code",
   "execution_count": null,
   "metadata": {
    "collapsed": true
   },
   "outputs": [],
   "source": []
  }
 ],
 "metadata": {
  "kernelspec": {
   "display_name": "Python 2",
   "language": "python",
   "name": "python2"
  },
  "language_info": {
   "codemirror_mode": {
    "name": "ipython",
    "version": 2
   },
   "file_extension": ".py",
   "mimetype": "text/x-python",
   "name": "python",
   "nbconvert_exporter": "python",
   "pygments_lexer": "ipython2",
   "version": "2.7.11"
  }
 },
 "nbformat": 4,
 "nbformat_minor": 0
}
