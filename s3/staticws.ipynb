{
 "cells": [
  {
   "cell_type": "code",
   "execution_count": null,
   "metadata": {
    "collapsed": false
   },
   "outputs": [],
   "source": [
    "import boto3\n",
    "import random\n",
    "\n",
    "s3client = boto3.client('s3')"
   ]
  },
  {
   "cell_type": "code",
   "execution_count": null,
   "metadata": {
    "collapsed": false
   },
   "outputs": [],
   "source": [
    "# Bucket names are globally unique. Here we'll add a random element to the name to increase the odds of\n",
    "# avoiding a name collision\n",
    "bucket_name = 'ds-website-' + str(random.randint(1, 9999999))\n",
    "print bucket_name"
   ]
  },
  {
   "cell_type": "code",
   "execution_count": null,
   "metadata": {
    "collapsed": false
   },
   "outputs": [],
   "source": [
    "response = s3client.create_bucket(\n",
    "    Bucket=bucket_name\n",
    ")\n",
    "\n",
    "print response"
   ]
  },
  {
   "cell_type": "code",
   "execution_count": null,
   "metadata": {
    "collapsed": false
   },
   "outputs": [],
   "source": [
    "# Set static web site configuration\n",
    "response = s3client.put_bucket_website(\n",
    "    Bucket=bucket_name,\n",
    "    WebsiteConfiguration={\n",
    "        'ErrorDocument': {\n",
    "            'Key': 'error.html'\n",
    "        },\n",
    "        'IndexDocument': {\n",
    "            'Suffix': 'index.html'\n",
    "        }\n",
    "    }\n",
    ")\n",
    "\n",
    "print response"
   ]
  },
  {
   "cell_type": "code",
   "execution_count": null,
   "metadata": {
    "collapsed": true
   },
   "outputs": [],
   "source": [
    "# Create index document\n",
    "f = open(\"./index.html\",\"w\")\n",
    "f.write(\"<html><head><title>Yo</title></head><body><h2>Yo, yo</h2></body></html>\")\n",
    "f.close()"
   ]
  },
  {
   "cell_type": "code",
   "execution_count": null,
   "metadata": {
    "collapsed": false
   },
   "outputs": [],
   "source": [
    "# Upload index document\n",
    "s3 = boto3.resource('s3')\n",
    "response = s3.meta.client.upload_file('./index.html', bucket_name, 'index.html')\n",
    "print response"
   ]
  },
  {
   "cell_type": "code",
   "execution_count": null,
   "metadata": {
    "collapsed": false
   },
   "outputs": [],
   "source": [
    "# Upload error document\n",
    "s3 = boto3.resource('s3')\n",
    "response = s3.meta.client.upload_file('./error.html', bucket_name, 'error.html')\n",
    "print response"
   ]
  },
  {
   "cell_type": "code",
   "execution_count": null,
   "metadata": {
    "collapsed": true
   },
   "outputs": [],
   "source": [
    "# Create error document\n",
    "f = open(\"./error.html\",\"w\")\n",
    "f.write(\"<html><head><title>Error Yo</title></head><body><h2>Error, yo</h2></body></html>\")\n",
    "f.close()"
   ]
  },
  {
   "cell_type": "markdown",
   "metadata": {},
   "source": [
    "At this point you will get a forbidden back when you access the web site as nothing is readable by the world"
   ]
  },
  {
   "cell_type": "code",
   "execution_count": null,
   "metadata": {
    "collapsed": false
   },
   "outputs": [],
   "source": [
    "import os\n",
    "region = os.environ['AWS_DEFAULT_REGION']\n",
    "site = 'http://' + bucket_name + '.s3-website-' + region + '.amazonaws.com'\n",
    "\n",
    "print site\n",
    "\n",
    "https_proxy = os.environ['https_proxy']\n",
    "print https_proxy\n",
    "os.environ['http_proxy'] = https_proxy"
   ]
  },
  {
   "cell_type": "code",
   "execution_count": null,
   "metadata": {
    "collapsed": false
   },
   "outputs": [],
   "source": [
    "%%bash -s \"$site\"\n",
    "curl $1"
   ]
  },
  {
   "cell_type": "markdown",
   "metadata": {},
   "source": [
    "Now if we make the error page world readable then we get our error page back when trying to access index.html.\n",
    "which is still not readable."
   ]
  },
  {
   "cell_type": "code",
   "execution_count": null,
   "metadata": {
    "collapsed": false
   },
   "outputs": [],
   "source": [
    "s3 = boto3.resource('s3')\n",
    "object_acl = s3.ObjectAcl(bucket_name,'error.html')\n",
    "response = object_acl.put(\n",
    "    ACL='public-read'\n",
    ")\n",
    "\n",
    "print response"
   ]
  },
  {
   "cell_type": "code",
   "execution_count": null,
   "metadata": {
    "collapsed": false
   },
   "outputs": [],
   "source": [
    "%%bash -s \"$site\"\n",
    "curl $1"
   ]
  },
  {
   "cell_type": "code",
   "execution_count": null,
   "metadata": {
    "collapsed": false
   },
   "outputs": [],
   "source": [
    "# For grins we can make a signed url to allow it to be curled, this is just for playing\n",
    "# around and has nothing to do with this example.\n",
    "presigned_url = s3client.generate_presigned_url(\n",
    "    'get_object', {'Bucket': bucket_name, 'Key': 'index.html'})\n",
    "\n",
    "print presigned_url"
   ]
  },
  {
   "cell_type": "code",
   "execution_count": null,
   "metadata": {
    "collapsed": false
   },
   "outputs": [],
   "source": [
    "%%bash -s \"$presigned_url\"\n",
    "curl $1"
   ]
  },
  {
   "cell_type": "markdown",
   "metadata": {},
   "source": [
    "Let's make the index readable - curl now returns our expected page."
   ]
  },
  {
   "cell_type": "code",
   "execution_count": null,
   "metadata": {
    "collapsed": false
   },
   "outputs": [],
   "source": [
    "s3 = boto3.resource('s3')\n",
    "object_acl = s3.ObjectAcl(bucket_name,'index.html')\n",
    "response = object_acl.put(\n",
    "    ACL='public-read'\n",
    ")\n",
    "\n",
    "print response"
   ]
  },
  {
   "cell_type": "code",
   "execution_count": null,
   "metadata": {
    "collapsed": false,
    "scrolled": true
   },
   "outputs": [],
   "source": [
    "%%bash -s \"$site\"\n",
    "curl $1"
   ]
  },
  {
   "cell_type": "code",
   "execution_count": null,
   "metadata": {
    "collapsed": false
   },
   "outputs": [],
   "source": [
    "# Delete our objects\n",
    "response = s3client.delete_object(\n",
    "        Bucket=bucket_name,\n",
    "        Key='index.html'\n",
    ")\n",
    "\n",
    "print response\n",
    "\n",
    "response = s3client.delete_object(\n",
    "        Bucket=bucket_name,\n",
    "        Key='error.html'\n",
    ")\n",
    "\n",
    "print response"
   ]
  },
  {
   "cell_type": "code",
   "execution_count": null,
   "metadata": {
    "collapsed": false
   },
   "outputs": [],
   "source": [
    "response = s3client.delete_bucket(\n",
    "    Bucket=bucket_name\n",
    ")\n",
    "\n",
    "print response"
   ]
  },
  {
   "cell_type": "code",
   "execution_count": null,
   "metadata": {
    "collapsed": true
   },
   "outputs": [],
   "source": []
  }
 ],
 "metadata": {
  "kernelspec": {
   "display_name": "Python 2",
   "language": "python",
   "name": "python2"
  },
  "language_info": {
   "codemirror_mode": {
    "name": "ipython",
    "version": 2
   },
   "file_extension": ".py",
   "mimetype": "text/x-python",
   "name": "python",
   "nbconvert_exporter": "python",
   "pygments_lexer": "ipython2",
   "version": "2.7.12"
  }
 },
 "nbformat": 4,
 "nbformat_minor": 0
}
