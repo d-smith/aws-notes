{
 "cells": [
  {
   "cell_type": "code",
   "execution_count": null,
   "metadata": {
    "collapsed": false
   },
   "outputs": [],
   "source": [
    "import boto3\n",
    "import random\n",
    "\n",
    "s3client = boto3.client('s3')"
   ]
  },
  {
   "cell_type": "code",
   "execution_count": null,
   "metadata": {
    "collapsed": false
   },
   "outputs": [],
   "source": [
    "# Bucket names are globally unique. Here we'll add a random element to the name to increase the odds of\n",
    "# avoiding a name collision\n",
    "bucket_name = 'ds-e1-' + str(random.randint(1, 9999999))\n",
    "print bucket_name"
   ]
  },
  {
   "cell_type": "code",
   "execution_count": null,
   "metadata": {
    "collapsed": false
   },
   "outputs": [],
   "source": [
    "response = s3client.create_bucket(\n",
    "    Bucket=bucket_name\n",
    ")\n",
    "\n",
    "print response"
   ]
  },
  {
   "cell_type": "code",
   "execution_count": null,
   "metadata": {
    "collapsed": false
   },
   "outputs": [],
   "source": [
    "# Execute this cell to enable versioning. Once versioning is enable for a bucket it cannot be removed,\n",
    "# although it can be disabled.\n",
    "response = s3client.put_bucket_versioning(\n",
    "    Bucket=bucket_name,\n",
    "    VersioningConfiguration={\n",
    "        'MFADelete': 'Disabled',\n",
    "        'Status': 'Enabled'\n",
    "    }\n",
    ")\n",
    "\n",
    "print response"
   ]
  },
  {
   "cell_type": "code",
   "execution_count": null,
   "metadata": {
    "collapsed": false
   },
   "outputs": [],
   "source": [
    "response = s3client.get_bucket_versioning(\n",
    "    Bucket=bucket_name\n",
    ")\n",
    "\n",
    "print response\n",
    "\n",
    "response = s3client.get_bucket_logging(\n",
    "    Bucket=bucket_name\n",
    ")\n",
    "\n",
    "print response\n",
    "\n",
    "response = s3client.get_bucket_acl(\n",
    "    Bucket=bucket_name\n",
    ")\n",
    "\n",
    "print response\n",
    "\n",
    "# returns an error if no bucket lifecycle configured\n",
    "#response = s3client.get_bucket_lifecycle_configuration(\n",
    "#    Bucket=bucket_name\n",
    "#)\n",
    "\n",
    "#print response"
   ]
  },
  {
   "cell_type": "code",
   "execution_count": null,
   "metadata": {
    "collapsed": true
   },
   "outputs": [],
   "source": [
    "f = open(\"./hello.txt\",\"w\")\n",
    "f.write(\"hello, world\")\n",
    "f.close()"
   ]
  },
  {
   "cell_type": "code",
   "execution_count": null,
   "metadata": {
    "collapsed": false
   },
   "outputs": [],
   "source": [
    "# Let's write the file content to the bucket specifying the reduced redundancy class. Had \n",
    "# we omitted the StorageClass it would have defaulted to STANDARD. \n",
    "\n",
    "s3 = boto3.resource('s3')\n",
    "with open('./hello.txt', 'r') as f:\n",
    "    read_data = f.read()\n",
    "    response = s3.Object(bucket_name, 'hello.txt').put(Body=read_data, StorageClass='REDUCED_REDUNDANCY')\n",
    "    print response\n",
    "\n",
    "# upload_file defaults the storage to standard\n",
    "#s3 = boto3.resource('s3')\n",
    "#response = s3.meta.client.upload_file('./hello.txt', bucket_name, 'hello.txt')\n",
    "#print response"
   ]
  },
  {
   "cell_type": "code",
   "execution_count": null,
   "metadata": {
    "collapsed": false
   },
   "outputs": [],
   "source": [
    "s3 = boto3.resource('s3')\n",
    "object_acl = s3.ObjectAcl(bucket_name,'hello.txt')\n",
    "response = object_acl.put(\n",
    "    ACL='public-read'\n",
    ")\n",
    "\n",
    "print response"
   ]
  },
  {
   "cell_type": "code",
   "execution_count": null,
   "metadata": {
    "collapsed": true
   },
   "outputs": [],
   "source": [
    "f = open(\"./hello.txt\",\"w\")\n",
    "f.write(\"hello, world -- again\")\n",
    "f.close()"
   ]
  },
  {
   "cell_type": "code",
   "execution_count": null,
   "metadata": {
    "collapsed": false
   },
   "outputs": [],
   "source": [
    "# Note that a single S3 put is limited to a max size of 5 gigabytes, and \n",
    "# that AWS recommends using multipart uploads when object size gets around 100 MB.\n",
    "# \n",
    "\n",
    "s3 = boto3.resource('s3')\n",
    "response = s3.meta.client.upload_file('./hello.txt', bucket_name, 'hello.txt')\n",
    "print response\n",
    "\n",
    "# S3 has Read after Write consistency semantics after the PUT of a new object, and\n",
    "# eventual consistency after PUTs that overwrite and DELETEs"
   ]
  },
  {
   "cell_type": "code",
   "execution_count": null,
   "metadata": {
    "collapsed": false
   },
   "outputs": [],
   "source": [
    "s3 = boto3.resource('s3')\n",
    "object_acl = s3.ObjectAcl(bucket_name,'hello.txt')\n",
    "response = object_acl.put(\n",
    "    ACL='public-read'\n",
    ")\n",
    "\n",
    "print response"
   ]
  },
  {
   "cell_type": "code",
   "execution_count": null,
   "metadata": {
    "collapsed": false
   },
   "outputs": [],
   "source": [
    "response = s3client.list_object_versions(\n",
    "    Bucket=bucket_name,\n",
    "    Prefix='hello.txt',\n",
    "    MaxKeys=100\n",
    ")\n",
    "\n",
    "\n",
    "versions = response['Versions']\n",
    "for version in versions:\n",
    "    print \"key: '{}' version {}\".format(version['Key'], version['VersionId'])\n"
   ]
  },
  {
   "cell_type": "code",
   "execution_count": null,
   "metadata": {
    "collapsed": false
   },
   "outputs": [],
   "source": [
    "# This one does a delete on the object. In the console you can see the deleted versions and marker\n",
    "response = s3client.delete_object(\n",
    "        Bucket=bucket_name,\n",
    "        Key='hello.txt'\n",
    ")\n",
    "\n",
    "print response"
   ]
  },
  {
   "cell_type": "code",
   "execution_count": null,
   "metadata": {
    "collapsed": false
   },
   "outputs": [],
   "source": [
    "response = s3client.list_object_versions(\n",
    "    Bucket=bucket_name,\n",
    "    Prefix='hello.txt',\n",
    "    MaxKeys=100\n",
    ")\n",
    "\n",
    "\n",
    "print response\n",
    "\n",
    "if 'Versions' in response:\n",
    "    versions = response['Versions']\n",
    "    for v in versions:\n",
    "        print v['Key']\n",
    "else:\n",
    "    print 'No versions'\n",
    "    \n"
   ]
  },
  {
   "cell_type": "code",
   "execution_count": null,
   "metadata": {
    "collapsed": false
   },
   "outputs": [],
   "source": [
    "if 'DeleteMarkers' in response:\n",
    "    deleteMarkers = response['DeleteMarkers']\n",
    "    for dm in deleteMarkers:\n",
    "        print dm\n",
    "else:\n",
    "    print 'No delete markers'"
   ]
  },
  {
   "cell_type": "code",
   "execution_count": null,
   "metadata": {
    "collapsed": false
   },
   "outputs": [],
   "source": [
    "# This cell deletes all the object versions in the bucket. There's no restore/delete marker after this.\n",
    "for version in versions:\n",
    "    response = s3client.delete_object(\n",
    "        Bucket=bucket_name,\n",
    "        Key=version['Key'],\n",
    "        VersionId=version['VersionId']\n",
    "    )\n",
    "\n",
    "    print response"
   ]
  },
  {
   "cell_type": "code",
   "execution_count": null,
   "metadata": {
    "collapsed": false
   },
   "outputs": [],
   "source": [
    "# This cell deletes all the delete markers in the bucket. If you delete an object (just the object, not all the \n",
    "# object versions( then delete the deletemarker, this 'restores' the object.\n",
    "response = s3client.list_object_versions(\n",
    "    Bucket=bucket_name,\n",
    "    Prefix='hello.txt',\n",
    "    MaxKeys=100\n",
    ")\n",
    "\n",
    "if 'DeleteMarkers' in response:\n",
    "    deleteMarkers = response['DeleteMarkers']\n",
    "    for dm in deleteMarkers:\n",
    "        response = s3client.delete_object(\n",
    "            Bucket=bucket_name,\n",
    "            Key=dm['Key'],\n",
    "            VersionId=dm['VersionId']\n",
    "        )\n",
    "        \n",
    "        print response\n",
    "else:\n",
    "    print 'No delete markers to delete'"
   ]
  },
  {
   "cell_type": "code",
   "execution_count": null,
   "metadata": {
    "collapsed": false
   },
   "outputs": [],
   "source": [
    "response = s3client.delete_bucket(\n",
    "    Bucket=bucket_name\n",
    ")\n",
    "\n",
    "\n",
    "print response"
   ]
  },
  {
   "cell_type": "code",
   "execution_count": null,
   "metadata": {
    "collapsed": true
   },
   "outputs": [],
   "source": []
  }
 ],
 "metadata": {
  "kernelspec": {
   "display_name": "Python 2",
   "language": "python",
   "name": "python2"
  },
  "language_info": {
   "codemirror_mode": {
    "name": "ipython",
    "version": 2
   },
   "file_extension": ".py",
   "mimetype": "text/x-python",
   "name": "python",
   "nbconvert_exporter": "python",
   "pygments_lexer": "ipython2",
   "version": "2.7.12"
  }
 },
 "nbformat": 4,
 "nbformat_minor": 0
}
