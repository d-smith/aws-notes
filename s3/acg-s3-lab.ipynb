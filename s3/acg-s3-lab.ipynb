{
 "cells": [
  {
   "cell_type": "code",
   "execution_count": null,
   "metadata": {
    "collapsed": true
   },
   "outputs": [],
   "source": [
    "import boto3\n",
    "import random"
   ]
  },
  {
   "cell_type": "code",
   "execution_count": 11,
   "metadata": {
    "collapsed": false
   },
   "outputs": [
    {
     "name": "stdout",
     "output_type": "stream",
     "text": [
      "ds-e1-5377029\n"
     ]
    }
   ],
   "source": [
    "s3client = boto3.client('s3')\n",
    "\n",
    "bucket_name = 'ds-e1-' + str(random.randint(1, 9999999))\n",
    "print bucket_name"
   ]
  },
  {
   "cell_type": "code",
   "execution_count": 12,
   "metadata": {
    "collapsed": false
   },
   "outputs": [
    {
     "name": "stdout",
     "output_type": "stream",
     "text": [
      "{u'Location': '/ds-e1-5377029', 'ResponseMetadata': {'HTTPStatusCode': 200, 'RetryAttempts': 0, 'HostId': 'xXNb8O5xjDjTSGgaDpraV91GchQEy7KLOC2+hLxghr21d6kyrgbFY5t5I/6U7+bkRVqVdfaBdzg=', 'RequestId': 'C86772598CBC001B', 'HTTPHeaders': {'content-length': '0', 'x-amz-id-2': 'xXNb8O5xjDjTSGgaDpraV91GchQEy7KLOC2+hLxghr21d6kyrgbFY5t5I/6U7+bkRVqVdfaBdzg=', 'server': 'AmazonS3', 'x-amz-request-id': 'C86772598CBC001B', 'location': '/ds-e1-5377029', 'date': 'Thu, 04 May 2017 21:37:33 GMT'}}}\n"
     ]
    }
   ],
   "source": [
    "response = s3client.create_bucket(\n",
    "    Bucket=bucket_name\n",
    ")\n",
    "\n",
    "print response"
   ]
  },
  {
   "cell_type": "code",
   "execution_count": 13,
   "metadata": {
    "collapsed": false
   },
   "outputs": [
    {
     "name": "stdout",
     "output_type": "stream",
     "text": [
      "{'ResponseMetadata': {'HTTPStatusCode': 200, 'RetryAttempts': 0, 'HostId': 'tYHzF6UBeUpRTXSaTJpPsC1K4vFeHuUMsqEDRptogeYnB4u8xtANkPtC2rJ5WbzUuSKDX4VICP4=', 'RequestId': '2F43775250D3B483', 'HTTPHeaders': {'x-amz-id-2': 'tYHzF6UBeUpRTXSaTJpPsC1K4vFeHuUMsqEDRptogeYnB4u8xtANkPtC2rJ5WbzUuSKDX4VICP4=', 'date': 'Thu, 04 May 2017 21:37:34 GMT', 'transfer-encoding': 'chunked', 'x-amz-request-id': '2F43775250D3B483', 'server': 'AmazonS3'}}}\n",
      "{'ResponseMetadata': {'HTTPStatusCode': 200, 'RetryAttempts': 0, 'HostId': 'toJampVFF88Kiaz1jrNUY/tEBLonvHF0W2BQcxL2yIvt9WlNwdtyER/HGEjoIwYHrn4PkZUol9c=', 'RequestId': 'D47260E851594D5D', 'HTTPHeaders': {'content-length': '289', 'x-amz-id-2': 'toJampVFF88Kiaz1jrNUY/tEBLonvHF0W2BQcxL2yIvt9WlNwdtyER/HGEjoIwYHrn4PkZUol9c=', 'server': 'AmazonS3', 'x-amz-request-id': 'D47260E851594D5D', 'date': 'Thu, 04 May 2017 21:37:34 GMT', 'content-type': 'application/xml'}}}\n",
      "{u'Owner': {u'DisplayName': 'doug.smith', u'ID': '88233bdd2cfbb77d2de057c6ad7a7a64c15edbdecc0893bc8e9426ec2047ce3e'}, u'Grants': [{u'Grantee': {u'Type': 'CanonicalUser', u'DisplayName': 'doug.smith', u'ID': '88233bdd2cfbb77d2de057c6ad7a7a64c15edbdecc0893bc8e9426ec2047ce3e'}, u'Permission': 'FULL_CONTROL'}], 'ResponseMetadata': {'HTTPStatusCode': 200, 'RetryAttempts': 0, 'HostId': '66IhDyGxEIGGJIQt7ki/kJJy3oovmQlxZc1QLpqyQ1I+zAuwrsMpRPev8kmomDq1TPYdX/f03kU=', 'RequestId': 'D4242DCEEF63AA74', 'HTTPHeaders': {'x-amz-id-2': '66IhDyGxEIGGJIQt7ki/kJJy3oovmQlxZc1QLpqyQ1I+zAuwrsMpRPev8kmomDq1TPYdX/f03kU=', 'server': 'AmazonS3', 'transfer-encoding': 'chunked', 'x-amz-request-id': 'D4242DCEEF63AA74', 'date': 'Thu, 04 May 2017 21:37:35 GMT', 'content-type': 'application/xml'}}}\n"
     ]
    }
   ],
   "source": [
    "response = s3client.get_bucket_versioning(\n",
    "    Bucket=bucket_name\n",
    ")\n",
    "\n",
    "print response\n",
    "\n",
    "response = s3client.get_bucket_logging(\n",
    "    Bucket=bucket_name\n",
    ")\n",
    "\n",
    "print response\n",
    "\n",
    "response = s3client.get_bucket_acl(\n",
    "    Bucket=bucket_name\n",
    ")\n",
    "\n",
    "print response"
   ]
  },
  {
   "cell_type": "code",
   "execution_count": 14,
   "metadata": {
    "collapsed": false
   },
   "outputs": [
    {
     "name": "stdout",
     "output_type": "stream",
     "text": [
      "None\n"
     ]
    }
   ],
   "source": [
    "s3 = boto3.resource('s3')\n",
    "response = s3.meta.client.upload_file('./hello.txt', bucket_name, 'hello.txt')\n",
    "print response"
   ]
  },
  {
   "cell_type": "code",
   "execution_count": 15,
   "metadata": {
    "collapsed": false
   },
   "outputs": [
    {
     "name": "stdout",
     "output_type": "stream",
     "text": [
      "{'ResponseMetadata': {'HTTPStatusCode': 200, 'RetryAttempts': 0, 'HostId': 'LbgWPWpXex61rc+cj8xXDio0jypqK2ZOJuNr86gAWCLFCI2J4kdYOX08CLIc6q6eTAildJNfRa4=', 'RequestId': '28F4FF1DDF0341D8', 'HTTPHeaders': {'x-amz-id-2': 'LbgWPWpXex61rc+cj8xXDio0jypqK2ZOJuNr86gAWCLFCI2J4kdYOX08CLIc6q6eTAildJNfRa4=', 'date': 'Thu, 04 May 2017 21:53:00 GMT', 'content-length': '0', 'x-amz-request-id': '28F4FF1DDF0341D8', 'server': 'AmazonS3'}}}\n"
     ]
    }
   ],
   "source": [
    "s3 = boto3.resource('s3')\n",
    "object_acl = s3.ObjectAcl(bucket_name,'hello.txt')\n",
    "response = object_acl.put(\n",
    "    ACL='public-read'\n",
    ")\n",
    "\n",
    "print response"
   ]
  },
  {
   "cell_type": "code",
   "execution_count": null,
   "metadata": {
    "collapsed": true
   },
   "outputs": [],
   "source": [
    "response = client.delete_object(\n",
    "    Bucket=bucket_\n",
    ")"
   ]
  },
  {
   "cell_type": "code",
   "execution_count": 16,
   "metadata": {
    "collapsed": false
   },
   "outputs": [
    {
     "ename": "ClientError",
     "evalue": "An error occurred (BucketNotEmpty) when calling the DeleteBucket operation: The bucket you tried to delete is not empty",
     "output_type": "error",
     "traceback": [
      "\u001b[0;31m---------------------------------------------------------------------------\u001b[0m",
      "\u001b[0;31mClientError\u001b[0m                               Traceback (most recent call last)",
      "\u001b[0;32m<ipython-input-16-a074c5fd1f80>\u001b[0m in \u001b[0;36m<module>\u001b[0;34m()\u001b[0m\n\u001b[1;32m      1\u001b[0m response = s3client.delete_bucket(\n\u001b[0;32m----> 2\u001b[0;31m     \u001b[0mBucket\u001b[0m\u001b[0;34m=\u001b[0m\u001b[0mbucket_name\u001b[0m\u001b[0;34m\u001b[0m\u001b[0m\n\u001b[0m\u001b[1;32m      3\u001b[0m )\n\u001b[1;32m      4\u001b[0m \u001b[0;34m\u001b[0m\u001b[0m\n\u001b[1;32m      5\u001b[0m \u001b[0;34m\u001b[0m\u001b[0m\n",
      "\u001b[0;32m/Users/a045103/.local/lib/python2.7/site-packages/botocore/client.pyc\u001b[0m in \u001b[0;36m_api_call\u001b[0;34m(self, *args, **kwargs)\u001b[0m\n\u001b[1;32m    251\u001b[0m                     \"%s() only accepts keyword arguments.\" % py_operation_name)\n\u001b[1;32m    252\u001b[0m             \u001b[0;31m# The \"self\" in this scope is referring to the BaseClient.\u001b[0m\u001b[0;34m\u001b[0m\u001b[0;34m\u001b[0m\u001b[0m\n\u001b[0;32m--> 253\u001b[0;31m             \u001b[0;32mreturn\u001b[0m \u001b[0mself\u001b[0m\u001b[0;34m.\u001b[0m\u001b[0m_make_api_call\u001b[0m\u001b[0;34m(\u001b[0m\u001b[0moperation_name\u001b[0m\u001b[0;34m,\u001b[0m \u001b[0mkwargs\u001b[0m\u001b[0;34m)\u001b[0m\u001b[0;34m\u001b[0m\u001b[0m\n\u001b[0m\u001b[1;32m    254\u001b[0m \u001b[0;34m\u001b[0m\u001b[0m\n\u001b[1;32m    255\u001b[0m         \u001b[0m_api_call\u001b[0m\u001b[0;34m.\u001b[0m\u001b[0m__name__\u001b[0m \u001b[0;34m=\u001b[0m \u001b[0mstr\u001b[0m\u001b[0;34m(\u001b[0m\u001b[0mpy_operation_name\u001b[0m\u001b[0;34m)\u001b[0m\u001b[0;34m\u001b[0m\u001b[0m\n",
      "\u001b[0;32m/Users/a045103/.local/lib/python2.7/site-packages/botocore/client.pyc\u001b[0m in \u001b[0;36m_make_api_call\u001b[0;34m(self, operation_name, api_params)\u001b[0m\n\u001b[1;32m    555\u001b[0m             \u001b[0merror_code\u001b[0m \u001b[0;34m=\u001b[0m \u001b[0mparsed_response\u001b[0m\u001b[0;34m.\u001b[0m\u001b[0mget\u001b[0m\u001b[0;34m(\u001b[0m\u001b[0;34m\"Error\"\u001b[0m\u001b[0;34m,\u001b[0m \u001b[0;34m{\u001b[0m\u001b[0;34m}\u001b[0m\u001b[0;34m)\u001b[0m\u001b[0;34m.\u001b[0m\u001b[0mget\u001b[0m\u001b[0;34m(\u001b[0m\u001b[0;34m\"Code\"\u001b[0m\u001b[0;34m)\u001b[0m\u001b[0;34m\u001b[0m\u001b[0m\n\u001b[1;32m    556\u001b[0m             \u001b[0merror_class\u001b[0m \u001b[0;34m=\u001b[0m \u001b[0mself\u001b[0m\u001b[0;34m.\u001b[0m\u001b[0mexceptions\u001b[0m\u001b[0;34m.\u001b[0m\u001b[0mfrom_code\u001b[0m\u001b[0;34m(\u001b[0m\u001b[0merror_code\u001b[0m\u001b[0;34m)\u001b[0m\u001b[0;34m\u001b[0m\u001b[0m\n\u001b[0;32m--> 557\u001b[0;31m             \u001b[0;32mraise\u001b[0m \u001b[0merror_class\u001b[0m\u001b[0;34m(\u001b[0m\u001b[0mparsed_response\u001b[0m\u001b[0;34m,\u001b[0m \u001b[0moperation_name\u001b[0m\u001b[0;34m)\u001b[0m\u001b[0;34m\u001b[0m\u001b[0m\n\u001b[0m\u001b[1;32m    558\u001b[0m         \u001b[0;32melse\u001b[0m\u001b[0;34m:\u001b[0m\u001b[0;34m\u001b[0m\u001b[0m\n\u001b[1;32m    559\u001b[0m             \u001b[0;32mreturn\u001b[0m \u001b[0mparsed_response\u001b[0m\u001b[0;34m\u001b[0m\u001b[0m\n",
      "\u001b[0;31mClientError\u001b[0m: An error occurred (BucketNotEmpty) when calling the DeleteBucket operation: The bucket you tried to delete is not empty"
     ]
    }
   ],
   "source": [
    "response = s3client.delete_bucket(\n",
    "    Bucket=bucket_name\n",
    ")\n",
    "\n",
    "\n",
    "print response"
   ]
  },
  {
   "cell_type": "code",
   "execution_count": null,
   "metadata": {
    "collapsed": true
   },
   "outputs": [],
   "source": []
  }
 ],
 "metadata": {
  "kernelspec": {
   "display_name": "Python 2",
   "language": "python",
   "name": "python2"
  },
  "language_info": {
   "codemirror_mode": {
    "name": "ipython",
    "version": 2
   },
   "file_extension": ".py",
   "mimetype": "text/x-python",
   "name": "python",
   "nbconvert_exporter": "python",
   "pygments_lexer": "ipython2",
   "version": "2.7.12"
  }
 },
 "nbformat": 4,
 "nbformat_minor": 0
}
