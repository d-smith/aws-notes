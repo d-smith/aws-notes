{
 "cells": [
  {
   "cell_type": "code",
   "execution_count": 1,
   "metadata": {
    "collapsed": false
   },
   "outputs": [],
   "source": [
    "import boto3\n",
    "import random\n",
    "\n",
    "s3client = boto3.client('s3')"
   ]
  },
  {
   "cell_type": "code",
   "execution_count": 7,
   "metadata": {
    "collapsed": false
   },
   "outputs": [
    {
     "name": "stdout",
     "output_type": "stream",
     "text": [
      "ds-lifecycle-4334435\n"
     ]
    }
   ],
   "source": [
    "# Bucket names are globally unique. Here we'll add a random element to the name to increase the odds of\n",
    "# avoiding a name collision\n",
    "bucket_name = 'ds-lifecycle-' + str(random.randint(1, 9999999))\n",
    "print bucket_name"
   ]
  },
  {
   "cell_type": "code",
   "execution_count": 8,
   "metadata": {
    "collapsed": false
   },
   "outputs": [
    {
     "name": "stdout",
     "output_type": "stream",
     "text": [
      "{u'Location': '/ds-lifecycle-4334435', 'ResponseMetadata': {'HTTPStatusCode': 200, 'RetryAttempts': 0, 'HostId': 'Ilb3YuavEWsJSpoMwzDFhiLrXhciSEfuhqP30wQPqHDiW0iYdZ5qN1Msi4qid8G/nA0DS63ZADw=', 'RequestId': '71DD642BD2646FFF', 'HTTPHeaders': {'content-length': '0', 'x-amz-id-2': 'Ilb3YuavEWsJSpoMwzDFhiLrXhciSEfuhqP30wQPqHDiW0iYdZ5qN1Msi4qid8G/nA0DS63ZADw=', 'server': 'AmazonS3', 'x-amz-request-id': '71DD642BD2646FFF', 'location': '/ds-lifecycle-4334435', 'date': 'Fri, 12 May 2017 12:17:16 GMT'}}}\n"
     ]
    }
   ],
   "source": [
    "response = s3client.create_bucket(\n",
    "    Bucket=bucket_name\n",
    ")\n",
    "\n",
    "print response"
   ]
  },
  {
   "cell_type": "code",
   "execution_count": 10,
   "metadata": {
    "collapsed": false
   },
   "outputs": [
    {
     "name": "stdout",
     "output_type": "stream",
     "text": [
      "{'ResponseMetadata': {'HTTPStatusCode': 200, 'RetryAttempts': 0, 'HostId': 'akR5bKyy5fRpAhHohQEtEra438e6zNF3TAcwhCPhbw7fm/7e+NyDMvSumsZe+o7YRSzHMtmwa9A=', 'RequestId': '7E875F205C45339D', 'HTTPHeaders': {'x-amz-id-2': 'akR5bKyy5fRpAhHohQEtEra438e6zNF3TAcwhCPhbw7fm/7e+NyDMvSumsZe+o7YRSzHMtmwa9A=', 'date': 'Fri, 12 May 2017 12:17:42 GMT', 'content-length': '0', 'x-amz-request-id': '7E875F205C45339D', 'server': 'AmazonS3'}}}\n"
     ]
    }
   ],
   "source": [
    "# Execute this cell to enable versioning. Once versioning is enable for a bucket it cannot be removed,\n",
    "# although it can be disabled.\n",
    "response = s3client.put_bucket_versioning(\n",
    "    Bucket=bucket_name,\n",
    "    VersioningConfiguration={\n",
    "        'MFADelete': 'Disabled',\n",
    "        'Status': 'Enabled'\n",
    "    }\n",
    ")\n",
    "\n",
    "print response"
   ]
  },
  {
   "cell_type": "code",
   "execution_count": 12,
   "metadata": {
    "collapsed": false
   },
   "outputs": [
    {
     "name": "stdout",
     "output_type": "stream",
     "text": [
      "{'ResponseMetadata': {'HTTPStatusCode': 200, 'RetryAttempts': 0, 'HostId': 'DzAIDqfPJBaWvdFXPvffMyXoavzosGHwnnVf2fAPiH7JUh+P8IBJ3po8XOdk1iE6v0NMXhdO5dc=', 'RequestId': 'E7ADB6D8984D5C2A', 'HTTPHeaders': {'x-amz-id-2': 'DzAIDqfPJBaWvdFXPvffMyXoavzosGHwnnVf2fAPiH7JUh+P8IBJ3po8XOdk1iE6v0NMXhdO5dc=', 'date': 'Fri, 12 May 2017 12:20:01 GMT', 'content-length': '0', 'x-amz-request-id': 'E7ADB6D8984D5C2A', 'server': 'AmazonS3'}}}\n"
     ]
    }
   ],
   "source": [
    "# Transition the current version of the object to IA storage 30 days after create\n",
    "response = s3client.put_bucket_lifecycle(\n",
    "    Bucket=bucket_name,\n",
    "    LifecycleConfiguration={\n",
    "        'Rules': [\n",
    "            {\n",
    "                'ID' : 'move to IA after 30 rule',\n",
    "                'Prefix':'',\n",
    "                'Status':'Enabled',\n",
    "                'Transition': {\n",
    "                    'Days': 30,\n",
    "                    'StorageClass':'STANDARD_IA'\n",
    "                }\n",
    "            }\n",
    "        ]\n",
    "    }\n",
    ")\n",
    "\n",
    "print response"
   ]
  },
  {
   "cell_type": "code",
   "execution_count": 13,
   "metadata": {
    "collapsed": false
   },
   "outputs": [
    {
     "name": "stdout",
     "output_type": "stream",
     "text": [
      "{u'Rules': [{u'Status': 'Enabled', u'Prefix': '', u'Transition': {u'Days': 30, u'StorageClass': 'STANDARD_IA'}, u'ID': 'move to IA after 30 rule'}], 'ResponseMetadata': {'HTTPStatusCode': 200, 'RetryAttempts': 0, 'HostId': 'GM1Tq32760ec7u5suDwf5+V+DNyvekmfhJ84cgZeR2SUHjb9NzWqW7YyUaAOvI5ECPaHmEEBrgs=', 'RequestId': '082553EB0806E042', 'HTTPHeaders': {'x-amz-id-2': 'GM1Tq32760ec7u5suDwf5+V+DNyvekmfhJ84cgZeR2SUHjb9NzWqW7YyUaAOvI5ECPaHmEEBrgs=', 'date': 'Fri, 12 May 2017 12:20:11 GMT', 'transfer-encoding': 'chunked', 'x-amz-request-id': '082553EB0806E042', 'server': 'AmazonS3'}}}\n"
     ]
    }
   ],
   "source": [
    "response = s3client.get_bucket_lifecycle(\n",
    "    Bucket=bucket_name\n",
    ")\n",
    "\n",
    "print response"
   ]
  },
  {
   "cell_type": "code",
   "execution_count": null,
   "metadata": {
    "collapsed": true
   },
   "outputs": [],
   "source": [
    "f = open(\"./hello.txt\",\"w\")\n",
    "f.write(\"hello, world\")\n",
    "f.close()"
   ]
  },
  {
   "cell_type": "code",
   "execution_count": null,
   "metadata": {
    "collapsed": false
   },
   "outputs": [],
   "source": [
    "s3 = boto3.resource('s3')\n",
    "response = s3.meta.client.upload_file('./hello.txt', bucket_name, 'hello.txt')\n",
    "print response"
   ]
  },
  {
   "cell_type": "code",
   "execution_count": null,
   "metadata": {
    "collapsed": false
   },
   "outputs": [],
   "source": [
    "s3 = boto3.resource('s3')\n",
    "object_acl = s3.ObjectAcl(bucket_name,'hello.txt')\n",
    "response = object_acl.put(\n",
    "    ACL='public-read'\n",
    ")\n",
    "\n",
    "print response"
   ]
  },
  {
   "cell_type": "code",
   "execution_count": null,
   "metadata": {
    "collapsed": true
   },
   "outputs": [],
   "source": [
    "f = open(\"./hello.txt\",\"w\")\n",
    "f.write(\"hello, world -- again\")\n",
    "f.close()"
   ]
  },
  {
   "cell_type": "code",
   "execution_count": null,
   "metadata": {
    "collapsed": false
   },
   "outputs": [],
   "source": [
    "s3 = boto3.resource('s3')\n",
    "response = s3.meta.client.upload_file('./hello.txt', bucket_name, 'hello.txt')\n",
    "print response"
   ]
  },
  {
   "cell_type": "code",
   "execution_count": null,
   "metadata": {
    "collapsed": false
   },
   "outputs": [],
   "source": [
    "s3 = boto3.resource('s3')\n",
    "object_acl = s3.ObjectAcl(bucket_name,'hello.txt')\n",
    "response = object_acl.put(\n",
    "    ACL='public-read'\n",
    ")\n",
    "\n",
    "print response"
   ]
  },
  {
   "cell_type": "code",
   "execution_count": null,
   "metadata": {
    "collapsed": false
   },
   "outputs": [],
   "source": [
    "response = s3client.list_object_versions(\n",
    "    Bucket=bucket_name,\n",
    "    Prefix='hello.txt',\n",
    "    MaxKeys=100\n",
    ")\n",
    "\n",
    "\n",
    "versions = response['Versions']\n",
    "for version in versions:\n",
    "    print \"key: '{}' version {}\".format(version['Key'], version['VersionId'])\n"
   ]
  },
  {
   "cell_type": "code",
   "execution_count": null,
   "metadata": {
    "collapsed": false
   },
   "outputs": [],
   "source": [
    "# This one does a delete on the object. In the console you can see the deleted versions and marker\n",
    "response = s3client.delete_object(\n",
    "        Bucket=bucket_name,\n",
    "        Key='hello.txt'\n",
    ")\n",
    "\n",
    "print response"
   ]
  },
  {
   "cell_type": "code",
   "execution_count": null,
   "metadata": {
    "collapsed": false
   },
   "outputs": [],
   "source": [
    "response = s3client.list_object_versions(\n",
    "    Bucket=bucket_name,\n",
    "    Prefix='hello.txt',\n",
    "    MaxKeys=100\n",
    ")\n",
    "\n",
    "\n",
    "print response\n",
    "\n",
    "if 'Versions' in response:\n",
    "    versions = response['Versions']\n",
    "    for v in versions:\n",
    "        print v['Key']\n",
    "else:\n",
    "    print 'No versions'\n",
    "    \n"
   ]
  },
  {
   "cell_type": "code",
   "execution_count": null,
   "metadata": {
    "collapsed": false
   },
   "outputs": [],
   "source": [
    "if 'DeleteMarkers' in response:\n",
    "    deleteMarkers = response['DeleteMarkers']\n",
    "    for dm in deleteMarkers:\n",
    "        print dm\n",
    "else:\n",
    "    print 'No delete markers'"
   ]
  },
  {
   "cell_type": "code",
   "execution_count": null,
   "metadata": {
    "collapsed": false
   },
   "outputs": [],
   "source": [
    "# This cell deletes all the object versions in the bucket. There's no restore/delete marker after this.\n",
    "for version in versions:\n",
    "    response = s3client.delete_object(\n",
    "        Bucket=bucket_name,\n",
    "        Key=version['Key'],\n",
    "        VersionId=version['VersionId']\n",
    "    )\n",
    "\n",
    "    print response"
   ]
  },
  {
   "cell_type": "code",
   "execution_count": null,
   "metadata": {
    "collapsed": false
   },
   "outputs": [],
   "source": [
    "# This cell deletes all the delete markers in the bucket. If you delete an object (just the object, not all the \n",
    "# object versions( then delete the deletemarker, this 'restores' the object.\n",
    "response = s3client.list_object_versions(\n",
    "    Bucket=bucket_name,\n",
    "    Prefix='hello.txt',\n",
    "    MaxKeys=100\n",
    ")\n",
    "\n",
    "if 'DeleteMarkers' in response:\n",
    "    deleteMarkers = response['DeleteMarkers']\n",
    "    for dm in deleteMarkers:\n",
    "        response = s3client.delete_object(\n",
    "            Bucket=bucket_name,\n",
    "            Key=dm['Key'],\n",
    "            VersionId=dm['VersionId']\n",
    "        )\n",
    "        \n",
    "        print response\n",
    "else:\n",
    "    print 'No delete markers to delete'"
   ]
  },
  {
   "cell_type": "code",
   "execution_count": 14,
   "metadata": {
    "collapsed": false
   },
   "outputs": [
    {
     "name": "stdout",
     "output_type": "stream",
     "text": [
      "{'ResponseMetadata': {'HTTPStatusCode': 204, 'RetryAttempts': 0, 'HostId': 'jcB+G9UhAGmP5t6LziwEStEYe40rewFoUJlrGSXdOZl31bY/vERbpwe0MKeEPZbFdRE1urRN+SY=', 'RequestId': '4400F02C8B901980', 'HTTPHeaders': {'x-amz-id-2': 'jcB+G9UhAGmP5t6LziwEStEYe40rewFoUJlrGSXdOZl31bY/vERbpwe0MKeEPZbFdRE1urRN+SY=', 'date': 'Fri, 12 May 2017 12:20:37 GMT', 'x-amz-request-id': '4400F02C8B901980', 'server': 'AmazonS3'}}}\n"
     ]
    }
   ],
   "source": [
    "response = s3client.delete_bucket(\n",
    "    Bucket=bucket_name\n",
    ")\n",
    "\n",
    "\n",
    "print response"
   ]
  },
  {
   "cell_type": "code",
   "execution_count": null,
   "metadata": {
    "collapsed": true
   },
   "outputs": [],
   "source": []
  }
 ],
 "metadata": {
  "kernelspec": {
   "display_name": "Python 2",
   "language": "python",
   "name": "python2"
  },
  "language_info": {
   "codemirror_mode": {
    "name": "ipython",
    "version": 2
   },
   "file_extension": ".py",
   "mimetype": "text/x-python",
   "name": "python",
   "nbconvert_exporter": "python",
   "pygments_lexer": "ipython2",
   "version": "2.7.12"
  }
 },
 "nbformat": 4,
 "nbformat_minor": 0
}
