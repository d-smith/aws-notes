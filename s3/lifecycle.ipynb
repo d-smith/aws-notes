{
 "cells": [
  {
   "cell_type": "code",
   "execution_count": null,
   "metadata": {
    "collapsed": false
   },
   "outputs": [],
   "source": [
    "import boto3\n",
    "import random\n",
    "\n",
    "s3client = boto3.client('s3')"
   ]
  },
  {
   "cell_type": "code",
   "execution_count": null,
   "metadata": {
    "collapsed": false
   },
   "outputs": [],
   "source": [
    "# Bucket names are globally unique. Here we'll add a random element to the name to increase the odds of\n",
    "# avoiding a name collision\n",
    "bucket_name = 'ds-lifecycle-' + str(random.randint(1, 9999999))\n",
    "print bucket_name"
   ]
  },
  {
   "cell_type": "code",
   "execution_count": null,
   "metadata": {
    "collapsed": false
   },
   "outputs": [],
   "source": [
    "response = s3client.create_bucket(\n",
    "    Bucket=bucket_name\n",
    ")\n",
    "\n",
    "print response"
   ]
  },
  {
   "cell_type": "code",
   "execution_count": null,
   "metadata": {
    "collapsed": false
   },
   "outputs": [],
   "source": [
    "# Execute this cell to enable versioning. Once versioning is enable for a bucket it cannot be removed,\n",
    "# although it can be disabled.\n",
    "response = s3client.put_bucket_versioning(\n",
    "    Bucket=bucket_name,\n",
    "    VersioningConfiguration={\n",
    "        'MFADelete': 'Disabled',\n",
    "        'Status': 'Enabled'\n",
    "    }\n",
    ")\n",
    "\n",
    "print response"
   ]
  },
  {
   "cell_type": "code",
   "execution_count": null,
   "metadata": {
    "collapsed": false
   },
   "outputs": [],
   "source": [
    "# Transition the current version of the object to IA storage 30 days after create, to glacier\n",
    "# 60 days after create, and expire after 90 days\n",
    "\n",
    "# For buckets with versioning enabled, expiration means making the current version the previous version,\n",
    "# and creating a delete marker as the current version.\n",
    "response = s3client.put_bucket_lifecycle_configuration(\n",
    "    Bucket=bucket_name,\n",
    "    LifecycleConfiguration={\n",
    "        'Rules': [\n",
    "            {\n",
    "                \n",
    "                'ID': 'r1',\n",
    "                'Prefix': '',\n",
    "                'Status': 'Enabled',\n",
    "                'Transitions': [\n",
    "                    {\n",
    "                        'Days': 30,\n",
    "                        'StorageClass': 'STANDARD_IA'\n",
    "                    },\n",
    "                    {\n",
    "                        'Days': 60,\n",
    "                        'StorageClass': 'GLACIER'\n",
    "                    }\n",
    "                ],\n",
    "                'Expiration': {\n",
    "                    'Days': 90\n",
    "                }\n",
    "            }\n",
    "        ]\n",
    "    }\n",
    ")\n",
    "\n",
    "print response"
   ]
  },
  {
   "cell_type": "code",
   "execution_count": null,
   "metadata": {
    "collapsed": false
   },
   "outputs": [],
   "source": [
    "response = s3client.get_bucket_lifecycle_configuration(\n",
    "    Bucket=bucket_name\n",
    ")\n",
    "\n",
    "print response"
   ]
  },
  {
   "cell_type": "code",
   "execution_count": null,
   "metadata": {
    "collapsed": true
   },
   "outputs": [],
   "source": [
    "f = open(\"./hello.txt\",\"w\")\n",
    "f.write(\"hello, world\")\n",
    "f.close()"
   ]
  },
  {
   "cell_type": "code",
   "execution_count": null,
   "metadata": {
    "collapsed": false
   },
   "outputs": [],
   "source": [
    "s3 = boto3.resource('s3')\n",
    "response = s3.meta.client.upload_file('./hello.txt', bucket_name, 'hello.txt')\n",
    "print response"
   ]
  },
  {
   "cell_type": "code",
   "execution_count": null,
   "metadata": {
    "collapsed": false
   },
   "outputs": [],
   "source": [
    "s3 = boto3.resource('s3')\n",
    "object_acl = s3.ObjectAcl(bucket_name,'hello.txt')\n",
    "response = object_acl.put(\n",
    "    ACL='public-read'\n",
    ")\n",
    "\n",
    "print response"
   ]
  },
  {
   "cell_type": "code",
   "execution_count": null,
   "metadata": {
    "collapsed": true
   },
   "outputs": [],
   "source": [
    "f = open(\"./hello.txt\",\"w\")\n",
    "f.write(\"hello, world -- again\")\n",
    "f.close()"
   ]
  },
  {
   "cell_type": "code",
   "execution_count": null,
   "metadata": {
    "collapsed": false
   },
   "outputs": [],
   "source": [
    "s3 = boto3.resource('s3')\n",
    "response = s3.meta.client.upload_file('./hello.txt', bucket_name, 'hello.txt')\n",
    "print response"
   ]
  },
  {
   "cell_type": "code",
   "execution_count": null,
   "metadata": {
    "collapsed": false
   },
   "outputs": [],
   "source": [
    "s3 = boto3.resource('s3')\n",
    "object_acl = s3.ObjectAcl(bucket_name,'hello.txt')\n",
    "response = object_acl.put(\n",
    "    ACL='public-read'\n",
    ")\n",
    "\n",
    "print response"
   ]
  },
  {
   "cell_type": "code",
   "execution_count": null,
   "metadata": {
    "collapsed": false
   },
   "outputs": [],
   "source": [
    "response = s3client.list_object_versions(\n",
    "    Bucket=bucket_name,\n",
    "    Prefix='hello.txt',\n",
    "    MaxKeys=100\n",
    ")\n",
    "\n",
    "\n",
    "versions = response['Versions']\n",
    "for version in versions:\n",
    "    print \"key: '{}' version {}\".format(version['Key'], version['VersionId'])\n"
   ]
  },
  {
   "cell_type": "code",
   "execution_count": null,
   "metadata": {
    "collapsed": false
   },
   "outputs": [],
   "source": [
    "# This one does a delete on the object. In the console you can see the deleted versions and marker\n",
    "response = s3client.delete_object(\n",
    "        Bucket=bucket_name,\n",
    "        Key='hello.txt'\n",
    ")\n",
    "\n",
    "print response"
   ]
  },
  {
   "cell_type": "code",
   "execution_count": null,
   "metadata": {
    "collapsed": false
   },
   "outputs": [],
   "source": [
    "response = s3client.list_object_versions(\n",
    "    Bucket=bucket_name,\n",
    "    Prefix='hello.txt',\n",
    "    MaxKeys=100\n",
    ")\n",
    "\n",
    "\n",
    "print response\n",
    "\n",
    "if 'Versions' in response:\n",
    "    versions = response['Versions']\n",
    "    for v in versions:\n",
    "        print v['Key']\n",
    "else:\n",
    "    print 'No versions'\n",
    "    \n"
   ]
  },
  {
   "cell_type": "code",
   "execution_count": null,
   "metadata": {
    "collapsed": false
   },
   "outputs": [],
   "source": [
    "if 'DeleteMarkers' in response:\n",
    "    deleteMarkers = response['DeleteMarkers']\n",
    "    for dm in deleteMarkers:\n",
    "        print dm\n",
    "else:\n",
    "    print 'No delete markers'"
   ]
  },
  {
   "cell_type": "code",
   "execution_count": null,
   "metadata": {
    "collapsed": false
   },
   "outputs": [],
   "source": [
    "# This cell deletes all the object versions in the bucket. There's no restore/delete marker after this.\n",
    "for version in versions:\n",
    "    response = s3client.delete_object(\n",
    "        Bucket=bucket_name,\n",
    "        Key=version['Key'],\n",
    "        VersionId=version['VersionId']\n",
    "    )\n",
    "\n",
    "    print response"
   ]
  },
  {
   "cell_type": "code",
   "execution_count": null,
   "metadata": {
    "collapsed": false
   },
   "outputs": [],
   "source": [
    "# This cell deletes all the delete markers in the bucket. If you delete an object (just the object, not all the \n",
    "# object versions( then delete the deletemarker, this 'restores' the object.\n",
    "response = s3client.list_object_versions(\n",
    "    Bucket=bucket_name,\n",
    "    Prefix='hello.txt',\n",
    "    MaxKeys=100\n",
    ")\n",
    "\n",
    "if 'DeleteMarkers' in response:\n",
    "    deleteMarkers = response['DeleteMarkers']\n",
    "    for dm in deleteMarkers:\n",
    "        response = s3client.delete_object(\n",
    "            Bucket=bucket_name,\n",
    "            Key=dm['Key'],\n",
    "            VersionId=dm['VersionId']\n",
    "        )\n",
    "        \n",
    "        print response\n",
    "else:\n",
    "    print 'No delete markers to delete'"
   ]
  },
  {
   "cell_type": "code",
   "execution_count": null,
   "metadata": {
    "collapsed": false
   },
   "outputs": [],
   "source": [
    "response = s3client.delete_bucket(\n",
    "    Bucket=bucket_name\n",
    ")\n",
    "\n",
    "print response"
   ]
  },
  {
   "cell_type": "code",
   "execution_count": null,
   "metadata": {
    "collapsed": true
   },
   "outputs": [],
   "source": []
  }
 ],
 "metadata": {
  "kernelspec": {
   "display_name": "Python 2",
   "language": "python",
   "name": "python2"
  },
  "language_info": {
   "codemirror_mode": {
    "name": "ipython",
    "version": 2
   },
   "file_extension": ".py",
   "mimetype": "text/x-python",
   "name": "python",
   "nbconvert_exporter": "python",
   "pygments_lexer": "ipython2",
   "version": "2.7.12"
  }
 },
 "nbformat": 4,
 "nbformat_minor": 0
}
