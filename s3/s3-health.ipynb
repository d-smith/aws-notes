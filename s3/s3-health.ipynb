{
 "cells": [
  {
   "cell_type": "markdown",
   "metadata": {},
   "source": [
    "### S3 Endpoint Health Checks\n",
    "\n",
    "We've seen a couple outages in us-east-1 with s3 recently. If an outage can have an adverse impact to your\n",
    "application or its users, you should leverage the tools that AWS provides, such as multiple regions, s3\n",
    "replication, health checks and so on to build resiliant appications.\n",
    "\n",
    "This workbook shows how to create health checks for an s3 endpoint. An application could set these up to determine which replicated s3 regions are healthy and send traffic appropriately."
   ]
  },
  {
   "cell_type": "code",
   "execution_count": null,
   "metadata": {
    "collapsed": true
   },
   "outputs": [],
   "source": [
    "# Pick an s3 endpoint to health check - see http://docs.aws.amazon.com/general/latest/gr/rande.html\n",
    "s3_endpoint = 's3-us-west-2.amazonaws.com'"
   ]
  },
  {
   "cell_type": "code",
   "execution_count": null,
   "metadata": {
    "collapsed": false
   },
   "outputs": [],
   "source": [
    "import boto3\n",
    "import uuid\n",
    "\n",
    "client = boto3.client('route53')\n",
    "\n",
    "\n",
    "response = client.create_health_check(\n",
    "    \n",
    "    CallerReference=str(uuid.uuid4()),\n",
    "    HealthCheckConfig={\n",
    "        'Type':'HTTPS',\n",
    "        'ResourcePath':'/',\n",
    "        'FullyQualifiedDomainName':s3_endpoint\n",
    "    }\n",
    ")\n",
    "\n",
    "print response"
   ]
  },
  {
   "cell_type": "code",
   "execution_count": null,
   "metadata": {
    "collapsed": false
   },
   "outputs": [],
   "source": [
    "# Name the health check\n",
    "hc_id = response['HealthCheck']['Id']\n",
    "\n",
    "tag_resp = client.change_tags_for_resource(\n",
    "    ResourceType='healthcheck',\n",
    "    ResourceId=hc_id,\n",
    "    AddTags=[\n",
    "        {\n",
    "            'Key':'Name',\n",
    "            'Value':'SampleHC'\n",
    "        },\n",
    "    ]\n",
    ")\n",
    "\n",
    "print tag_resp"
   ]
  },
  {
   "cell_type": "code",
   "execution_count": null,
   "metadata": {
    "collapsed": false
   },
   "outputs": [],
   "source": [
    "# Check the health check status\n",
    "response = client.get_health_check_status(\n",
    "    HealthCheckId=hc_id\n",
    ")\n",
    "\n",
    "print response"
   ]
  },
  {
   "cell_type": "code",
   "execution_count": null,
   "metadata": {
    "collapsed": true
   },
   "outputs": [],
   "source": [
    "response = client.delete_health_check(\n",
    "    HealthCheckId=hc_id\n",
    ")"
   ]
  },
  {
   "cell_type": "code",
   "execution_count": null,
   "metadata": {
    "collapsed": false
   },
   "outputs": [],
   "source": [
    "print response"
   ]
  },
  {
   "cell_type": "code",
   "execution_count": null,
   "metadata": {
    "collapsed": true
   },
   "outputs": [],
   "source": []
  }
 ],
 "metadata": {
  "kernelspec": {
   "display_name": "Python 2",
   "language": "python",
   "name": "python2"
  },
  "language_info": {
   "codemirror_mode": {
    "name": "ipython",
    "version": 2
   },
   "file_extension": ".py",
   "mimetype": "text/x-python",
   "name": "python",
   "nbconvert_exporter": "python",
   "pygments_lexer": "ipython2",
   "version": "2.7.12"
  }
 },
 "nbformat": 4,
 "nbformat_minor": 0
}
