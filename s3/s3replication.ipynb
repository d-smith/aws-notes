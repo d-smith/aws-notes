{
 "cells": [
  {
   "cell_type": "code",
   "execution_count": null,
   "metadata": {
    "collapsed": true
   },
   "outputs": [],
   "source": [
    "import boto3\n",
    "import random\n",
    "\n",
    "s3client = boto3.client('s3')"
   ]
  },
  {
   "cell_type": "code",
   "execution_count": null,
   "metadata": {
    "collapsed": false
   },
   "outputs": [],
   "source": [
    "# Bucket names are globally unique. Here we'll add a random element to the name to increase the odds of\n",
    "# avoiding a name collision\n",
    "bucket1 = 'ds-e1-' + str(random.randint(1, 9999999))\n",
    "print bucket1\n",
    "\n",
    "bucket2 = 'ds-e2-' + str(random.randint(1, 9999999))\n",
    "print bucket2"
   ]
  },
  {
   "cell_type": "code",
   "execution_count": null,
   "metadata": {
    "collapsed": false
   },
   "outputs": [],
   "source": [
    "# Create bucket 1\n",
    "response = s3client.create_bucket(\n",
    "    Bucket=bucket1,\n",
    "    CreateBucketConfiguration={\n",
    "        'LocationConstraint': 'us-west-1'\n",
    "    }\n",
    ")\n",
    "\n",
    "print response"
   ]
  },
  {
   "cell_type": "code",
   "execution_count": null,
   "metadata": {
    "collapsed": false
   },
   "outputs": [],
   "source": [
    "# Create bucket 2\n",
    "response = s3client.create_bucket(\n",
    "    Bucket=bucket2,\n",
    "    CreateBucketConfiguration={\n",
    "        'LocationConstraint': 'eu-west-1'\n",
    "    }\n",
    ")\n",
    "\n",
    "print response"
   ]
  },
  {
   "cell_type": "code",
   "execution_count": null,
   "metadata": {
    "collapsed": false
   },
   "outputs": [],
   "source": [
    "# Versioning needs to be enable for cross region replication\n",
    "response = s3client.put_bucket_versioning(\n",
    "    Bucket=bucket1,\n",
    "    VersioningConfiguration={\n",
    "        'MFADelete': 'Disabled',\n",
    "        'Status': 'Enabled'\n",
    "    }\n",
    ")\n",
    "\n",
    "print response\n",
    "\n",
    "response = s3client.put_bucket_versioning(\n",
    "    Bucket=bucket2,\n",
    "    VersioningConfiguration={\n",
    "        'MFADelete': 'Disabled',\n",
    "        'Status': 'Enabled'\n",
    "    }\n",
    ")\n",
    "\n",
    "print response"
   ]
  },
  {
   "cell_type": "code",
   "execution_count": null,
   "metadata": {
    "collapsed": true
   },
   "outputs": [],
   "source": [
    "assume_role_policy_doc = \"\"\"{\n",
    "   \"Version\":\"2012-10-17\",\n",
    "   \"Statement\":[\n",
    "      {\n",
    "         \"Effect\":\"Allow\",\n",
    "         \"Principal\":{\n",
    "            \"Service\":\"s3.amazonaws.com\"\n",
    "         },\n",
    "         \"Action\":\"sts:AssumeRole\"\n",
    "      }\n",
    "   ]\n",
    "}\"\"\""
   ]
  },
  {
   "cell_type": "code",
   "execution_count": null,
   "metadata": {
    "collapsed": false
   },
   "outputs": [],
   "source": [
    "iam_client = boto3.client('iam')\n",
    "response = iam_client.create_role(\n",
    "    AssumeRolePolicyDocument=assume_role_policy_doc,\n",
    "    Path='/',\n",
    "    RoleName='My-S3-Rep-Role',\n",
    ")\n",
    "\n",
    "print response\n",
    "\n",
    "roleArn = response['Role']['Arn']\n",
    "print roleArn"
   ]
  },
  {
   "cell_type": "code",
   "execution_count": null,
   "metadata": {
    "collapsed": false
   },
   "outputs": [],
   "source": [
    "permissions_policy = \"\"\"{\n",
    "   \"Version\":\"2012-10-17\",\n",
    "   \"Statement\":[\n",
    "      {\n",
    "         \"Effect\":\"Allow\",\n",
    "         \"Action\":[\n",
    "            \"s3:GetObjectVersion\",\n",
    "            \"s3:GetObjectVersionAcl\"\n",
    "         ],\n",
    "         \"Resource\":[\n",
    "            \"arn:aws:s3:::\"\"\" + bucket1 + \"\"\"/*\"\n",
    "         ]\n",
    "      },\n",
    "      {\n",
    "         \"Effect\":\"Allow\",\n",
    "         \"Action\":[\n",
    "            \"s3:ListBucket\",\n",
    "            \"s3:GetReplicationConfiguration\"\n",
    "         ],\n",
    "         \"Resource\":[\n",
    "            \"arn:aws:s3:::\"\"\" + bucket1 + \"\"\"\"\n",
    "         ]\n",
    "      },\n",
    "      {\n",
    "         \"Effect\":\"Allow\",\n",
    "         \"Action\":[\n",
    "            \"s3:ReplicateObject\",\n",
    "            \"s3:ReplicateDelete\"\n",
    "         ],\n",
    "         \"Resource\":\"arn:aws:s3:::\"\"\" + bucket2 + \"\"\"/*\"\n",
    "      }\n",
    "   ]\n",
    "}\"\"\"\n",
    "\n"
   ]
  },
  {
   "cell_type": "code",
   "execution_count": null,
   "metadata": {
    "collapsed": false
   },
   "outputs": [],
   "source": [
    "response = iam_client.create_policy(\n",
    "    PolicyName='My-S3-Repl-Policy',\n",
    "    Path='/',\n",
    "    PolicyDocument=permissions_policy\n",
    ")\n",
    "\n",
    "print response\n",
    "\n",
    "policyArn = response['Policy']['Arn']\n",
    "print policyArn"
   ]
  },
  {
   "cell_type": "code",
   "execution_count": null,
   "metadata": {
    "collapsed": false
   },
   "outputs": [],
   "source": [
    "# Attach policy to role\n",
    "response = iam_client.attach_role_policy(\n",
    "    RoleName='My-S3-Rep-Role',\n",
    "    PolicyArn=policyArn\n",
    ")\n",
    "\n",
    "print response"
   ]
  },
  {
   "cell_type": "code",
   "execution_count": null,
   "metadata": {
    "collapsed": false
   },
   "outputs": [],
   "source": [
    "# Enable replication\n",
    "response = s3client.put_bucket_replication(\n",
    "    Bucket=bucket1,\n",
    "    ReplicationConfiguration={\n",
    "        'Role': roleArn,\n",
    "        'Rules': [\n",
    "            {\n",
    "                'ID': 'string',\n",
    "                'Prefix': '',\n",
    "                'Status': 'Enabled',\n",
    "                'Destination': {\n",
    "                    'Bucket': 'arn:aws:s3:::' + bucket2,\n",
    "                    'StorageClass': 'STANDARD'\n",
    "                }\n",
    "            },\n",
    "        ]\n",
    "    }\n",
    ")\n",
    "\n",
    "print response"
   ]
  },
  {
   "cell_type": "code",
   "execution_count": null,
   "metadata": {
    "collapsed": true
   },
   "outputs": [],
   "source": [
    "f = open(\"./yo.txt\",\"w\")\n",
    "f.write(\"yo, world\")\n",
    "f.close()"
   ]
  },
  {
   "cell_type": "code",
   "execution_count": null,
   "metadata": {
    "collapsed": false
   },
   "outputs": [],
   "source": [
    "#Upload to bucket 1\n",
    "s3 = boto3.resource('s3')\n",
    "response = s3.meta.client.upload_file('./yo.txt', bucket1, 'yo.txt')\n",
    "print response"
   ]
  },
  {
   "cell_type": "code",
   "execution_count": null,
   "metadata": {
    "collapsed": false
   },
   "outputs": [],
   "source": [
    "# List objects in bucket2\n",
    "response = s3client.list_objects_v2(\n",
    "    Bucket=bucket2\n",
    ")\n",
    "\n",
    "print response"
   ]
  },
  {
   "cell_type": "code",
   "execution_count": null,
   "metadata": {
    "collapsed": false
   },
   "outputs": [],
   "source": [
    "# Detach policy\n",
    "response = iam_client.detach_role_policy(\n",
    "    RoleName='My-S3-Rep-Role',\n",
    "    PolicyArn=policyArn\n",
    ")\n",
    "\n",
    "print response"
   ]
  },
  {
   "cell_type": "code",
   "execution_count": null,
   "metadata": {
    "collapsed": false
   },
   "outputs": [],
   "source": [
    "# Delete policy\n",
    "response = iam_client.delete_policy(\n",
    "    PolicyArn=policyArn\n",
    ")\n",
    "\n",
    "print response"
   ]
  },
  {
   "cell_type": "code",
   "execution_count": null,
   "metadata": {
    "collapsed": false
   },
   "outputs": [],
   "source": [
    "# Delete role\n",
    "response = iam_client.delete_role(\n",
    "    RoleName='My-S3-Rep-Role',\n",
    ")\n",
    "\n",
    "print response"
   ]
  },
  {
   "cell_type": "code",
   "execution_count": null,
   "metadata": {
    "collapsed": false
   },
   "outputs": [],
   "source": [
    "# Clean up - bucket 1\n",
    "response = s3client.list_object_versions(\n",
    "    Bucket=bucket1,\n",
    "    Prefix='',\n",
    "    MaxKeys=100\n",
    ")\n",
    "\n",
    "\n",
    "print response\n",
    "\n",
    "if 'Versions' in response:\n",
    "    versions = response['Versions']\n",
    "    for v in versions:\n",
    "        print v['Key']\n",
    "else:\n",
    "    print 'No versions'\n",
    "    \n",
    "\n",
    "\n",
    "for version in versions:\n",
    "    response = s3client.delete_object(\n",
    "        Bucket=bucket1,\n",
    "        Key=version['Key'],\n",
    "        VersionId=version['VersionId']\n",
    "    )\n",
    "\n",
    "    print response\n",
    "\n",
    "response = s3client.delete_bucket(\n",
    "    Bucket=bucket1\n",
    ")\n",
    "\n",
    "print response"
   ]
  },
  {
   "cell_type": "code",
   "execution_count": null,
   "metadata": {
    "collapsed": true
   },
   "outputs": [],
   "source": []
  },
  {
   "cell_type": "code",
   "execution_count": null,
   "metadata": {
    "collapsed": false
   },
   "outputs": [],
   "source": [
    "response = s3client.list_object_versions(\n",
    "    Bucket=bucket2,\n",
    "    Prefix='',\n",
    "    MaxKeys=100\n",
    ")\n",
    "\n",
    "\n",
    "print response\n",
    "\n",
    "if 'Versions' in response:\n",
    "    versions = response['Versions']\n",
    "    for v in versions:\n",
    "        print v['Key']\n",
    "else:\n",
    "    print 'No versions'\n",
    "    \n",
    "\n",
    "\n",
    "for version in versions:\n",
    "    response = s3client.delete_object(\n",
    "        Bucket=bucket2,\n",
    "        Key=version['Key'],\n",
    "        VersionId=version['VersionId']\n",
    "    )\n",
    "\n",
    "    print response\n",
    "\n",
    "response = s3client.delete_bucket(\n",
    "    Bucket=bucket2\n",
    ")\n",
    "\n",
    "print response"
   ]
  },
  {
   "cell_type": "code",
   "execution_count": null,
   "metadata": {
    "collapsed": true
   },
   "outputs": [],
   "source": []
  }
 ],
 "metadata": {
  "kernelspec": {
   "display_name": "Python 2",
   "language": "python",
   "name": "python2"
  },
  "language_info": {
   "codemirror_mode": {
    "name": "ipython",
    "version": 2
   },
   "file_extension": ".py",
   "mimetype": "text/x-python",
   "name": "python",
   "nbconvert_exporter": "python",
   "pygments_lexer": "ipython2",
   "version": "2.7.12"
  }
 },
 "nbformat": 4,
 "nbformat_minor": 0
}
