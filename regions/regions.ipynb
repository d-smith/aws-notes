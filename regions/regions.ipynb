{
 "cells": [
  {
   "cell_type": "code",
   "execution_count": 1,
   "metadata": {
    "collapsed": false
   },
   "outputs": [
    {
     "name": "stdout",
     "output_type": "stream",
     "text": [
      "My region:  ca-central-1\n",
      "Regions:\n",
      "\tap-south-1\n",
      "\teu-west-2\n",
      "\teu-west-1\n",
      "\tap-northeast-2\n",
      "\tap-northeast-1\n",
      "\tsa-east-1\n",
      "\tca-central-1\n",
      "\tap-southeast-1\n",
      "\tap-southeast-2\n",
      "\teu-central-1\n",
      "\tus-east-1\n",
      "\tus-east-2\n",
      "\tus-west-1\n",
      "\tus-west-2\n"
     ]
    }
   ],
   "source": [
    "import boto3\n",
    "\n",
    "client = boto3.client('ec2')\n",
    "\n",
    "my_session = boto3.session.Session()\n",
    "my_region = my_session.region_name\n",
    "print 'My region: ', my_region\n",
    "\n",
    "print 'Regions:'\n",
    "response = client.describe_regions()\n",
    "regions = response['Regions']\n",
    "for r in regions:\n",
    "    print '\\t', r['RegionName']\n",
    "\n"
   ]
  },
  {
   "cell_type": "code",
   "execution_count": null,
   "metadata": {
    "collapsed": true
   },
   "outputs": [],
   "source": []
  }
 ],
 "metadata": {
  "kernelspec": {
   "display_name": "Python 2",
   "language": "python",
   "name": "python2"
  },
  "language_info": {
   "codemirror_mode": {
    "name": "ipython",
    "version": 2
   },
   "file_extension": ".py",
   "mimetype": "text/x-python",
   "name": "python",
   "nbconvert_exporter": "python",
   "pygments_lexer": "ipython2",
   "version": "2.7.12"
  }
 },
 "nbformat": 4,
 "nbformat_minor": 0
}
