{
 "cells": [
  {
   "cell_type": "code",
   "execution_count": null,
   "metadata": {
    "collapsed": false
   },
   "outputs": [],
   "source": [
    "import boto3\n",
    "\n",
    "client = boto3.client('ec2')\n",
    "\n",
    "my_session = boto3.session.Session()\n",
    "my_region = my_session.region_name\n",
    "print 'My region: ', my_region\n",
    "\n",
    "print 'Regions:'\n",
    "response = client.describe_regions()\n",
    "regions = response['Regions']\n",
    "for r in regions:\n",
    "    print '\\t', r['RegionName']\n",
    "\n"
   ]
  },
  {
   "cell_type": "code",
   "execution_count": null,
   "metadata": {
    "collapsed": false
   },
   "outputs": [],
   "source": [
    "\n",
    "response = client.describe_regions()\n",
    "regions = response['Regions']\n",
    "for r in regions:\n",
    "    cfClient = boto3.client('cloudformation',region_name=r['RegionName'])\n",
    "    response = cfClient.list_stacks(\n",
    "        StackStatusFilter=['CREATE_COMPLETE']\n",
    "    )\n",
    "\n",
    "    print 'region {} has {} stacks'.format(r, len(response['StackSummaries']))"
   ]
  },
  {
   "cell_type": "code",
   "execution_count": null,
   "metadata": {
    "collapsed": true
   },
   "outputs": [],
   "source": []
  }
 ],
 "metadata": {
  "kernelspec": {
   "display_name": "Python 2",
   "language": "python",
   "name": "python2"
  },
  "language_info": {
   "codemirror_mode": {
    "name": "ipython",
    "version": 2
   },
   "file_extension": ".py",
   "mimetype": "text/x-python",
   "name": "python",
   "nbconvert_exporter": "python",
   "pygments_lexer": "ipython2",
   "version": "2.7.12"
  }
 },
 "nbformat": 4,
 "nbformat_minor": 0
}
